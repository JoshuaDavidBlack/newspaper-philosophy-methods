{
 "cells": [
  {
   "cell_type": "markdown",
   "metadata": {},
   "source": [
    "# Corpus Exploration Stage"
   ]
  },
  {
   "cell_type": "markdown",
   "metadata": {},
   "source": [
    "## Overview"
   ]
  },
  {
   "cell_type": "markdown",
   "metadata": {},
   "source": [
    "This notebook sets out some of the methods used for examining the corpus generated at any stage in the process of corpus construction. \n",
    "\n",
    "There are two special cases:\n",
    "1. The first iteration: all preprocessed data is passed in. This may be a lot of data compared to other steps in the process.\n",
    "2. The final iteration. Here the same methods of corpus exploration are used in order to derive some insight from the corpus rather than feeding in to the labelling phase.\n",
    "\n",
    "Both will cases will be given special consideration when relevant.\n",
    "\n",
    "The notebook covers:\n",
    "\n",
    "1. Initial candidate_corpus generation and loading of a pre-generated candidate corpus\n",
    "2. Exploration of the corpus by:\n",
    " 1. inspecting raw text,\n",
    " 2. concordancing,\n",
    " 3. collocation analysis,\n",
    " 4. cooccurrence networks, and\n",
    " 5. topic modelling.\n",
    "3. How to use the results of this exploration to move on to the labelling stage or to conclude the corpus construction process."
   ]
  },
  {
   "cell_type": "markdown",
   "metadata": {},
   "source": [
    "We first load our libraries."
   ]
  },
  {
   "cell_type": "code",
   "execution_count": 1,
   "metadata": {},
   "outputs": [],
   "source": [
    "import glob\n",
    "import html\n",
    "from multiprocessing import Pool\n",
    "import os\n",
    "import pickle\n",
    "import random\n",
    "import re\n",
    "import logging # Logging is useful to see the process of the topic models.\n",
    "logging.basicConfig(\n",
    "    format='%(asctime)s : %(levelname)s : %(message)s',\n",
    "    level=logging.INFO\n",
    ")\n",
    "\n",
    "from gensim import corpora\n",
    "from gensim.models import LdaMulticore, TfidfModel\n",
    "from gensim.matutils import corpus2csc\n",
    "\n",
    "from IPython.display import HTML\n",
    "from ipywidgets import interact, interactive, fixed, interact_manual\n",
    "import ipywidgets as widgets\n",
    "\n",
    "from jupyter_dash import JupyterDash\n",
    "import dash_cytoscape as cyto\n",
    "from dash import dcc\n",
    "from dash import html as dash_html\n",
    "from dash.dependencies import Input, Output, State\n",
    "\n",
    "from nltk.collocations import BigramCollocationFinder\n",
    "from nltk.corpus import stopwords, words\n",
    "from nltk.metrics import BigramAssocMeasures\n",
    "from nltk.text import Text\n",
    "from nltk.tokenize import RegexpTokenizer\n",
    "\n",
    "import numpy as np\n",
    "\n",
    "import pandas as pd\n",
    "\n",
    "# If importing NL_helpers (below) throws up a warning from NLTK, \n",
    "# you may need to run the following:\n",
    "# import nltk\n",
    "# nltk.download('stopwords')\n",
    "\n",
    "# Set random seed for reproducability\n",
    "random.seed(10)"
   ]
  },
  {
   "cell_type": "markdown",
   "metadata": {},
   "source": [
    "At various points, this notebook saves results. Since the same code is used during multiple iterations of the same process, it is sensible to register which iteration you are on here. This variable will be used in the filenames assigned to the output of the worksheet."
   ]
  },
  {
   "cell_type": "code",
   "execution_count": 2,
   "metadata": {},
   "outputs": [],
   "source": [
    "ITERATION = 1"
   ]
  },
  {
   "cell_type": "markdown",
   "metadata": {},
   "source": [
    "## Data Load"
   ]
  },
  {
   "cell_type": "markdown",
   "metadata": {},
   "source": [
    "We load in the corpus we are exploring. This will either be from a previous iteration of the corpus construction process, or will be the original dataset (or some subset of it). In this case, we start with a subset of the processed dataset containing matches for the regex expression 'philoso*'. This is more managable than loading the entire dataset and should help us to pick out at least some useful texts. In addition, any system which cannot improve on merely searching for the word 'philosophy' is hardly worth writing home about!"
   ]
  },
  {
   "cell_type": "markdown",
   "metadata": {},
   "source": [
    "### First Iteration: Starting with a Keyword Search"
   ]
  },
  {
   "cell_type": "markdown",
   "metadata": {},
   "source": [
    "This section implements a keyword search of the preprocessed data. The result will be saved as `candidate_corpus_0`."
   ]
  },
  {
   "cell_type": "code",
   "execution_count": 3,
   "metadata": {},
   "outputs": [],
   "source": [
    "dataset_path = '../Dataset/processed-data/' # Preprocessed data directory.\n",
    "filter_string = 'philoso*' # RE search string.\n",
    "lower = True # Whether to make all article text lower case.\n",
    "tarballs = glob.glob(dataset_path + '*.tar.gz') # Reads all dataset tarballs from\n",
    "# data directory."
   ]
  },
  {
   "cell_type": "markdown",
   "metadata": {},
   "source": [
    "We define a search function to return all articles with a match. If the argument `lower` is `True` then the article text is converted to lower case."
   ]
  },
  {
   "cell_type": "code",
   "execution_count": 4,
   "metadata": {},
   "outputs": [],
   "source": [
    "def search_text(dataframe, re_string, lower=False):\n",
    "    \"\"\"\n",
    "    Given pandas dataframe with 'Text' column as generated in preprocessing\n",
    "    stage, search for regular expression string within 'Text' column content\n",
    "    and return a list of the article codes containing the search string.\n",
    "    \"\"\"\n",
    "    article_codes = set()\n",
    "    for row in dataframe.itertuples():\n",
    "        for string in row.Text:\n",
    "\n",
    "            if lower:\n",
    "                string = string.lower()\n",
    "\n",
    "            match = re.search(re_string, string)\n",
    "\n",
    "            if match:\n",
    "                article_codes.add(row.Index)\n",
    "\n",
    "    return list(article_codes)\n",
    "\n",
    "\n",
    "\n",
    "def search_and_collect(\n",
    "        tarball_path, \n",
    "        dataset_path = dataset_path, \n",
    "        filter_string = filter_string,\n",
    "        lower = lower):\n",
    "    \"\"\" \n",
    "    This function reads the pickled dataframe contained at tarball_path\n",
    "    and calls the search_text, returning a filtered version of the dataframe\n",
    "    containing only articles which match the result.\n",
    "    \"\"\"\n",
    "    \n",
    "    # Load dataframe.\n",
    "    dataframe = pd.read_pickle(tarball_path)\n",
    "    \n",
    "    # Collect codes of matching articles.\n",
    "    match_codes = search_text(dataframe, filter_string, lower=lower)\n",
    "    \n",
    "    filtered_dataframe = dataframe.loc[match_codes]\n",
    "    \n",
    "    return filtered_dataframe"
   ]
  },
  {
   "cell_type": "code",
   "execution_count": 10,
   "metadata": {},
   "outputs": [],
   "source": [
    "if __name__ == '__main__': # This 'if' statement is a standard way \n",
    "    # of wrapping up loops for multiprocessing.\n",
    "    with Pool(processes=8) as pool:\n",
    "        match_dfs = pool.imap(search_and_collect, tarballs)\n",
    "        match_dfs = list(match_dfs)"
   ]
  },
  {
   "cell_type": "markdown",
   "metadata": {},
   "source": [
    "We concatentate the matches from each slice of the processed data. The result is saved as `candidate_corpus_0.tar.gz`. **Be careful running the following cell as it may override previous iterations.**"
   ]
  },
  {
   "cell_type": "code",
   "execution_count": 15,
   "metadata": {},
   "outputs": [],
   "source": [
    "keyword_df = pd.concat(match_dfs)\n",
    "keyword_df = keyword_df[~keyword_df.astype(str).duplicated()] # Delete duplicates if any exist.\n",
    "keyword_df.to_pickle(f'../Corpora/candidate_corpus_{ITERATION-1}.tar.gz')\n",
    "del keyword_df, match_dfs"
   ]
  },
  {
   "cell_type": "markdown",
   "metadata": {},
   "source": [
    "### Loading Candidate Corpus From Previous Iteration"
   ]
  },
  {
   "cell_type": "markdown",
   "metadata": {},
   "source": [
    "We load the candidate corpus we wish to explore. By default, this is the initial corpus as saved in the previous section."
   ]
  },
  {
   "cell_type": "code",
   "execution_count": 6,
   "metadata": {},
   "outputs": [],
   "source": [
    "candidate_corpus = pd.read_pickle(f'../Corpora/candidate_corpus_{ITERATION-1}.tar.gz')"
   ]
  },
  {
   "cell_type": "code",
   "execution_count": 7,
   "metadata": {},
   "outputs": [
    {
     "data": {
      "text/html": [
       "<div>\n",
       "<style scoped>\n",
       "    .dataframe tbody tr th:only-of-type {\n",
       "        vertical-align: middle;\n",
       "    }\n",
       "\n",
       "    .dataframe tbody tr th {\n",
       "        vertical-align: top;\n",
       "    }\n",
       "\n",
       "    .dataframe thead th {\n",
       "        text-align: right;\n",
       "    }\n",
       "</style>\n",
       "<table border=\"1\" class=\"dataframe\">\n",
       "  <thead>\n",
       "    <tr style=\"text-align: right;\">\n",
       "      <th></th>\n",
       "      <th>Title</th>\n",
       "      <th>Text</th>\n",
       "    </tr>\n",
       "  </thead>\n",
       "  <tbody>\n",
       "    <tr>\n",
       "      <th>LWM_18761012_ARTICLE7</th>\n",
       "      <td>UNTITLED</td>\n",
       "      <td>[An Order in Council fixes the following as th...</td>\n",
       "    </tr>\n",
       "    <tr>\n",
       "      <th>WC_18880228_ARTICLE30</th>\n",
       "      <td>PROFESSOR BLACKIE ON CHRISTIANITY.</td>\n",
       "      <td>[.On a Sunday night, Emeritus Professor Blac&amp;i...</td>\n",
       "    </tr>\n",
       "    <tr>\n",
       "      <th>LWM_18870520_ARTICLE29</th>\n",
       "      <td>SCRAPS.</td>\n",
       "      <td>[A new use for the tobacco plant is said to ha...</td>\n",
       "    </tr>\n",
       "    <tr>\n",
       "      <th>LWM_18761005_ARTICLE7</th>\n",
       "      <td>KINGST0N.</td>\n",
       "      <td>[(FBOM AW OCCASIONAL CORRESPONDENT.), Sept. 28...</td>\n",
       "    </tr>\n",
       "    <tr>\n",
       "      <th>WC_18920629_ARTICLE22</th>\n",
       "      <td>EDUCATIONAL INSTITUTE.</td>\n",
       "      <td>[Conference of the Wanganui ■^Httncb of the ab...</td>\n",
       "    </tr>\n",
       "    <tr>\n",
       "      <th>...</th>\n",
       "      <td>...</td>\n",
       "      <td>...</td>\n",
       "    </tr>\n",
       "    <tr>\n",
       "      <th>ESD_18970827_ARTICLE2</th>\n",
       "      <td>SPIRITUALISM AND THEOSOPHY.</td>\n",
       "      <td>[In the Choral Hall last night Colonel Oleott,...</td>\n",
       "    </tr>\n",
       "    <tr>\n",
       "      <th>ESD_18960125_ARTICLE54</th>\n",
       "      <td>CYCLING NOTES.</td>\n",
       "      <td>[[By Rover.], Correspondence and queries are i...</td>\n",
       "    </tr>\n",
       "    <tr>\n",
       "      <th>ST_18810304_ARTICLE18</th>\n",
       "      <td>THE SOUTHLAND JOCKEY CLUB AUTUMN MEETING.</td>\n",
       "      <td>[_ _TT~: — •\" ' . j :  FIRST DAY.\" [ Officers...</td>\n",
       "    </tr>\n",
       "    <tr>\n",
       "      <th>ESD_18781213_ARTICLE40</th>\n",
       "      <td>OUR LADIES' LETTER.</td>\n",
       "      <td>[Paris, October 26. ( Ditizens having placed t...</td>\n",
       "    </tr>\n",
       "    <tr>\n",
       "      <th>ESD_18730426_ARTICLE10</th>\n",
       "      <td>The Evening Star SATURDAY, APRIL 26, 1873.</td>\n",
       "      <td>[The French have a proverb that “ Truth does n...</td>\n",
       "    </tr>\n",
       "  </tbody>\n",
       "</table>\n",
       "<p>49060 rows × 2 columns</p>\n",
       "</div>"
      ],
      "text/plain": [
       "                                                             Title  \\\n",
       "LWM_18761012_ARTICLE7                                     UNTITLED   \n",
       "WC_18880228_ARTICLE30           PROFESSOR BLACKIE ON CHRISTIANITY.   \n",
       "LWM_18870520_ARTICLE29                                     SCRAPS.   \n",
       "LWM_18761005_ARTICLE7                                    KINGST0N.   \n",
       "WC_18920629_ARTICLE22                       EDUCATIONAL INSTITUTE.   \n",
       "...                                                            ...   \n",
       "ESD_18970827_ARTICLE2                  SPIRITUALISM AND THEOSOPHY.   \n",
       "ESD_18960125_ARTICLE54                              CYCLING NOTES.   \n",
       "ST_18810304_ARTICLE18    THE SOUTHLAND JOCKEY CLUB AUTUMN MEETING.   \n",
       "ESD_18781213_ARTICLE40                         OUR LADIES' LETTER.   \n",
       "ESD_18730426_ARTICLE10  The Evening Star SATURDAY, APRIL 26, 1873.   \n",
       "\n",
       "                                                                     Text  \n",
       "LWM_18761012_ARTICLE7   [An Order in Council fixes the following as th...  \n",
       "WC_18880228_ARTICLE30   [.On a Sunday night, Emeritus Professor Blac&i...  \n",
       "LWM_18870520_ARTICLE29  [A new use for the tobacco plant is said to ha...  \n",
       "LWM_18761005_ARTICLE7   [(FBOM AW OCCASIONAL CORRESPONDENT.), Sept. 28...  \n",
       "WC_18920629_ARTICLE22   [Conference of the Wanganui ■^Httncb of the ab...  \n",
       "...                                                                   ...  \n",
       "ESD_18970827_ARTICLE2   [In the Choral Hall last night Colonel Oleott,...  \n",
       "ESD_18960125_ARTICLE54  [[By Rover.], Correspondence and queries are i...  \n",
       "ST_18810304_ARTICLE18   [_ _TT~: — •\" ' . j :  FIRST DAY.\" [ Officers...  \n",
       "ESD_18781213_ARTICLE40  [Paris, October 26. ( Ditizens having placed t...  \n",
       "ESD_18730426_ARTICLE10  [The French have a proverb that “ Truth does n...  \n",
       "\n",
       "[49060 rows x 2 columns]"
      ]
     },
     "execution_count": 7,
     "metadata": {},
     "output_type": "execute_result"
    }
   ],
   "source": [
    "candidate_corpus"
   ]
  },
  {
   "cell_type": "markdown",
   "metadata": {},
   "source": [
    "Our candidate corpus of matches for 'philoso*' contains 49060 articles."
   ]
  },
  {
   "cell_type": "markdown",
   "metadata": {},
   "source": [
    "## Corpus Inspection"
   ]
  },
  {
   "cell_type": "markdown",
   "metadata": {},
   "source": [
    "A few steps are worth taking which do not require any natural language processing. We look at some simple distributions across locations, titles, and times. We then manually inspect a random collection of articles."
   ]
  },
  {
   "cell_type": "markdown",
   "metadata": {},
   "source": [
    "### Distributions"
   ]
  },
  {
   "cell_type": "markdown",
   "metadata": {},
   "source": [
    "When considering the distribution of articles in our candidate corpus, we will want to compare it to the distribution in the overall dataset. For this reason, we load the metadata produced in the previous step."
   ]
  },
  {
   "cell_type": "code",
   "execution_count": 8,
   "metadata": {},
   "outputs": [],
   "source": [
    "items_by_slice = pd.read_pickle('../Dataset/processed-data/meta/items_by_slice.tar.gz')"
   ]
  },
  {
   "cell_type": "markdown",
   "metadata": {},
   "source": [
    "We will also want to take the article codes and extract the newspaper and year information which it contains."
   ]
  },
  {
   "cell_type": "code",
   "execution_count": 9,
   "metadata": {},
   "outputs": [],
   "source": [
    "def add_title_and_year(df):\n",
    "    \"\"\"Add 'Newspaper', 'Year', and 'Date' column to dataframe with\n",
    "    'Text' column.\"\"\"\n",
    "    df['Newspaper'] = df.index.map(lambda x: x[0:x.find('_')])\n",
    "    df['Date'] = df.index.map(lambda x: x[x.find('_')+1:x.find('_')+9])\n",
    "    df['Year'] = df.index.map(lambda x: x[x.find('_')+1:x.find('_')+5])\n",
    "    df['Year'] = pd.to_numeric(df['Year'])"
   ]
  },
  {
   "cell_type": "markdown",
   "metadata": {},
   "source": [
    "We add this information to both the candidate corpus and the items by slice."
   ]
  },
  {
   "cell_type": "code",
   "execution_count": 10,
   "metadata": {},
   "outputs": [],
   "source": [
    "add_title_and_year(candidate_corpus)\n",
    "add_title_and_year(items_by_slice)"
   ]
  },
  {
   "cell_type": "markdown",
   "metadata": {},
   "source": [
    "We can look at the distribution of articles across time."
   ]
  },
  {
   "cell_type": "code",
   "execution_count": 11,
   "metadata": {},
   "outputs": [
    {
     "data": {
      "text/plain": [
       "<AxesSubplot:ylabel='Frequency'>"
      ]
     },
     "execution_count": 11,
     "metadata": {},
     "output_type": "execute_result"
    },
    {
     "data": {
      "image/png": "[encoded data removed]",
      "text/plain": [
       "<Figure size 432x288 with 1 Axes>"
      ]
     },
     "metadata": {
      "needs_background": "light"
     },
     "output_type": "display_data"
    }
   ],
   "source": [
    "candidate_corpus['Year'].plot(kind='hist')"
   ]
  },
  {
   "cell_type": "markdown",
   "metadata": {},
   "source": [
    "Compared to the original dataset:"
   ]
  },
  {
   "cell_type": "code",
   "execution_count": 12,
   "metadata": {},
   "outputs": [
    {
     "data": {
      "text/plain": [
       "<AxesSubplot:ylabel='Frequency'>"
      ]
     },
     "execution_count": 12,
     "metadata": {},
     "output_type": "execute_result"
    },
    {
     "data": {
      "image/png": "[encoded data removed]",
      "text/plain": [
       "<Figure size 432x288 with 1 Axes>"
      ]
     },
     "metadata": {
      "needs_background": "light"
     },
     "output_type": "display_data"
    }
   ],
   "source": [
    "items_by_slice['Year'].plot(kind='hist')"
   ]
  },
  {
   "cell_type": "markdown",
   "metadata": {},
   "source": [
    "Here we can pick out differences in coverage by year. It looks like a corpus created by simple regular expression keyword search has gaps between years which are smaller (relatively) than those in the complete dataset."
   ]
  },
  {
   "cell_type": "markdown",
   "metadata": {},
   "source": [
    "And by region:"
   ]
  },
  {
   "cell_type": "code",
   "execution_count": 16,
   "metadata": {},
   "outputs": [],
   "source": [
    "with open('../Dataset/processed-data/meta/code2region.pickle', 'rb') as fin:\n",
    "    code2region = pickle.load(fin)"
   ]
  },
  {
   "cell_type": "code",
   "execution_count": 17,
   "metadata": {},
   "outputs": [],
   "source": [
    "candidate_corpus['Region'] = candidate_corpus['Newspaper'].map(lambda x: code2region[x])\n",
    "items_by_slice['Region'] = items_by_slice['Newspaper'].map(lambda x: code2region[x])"
   ]
  },
  {
   "cell_type": "code",
   "execution_count": 18,
   "metadata": {},
   "outputs": [
    {
     "data": {
      "text/plain": [
       "<AxesSubplot:>"
      ]
     },
     "execution_count": 18,
     "metadata": {},
     "output_type": "execute_result"
    },
    {
     "data": {
      "image/png": "[encoded data removed]",
      "text/plain": [
       "<Figure size 432x288 with 1 Axes>"
      ]
     },
     "metadata": {
      "needs_background": "light"
     },
     "output_type": "display_data"
    }
   ],
   "source": [
    "candidate_corpus['Region'].value_counts().plot(kind='bar')"
   ]
  },
  {
   "cell_type": "code",
   "execution_count": 19,
   "metadata": {},
   "outputs": [
    {
     "data": {
      "text/plain": [
       "<AxesSubplot:>"
      ]
     },
     "execution_count": 19,
     "metadata": {},
     "output_type": "execute_result"
    },
    {
     "data": {
      "image/png": "[encoded data removed]",
      "text/plain": [
       "<Figure size 432x288 with 1 Axes>"
      ]
     },
     "metadata": {
      "needs_background": "light"
     },
     "output_type": "display_data"
    }
   ],
   "source": [
    "items_by_slice['Region'].value_counts().plot(kind='bar')"
   ]
  },
  {
   "cell_type": "markdown",
   "metadata": {},
   "source": [
    "The dominance of Otago is increased when searching for 'philoso*' and similar. We also see Wellingtom and Hawke's bay jumping up in prominence. Otago was the first place in New Zealand with an academic chair in philosophy. Perhaps it is unsurprising that the word and its near (lexographically) neighbours are more prominent in Otago newspapers than in those in other regions."
   ]
  },
  {
   "cell_type": "markdown",
   "metadata": {},
   "source": [
    "These distribution charts can be useful for either noticing features of the candidate corpus which may be either interesting results in their own right or indications that something is going wrong in the selection process. Perhaps, for instance, the classifier in the previous section has learnt how to recording articles from a particular newspaper rather than the actual subject matter than the researcher is interested in."
   ]
  },
  {
   "cell_type": "markdown",
   "metadata": {},
   "source": [
    "_TODO: improve these plots. In particular: by adding both data sources to the same plot rather than using these pandas shorthands._"
   ]
  },
  {
   "cell_type": "markdown",
   "metadata": {},
   "source": [
    "### Manual Inspection"
   ]
  },
  {
   "cell_type": "markdown",
   "metadata": {},
   "source": [
    "The following function is used to rendered articles in html."
   ]
  },
  {
   "cell_type": "code",
   "execution_count": 20,
   "metadata": {},
   "outputs": [],
   "source": [
    "def html_text(index, dataframe, boldface=None):\n",
    "    \"\"\"\n",
    "    Given article code, return html formatted text\n",
    "    containing both heading and body text. Optionally, boldface\n",
    "    matches of the boldface regex expression.\n",
    "    Assumes dataframe contains a 'Text' column containing lists of\n",
    "    strings as entries as well as 'Title', 'Newspaper' columns\n",
    "    containing strings and a 'Date' column containing integers.\n",
    "\n",
    "    I only escape html characters in the title and text. Newspaper and\n",
    "    data should not have any html in them. Leaving them unescaped\n",
    "    increases the chance of finding any such errors.\n",
    "    \"\"\"\n",
    "    newspaper = dataframe.loc[index, 'Newspaper']\n",
    "    date = dataframe.loc[index, 'Date']\n",
    "    title = html.escape(dataframe.loc[index, 'Title'])\n",
    "    text_blocks = dataframe.loc[index, 'Text']\n",
    "    text = ''\n",
    "    for block in text_blocks:\n",
    "        tagged_string = f'<p>{html.escape(block)}</p>'\n",
    "        text += tagged_string\n",
    "\n",
    "    if boldface:\n",
    "        match = re.search(boldface, text)\n",
    "        if match:\n",
    "            text = re.sub(boldface, f'<b>{match.group(0)}</b>', text)\n",
    "\n",
    "    article_string = f'<h3>{title}</h3><h4>{newspaper} - {date}</h4>{text}'\n",
    "\n",
    "    return HTML(article_string)"
   ]
  },
  {
   "cell_type": "markdown",
   "metadata": {},
   "source": [
    "We now use ipython to allow us to select different articles for view.\n",
    "\n",
    "At this point, it is important to keep a record of any articles which you definitely would want in your eventual corpus and those which you do not want. Note down the codes of any such articles as they will be useful in the labelling stage notebook."
   ]
  },
  {
   "cell_type": "markdown",
   "metadata": {},
   "source": [
    "We select a random sample of articles to view here. If there are known article codes which you would like to check for, they can be added to the list here."
   ]
  },
  {
   "cell_type": "code",
   "execution_count": 21,
   "metadata": {},
   "outputs": [],
   "source": [
    "sample_indices = random.sample(list(candidate_corpus.index), 100)"
   ]
  },
  {
   "cell_type": "code",
   "execution_count": 22,
   "metadata": {
    "scrolled": false
   },
   "outputs": [
    {
     "data": {
      "application/vnd.jupyter.widget-view+json": {
       "model_id": "a185bf8b08fd40c195f1bb054fb818a0",
       "version_major": 2,
       "version_minor": 0
      },
      "text/plain": [
       "interactive(children=(Dropdown(description='index', options=('AS_18831027_ARTICLE37', 'AS_18831127_ARTICLE38',…"
      ]
     },
     "metadata": {},
     "output_type": "display_data"
    },
    {
     "data": {
      "text/plain": [
       "<function __main__.html_text(index, dataframe, boldface=None)>"
      ]
     },
     "execution_count": 22,
     "metadata": {},
     "output_type": "execute_result"
    }
   ],
   "source": [
    "interact(\n",
    "    html_text, \n",
    "    index=sorted(sample_indices), \n",
    "    dataframe=fixed(candidate_corpus), \n",
    "    boldface=fixed('philoso*\\\\w*')\n",
    ")"
   ]
  },
  {
   "cell_type": "markdown",
   "metadata": {},
   "source": [
    "Looking through a sample here is likely to reveal some pretty abysmal OCR. We also see that the matches for 'philoso*' contain all sorts of material. We are unlikely to be interested in descriptions of people as philosophical, meaning calm or resigned (e.g. TS_18940414_ARTICLE10), or reference to 'philosophical instruments' meaning laboratory devices (e.g. WT_18721217_ARTICLE8). A letter in the Fielding Star encouraging readers to attend public lectures on phrenology as a 'system of mental philosophy' is also indicitive of the wide and messy range of things which might count as material on philosophy in this dataset (FS_18881002_ARTICLE13). On the edge, we might find an argument for stronger penalties for adulterating alcohol of the grounds that intellect (presumably) is our noblest faculty (THA_18870426_ARTICLE16). We would definitely want the, of its time, discussion of philosophy in the Arabic world presented in ME_18890125_ARTICLE33."
   ]
  },
  {
   "cell_type": "markdown",
   "metadata": {},
   "source": [
    "## Concordancing"
   ]
  },
  {
   "cell_type": "markdown",
   "metadata": {},
   "source": [
    "It can be useful to generate concordances for keywords. This allows us to see these words in the context of our corpus.\n",
    "\n",
    "This will be done using `NLTK`. We tokenise the text, but do not filter for stop words at this stage.\n",
    "\n",
    "The tokenizer is `RegexpTokenizer` from `NLTK`. It uses a word definition of any combination of the letters a-z and the appostrophe. This will, for instance, remove any text with numbers in it (including, e.g., any words with OCR errors leading \"o\" to become \"0\")."
   ]
  },
  {
   "cell_type": "code",
   "execution_count": 9,
   "metadata": {},
   "outputs": [],
   "source": [
    "tokenizer = RegexpTokenizer(r\"[a-z']+\")\n",
    "\n",
    "candidate_corpus['Tokenised'] = candidate_corpus['Text'].apply(\n",
    "    lambda x: tokenizer.tokenize(' '.join(x).lower())\n",
    ")"
   ]
  },
  {
   "cell_type": "markdown",
   "metadata": {},
   "source": [
    "We now use a very simple flat list representation of a subset of the corpus (1000 articles). This will be queried for words in context."
   ]
  },
  {
   "cell_type": "code",
   "execution_count": 19,
   "metadata": {},
   "outputs": [],
   "source": [
    "flat_list = []\n",
    "for tokens in candidate_corpus['Tokenised'].sample(n=1000, random_state=1):\n",
    "    for token in tokens:\n",
    "        flat_list.append(token)\n",
    "sample_text = Text(flat_list)\n",
    "del flat_list"
   ]
  },
  {
   "cell_type": "markdown",
   "metadata": {},
   "source": [
    "We can now query this `NLTK` `Text` object:"
   ]
  },
  {
   "cell_type": "code",
   "execution_count": 20,
   "metadata": {},
   "outputs": [
    {
     "name": "stdout",
     "output_type": "stream",
     "text": [
      "Displaying 150 of 398 matches:\n",
      " and keep on lookin' happy that's good clean philosophy for 'a man and if you do pass out before the\n",
      "ing who consider themselves qcamged to teach philosophy through the medinm of pointed personalltias \n",
      "m auguste comte the foun der of the positive philosophy draws some very encouraging conclusions from\n",
      "ed success without acquiring also a stock of philosophy and ability to usa it must be the necessity \n",
      "y means of everything that modem science and philosophy can teach to re move all the obstacles to co\n",
      "ss in the night spent her time over books of philosophy although cotton spinning was started in japa\n",
      " this iz ati age of kulture an age ov fikool philosophy and while we have mme literary profuseuess i\n",
      " suppose be accused of morbid rancour or the philosophy of dissatisfaction only loving hearts who ha\n",
      "t but royal hook under the garb of ' clothes philosophy ' he manifold ly sets forth the fact diogene\n",
      "ollins lectured on the bible it morality aud philosophy and in the evening he took for his subject f\n",
      "e thing ' f the blood ' avhich is beyond onr philosophy to explain induced me to make tip my swag an\n",
      "uart of milk you sold the subject of natural philosophy was dropped right there detroit free press '\n",
      "plato the magnificent writer and bacon whose philosophy was condensed in two words utility and progr\n",
      "e we should say that the aim of too platonic philosophy was lo exalt man into a god the aim of the b\n",
      "exalt man into a god the aim of the baconian philosophy was to provide man with what he requires whi\n",
      " continues to be man the aim of the platonic philosophy was to raise us far above vulgar wants the a\n",
      " within bow shof and hit ib in the white the philosophy of plato began in words and ended ia words h\n",
      "f plato began in words and ended ia words he philosophy of bicon began iv observation pnd endod in a\n",
      "rised by the title of the book which was the philosophy of the unknown they were not science at all \n",
      "ofessors of moral theology two professors of philosophy a professor of greek and hebrew n pro fessor\n",
      "gh italy and studied greek latin mathematics philosophy and theology and on his return to his native\n",
      "aus il beware lest any man spoil you through philosophy and vain deceit after the tradition of men a\n",
      " to the eternal laws of tho faat was no cold philosophy however carlylo teemed with religious emotio\n",
      " by the creed of the homoousian in which the philosophy of modern times sometimes appears to find a \n",
      "rder to obtain a first place both in natural philosophy and philology the student must be equally pr\n",
      "j as well as familiar objects for there is a philosophy of reels not known to the majority my dear s\n",
      " captain cain viewed in the light of science philosophy or common sense there is without doubt a nex\n",
      " had not been there there is a great deal of philosophy in boiling your peas and there are few so ha\n",
      "in it that idea of justice which proverbi il philosophy not tupper's declares should always precede \n",
      "ey con sume mostly fiction poetry science or philosophy r '' mostly fiction thty ara great novel rea\n",
      "nimate ins industry the antidotes with which philosophy has medicated the cup of life though they ca\n",
      " constrained to say that this latter exalted philosophy conflicted with tbe ideal of national life a\n",
      "e quack is to the physician the pretender to philosophy is to the weklington presents a striking con\n",
      "ter and cheese that were not dreamt of m the philosophy of our fathers farmers and their women folks\n",
      "rd is on the wing omar's is not a satisfying philosophy with the following view of existence a momen\n",
      "d ceitain books men tioning amongst others ' philosophy the plan of salvation dr nelson on infidel i\n",
      "the came of chw there is a fund of practical philosophy he who trains his mind early in life to the \n",
      "raphy natural history and elementary natural philosophy a short course in logic with elective hebrew\n",
      "religions in which we may include schools of philosophy they all evince the same tendencies to rise \n",
      "n the matter of politics social organisation philosophy and religion and observe that the original t\n",
      " a good di gestion have much to do with that philosophy with which we accept the discipline of fate \n",
      "ious parenthesis judiciously appropriated to philosophy to fancy and to humor to the eloquent perora\n",
      "ire succeeded empire philoso ohy gave way to philosophy paganism sublimate or ivas debased everythin\n",
      "re prove themselves the exponents of a sound philosophy and a practical policy ' if not we shall alm\n",
      "ht at marathon and thermopyke and cultivated philosophy at athens a machine for writing spoken words\n",
      "d themselves in literature art com merce and philosophy and by their energy caution and perseverance\n",
      "rogress likely to be mado correspondent till philosophy ok dkkss shakespeare who km ill finalities w\n",
      "dicating huw horoiighly lie midui stood tliu philosophy of clothing i'tho apparel he sajs oft procla\n",
      "u an uwkwardalr the foil miif rcmaikb on the philosophy of diuss are ad inn ii l lint they require t\n",
      " unable to defend it here we have the simple philosophy of the conquests of his tory touched with na\n",
      "ve their unhappy condition they have not the philosophy to accept their discomfi ture as one which h\n",
      "dancy over self which the inspired father of philosophy hath said is greater than the victory of him\n",
      "friars in he became successively examiner in philosophy at st andrews and professor of divinity and \n",
      " not prominent in science nor in arts nor in philosophy yet sways the minds of so many millions of m\n",
      "al man who cares more for bis science or hia philosophy than for his fellow men the morally great tr\n",
      "ircum stances there appears to bo much sound philosophy in their choice to the honest man who pays h\n",
      "in their leution to science and the monistic philosophy ads teaman steambh the claud hamil ton arriv\n",
      "is that science can be speculative as either philosophy or theology tho other is that though natural\n",
      " too much durham dunlop docs tho same in his philosophy of the bath hut gives much valuable informat\n",
      "d a country but the measures them selves the philosophy of resistance is suggested in the couplet of\n",
      "een aptly compared to a battle iv commerce m philosophy and eyea m art this was true there being sch\n",
      "r than martyrdom the difficulties of infidel philosophy which the preacher said were overrated and h\n",
      "oul and a vain desire joaqo'in milleb teacup philosophy good resolutions are about the only buried t\n",
      "al maonsell mental science senior history of philosophy first class john andrew johnson h p oowi sec\n",
      "ave we in burns to place beside the soul fed philosophy of in mcmoriam or the monumental grandeur of\n",
      "o what will happen after the bill adopts the philosophy of sairey gamp aud seeks not to proticipate \n",
      "a there i more in it than ia drewit of in my philosophy there is a new feature about tho e'ection an\n",
      "en tatives of that peculiar kind of abstract philosophy for which germany has long been remarkable a\n",
      "y you measure all things by your standard of philosophy may i ask if you have ever heard the cuckoo \n",
      "ast must feel ashamed it b an axiom of moral philosophy that the result is the only sure test of all\n",
      "ther a profes sor of mathematics and natural philosophy had appointed lord lyttelton professor black\n",
      " as to professor of mathe matics and natural philosophy for the can terbury college a gentleman is r\n",
      "ired ns professor ni mathematics and natural philosophy f o college established by the provincial go\n",
      "glish literature and mathematics aud natural philosophy the gentlemen chosen should be young and one\n",
      "ead germs in jelly and bad in everything the philosophy of modern life is to take stomachic risks an\n",
      " wrangler has taken the degree of doc tor of philosophy in germany miss dora came daughter of mr w s\n",
      " results of the teach ings of that so called philosophy of which voltaire d'alembert and diderot wer\n",
      "ness and a fair amount of sound common sense philosophy will carry people a long way in this roligh \n",
      "own to the present time ' i believe that the philosophy of the evolu tionists embodies a vast amount\n",
      "mportant of the conclusions involved in that philosophy the high priests of the evolutionist school \n",
      "t may not be the niost modem view of secular philosophy but it is such at general opinion that it ou\n",
      "eaven and earth than are dreamt'' 'of in our philosophy ' this observation furnishes another proof o\n",
      "e proverbs of solomon tupper's ' proverbial' philosophy and cobbett's advice to young men and women \n",
      "mething that cut me hor ribly in spite of my philosophy i can tell you that you advanced a certain s\n",
      "shop nevill would consent to discourse moral philosophy in dumb show unless upheld by the comfortabl\n",
      "hat hardly dovetail into any known system of philosophy he then goes on to relate two men tal impres\n",
      " heaven and earth than were dreamed of in my philosophy he then tells of a striking experi ence told\n",
      "ave been from the point of view of political philosophy wise or unwise but which m immediate purpose\n",
      "d ' i thought it was rather a curious bit of philosophy mr harris like all the other wit nesses at t\n",
      "be ancient the female modern i don't see the philosophy of the arrangement f but laughed the captain\n",
      " geography voya cs and travels l oo theology philosophy mythology folklore i political and social sc\n",
      "us professor who in mathe matics and natural philosophy has so long held a foremost place and has no\n",
      " completed in the year it contained religion philosophy jurisprudence medicine history and rules for\n",
      " deemed valuable in elucidation of whitman s philosophy of life or in exposition of his poetry and p\n",
      " old age so too was carlyle if we except bis philosophy the least interesting part of aim mr hardy t\n",
      "sponsibility was also recognised in christ s philosophy the recognition of this indi vidnal responsi\n",
      " as the apostle paul of theosophy an archaic philosophy which taking its rise m the remote regions o\n",
      "r was much attracted by the study of eustern philosophy the reason why colonel olcott aban dntiod hi\n",
      "d long upon the strange problems of oriental philosophy ho had wondered whether the mysterious teach\n",
      "olonel olcott was a fast adherent to the new philosophy bo strangely con rmed but when tho mahatma r\n",
      "fair admirers the leading prin ciples in tho philosophy of acting we find rarely realised in any one\n",
      " nothing but memory to clasp there may be no philosophy in yonder dutch villain but surely he has al\n",
      "rayleigh the well known professor of natural philosophy has informed the british association for the\n",
      "neral impression of the public here there is philosophy even in running well just as there is philos\n",
      "osophy even in running well just as there is philosophy in clothes the policy is so acceptable that \n",
      "h extra subjects being algebra latin natural philosophy c the far more important question of how the\n",
      "ns euclid three books mechanical and natural philosophy mechanical and natural philosophy popular ch\n",
      "nd natural philosophy mechanical and natural philosophy popular chemistry astronomy botany latin gra\n",
      "there was a great amount of the real natural philosophy manifested in these sheetings after the cows\n",
      " explained more than once in this column tho philosophy and physiology of faith' cures as every doct\n",
      "sh nor too often lest he count thee humorous philosophy v astbonomy exceedingly in teresting are the\n",
      "etter for example as an illustra tion of the philosophy of prayer than the story of the tender heart\n",
      "riminal six mouths hard on a course of moral philosophy should be enough to transform a jab z balfou\n",
      " creed of unitology but per haps i carry ray philosophy deeper into the penetralia of life than most\n",
      "for flaubert the spiritual world of faith or philosophy does not exist it is a chimera religion as i\n",
      "e published presently entitled ' genesis and philosophy ' as to the comparative anatomy mentioned by\n",
      "ity council as professor of mental and moral philosophy mr fulton de olined to vote mr fraer was ele\n",
      "lic il union church waitahuna sub ject ' the philosophy of life the lecturer after pointing out the \n",
      "s perhaps in the whole history of science or philosophy had so great a revolution in thought or opin\n",
      "move socrates from his ethics plato from his philosophy buddha from his religion and mahomet from hi\n",
      "of seriously it might be that a whole cosmic philosophy awaited the birth of this star the star was \n",
      " also enable them to understand somewhat the philosophy of american civilisation for with all respec\n",
      "logy chemistry political economy and natural philosophy if it is to be a carpenter but if its parent\n",
      "is ing was that it should be thought new the philosophy of robert elsmere had bsen long before the w\n",
      "uckland has received the degree of doctor of philosophy from the university of loipsic it is reporte\n",
      "r aliiic linw tlmniuklih he urukrhtociil llu philosophy of clothing ilii apparel if stijn oft pioiln\n",
      " and without demur the fact ot their lack of philosophy remained but it was a nasty bit of wtrk all \n",
      " its wonted brilliancy it would need all the philosophy of the writer named with the patience of job\n",
      "ght to enable one to resume work without the philosophy and patience of either we have had to put up\n",
      "gin of things gives us a piece of the finest philosophy i have read for some time it shows that be h\n",
      "k that the truths of the bible wnl from such philosophy l am ac i h mawhinay smell and memory the ce\n",
      " xodnq man ' don't talk to me of religion or philosophy i what light do they throw on the problem of\n",
      "wered in by the holy see to grant degrees in philosophy and theology the school of law of georgetown\n",
      "llege he was appointed to the chair of moral philosophy at glasgow and has occupied it to the presen\n",
      "agination sir it was the boast of the y toic philosophy to make man unshaken by calamity and un date\n",
      "lease they put on their dry thin rs feminine philosophy dear me mrs spriggs how is it you always hav\n",
      "r of paolo malatesta expatiated on practical philosophy ' morning has its lesson and evening its lec\n",
      "g the moat elementary principles of na tural philosophy we tell her that if she j will open the wind\n",
      "rnor a wise article with a flavor of history philosophy a strong one of common sense and j ust that \n",
      " of whom entered for the medical classes for philosophy and one for law eleven were swiss russian am\n",
      " little as being better than nothing british philosophy teaches people to like what they have when t\n",
      "unfortunately the french do nob possess that philosophy success turns their heads and reverses nave \n",
      "e to the best student in the class f natural philosophy and te the student in tbe class of english l\n",
      "s rose and fell codes of laws and systems of philosophy were developed the greatest progress in the \n",
      "pr ze in the claesea of mathemfttics nitural philosophy and phyr ic and political econ omy and merca\n",
      " nature has been more than a match for fancy philosophy and metaphysics and where one boy with such \n",
      "alism would emasculate them and an epicurean philosophy would trample them in the dough we roj iice \n",
      " i only make sure that a graduate in arts or philosophy or law or medicino was truly an educated man\n",
      "r stition to find that in spite of all cheap philosophy the popular imagi nation still insists on be\n",
      " utter disregard of the principles of mental philosophy and third because they were utterly unauthen\n"
     ]
    }
   ],
   "source": [
    "SEARCH_TERM = 'philosophy' # Change this variable to explore different terms in context.\n",
    "\n",
    "sample_text.concordance(SEARCH_TERM, width=100, lines=150)"
   ]
  },
  {
   "cell_type": "markdown",
   "metadata": {},
   "source": [
    "The use of philosophy here shows some material that looks sensible for a corpus investigating philosophical writing in these newspapers. We see discussions of key figures (Comte, Plato, Bacon). We also seem to see discussions of philosophy of religion, science, and politics. However, there are also indications of problems such as poor OCR, passing references to philosophy, use of 'philosophy' in pieces that look like the might be fictional (e.g. the first entry)."
   ]
  },
  {
   "cell_type": "markdown",
   "metadata": {},
   "source": [
    "If the above code cell is rerun using the search term 'lecture', we see that there are lots of reports of lectures in the corpus."
   ]
  },
  {
   "cell_type": "markdown",
   "metadata": {},
   "source": [
    "The advantage of quick scanning of concordance results is that they provide clues to the kind of pieces which are slipping through the cracks of our classifiers. "
   ]
  },
  {
   "cell_type": "markdown",
   "metadata": {},
   "source": [
    "As the `Text` object takes up a lot of RAM, it is sensible to ensure that it is deleted from memory here."
   ]
  },
  {
   "cell_type": "code",
   "execution_count": 21,
   "metadata": {},
   "outputs": [],
   "source": [
    "del sample_text"
   ]
  },
  {
   "cell_type": "markdown",
   "metadata": {},
   "source": [
    "## Collocations"
   ]
  },
  {
   "cell_type": "markdown",
   "metadata": {},
   "source": [
    "Another way of determining the content of the candidate corpus is to consider what kind of words appear within a certain window of a search term. That is, to investigate *collocations* of search terms."
   ]
  },
  {
   "cell_type": "markdown",
   "metadata": {},
   "source": [
    "We measure the significant of collocations using _[pointwise mutual information](https://en.wikipedia.org/wiki/Pointwise_mutual_information)_. This is the probability of word 1 and word 2 appearing together divided by the product of the probabilities of word 1 and word 2."
   ]
  },
  {
   "cell_type": "markdown",
   "metadata": {},
   "source": [
    "Again, we use `NLTK`. Unlike in concordancing, we will remove a set of stopwords from our tokenised text. This reduces the computational load and means that we will focus on words which convey information about the content of the text rather than function words. We use the `NLTK` default English stopwords list."
   ]
  },
  {
   "cell_type": "code",
   "execution_count": 11,
   "metadata": {},
   "outputs": [],
   "source": [
    "stopword_set = set(stopwords.words('english'))"
   ]
  },
  {
   "cell_type": "code",
   "execution_count": null,
   "metadata": {},
   "outputs": [],
   "source": [
    "# We start with a Text object representation of the whole corpus.\n",
    "flat_list = []\n",
    "for tokens in candidate_corpus['Tokenised']:\n",
    "    for token in tokens:\n",
    "        flat_list.append(token)\n",
    "all_text = Text(flat_list)\n",
    "del flat_list"
   ]
  },
  {
   "cell_type": "code",
   "execution_count": null,
   "metadata": {},
   "outputs": [],
   "source": [
    "window_size = 5 # Change the size of the window of words before and after the search term.\n",
    "search_term = 'philosophy' # Change to explore a different term.\n",
    "\n",
    "# Collect all bigrams in window size.\n",
    "bigrams = BigramCollocationFinder.from_words(all_text, window_size = window_size) "
   ]
  },
  {
   "cell_type": "markdown",
   "metadata": {},
   "source": [
    "At this point we define and apply two filtering functions. One removes all bigrams containing stopwords, the other removes all those which do not contain our search term. We also demand that all words we consider appear at least 10 times in our candidate corpus."
   ]
  },
  {
   "cell_type": "code",
   "execution_count": null,
   "metadata": {},
   "outputs": [],
   "source": [
    "term_filter = lambda *w: search_term not in w\n",
    "stopword_filter = lambda w: w in stopword_set"
   ]
  },
  {
   "cell_type": "code",
   "execution_count": null,
   "metadata": {},
   "outputs": [],
   "source": [
    "bigrams.apply_ngram_filter(term_filter)\n",
    "bigrams.apply_word_filter(stopword_filter)\n",
    "bigrams.apply_freq_filter(10)"
   ]
  },
  {
   "cell_type": "code",
   "execution_count": null,
   "metadata": {},
   "outputs": [],
   "source": [
    "bm = BigramAssocMeasures() # Load association measures from NLTK\n",
    "pmi_ws5 = bigrams.nbest(bm.pmi, 50) # Collect 50 best bigrams by pointwise mutual information.\n",
    "pmi_ws5 # List the top 50 bigrams."
   ]
  },
  {
   "cell_type": "markdown",
   "metadata": {},
   "source": [
    "These results are mostly modifiers to the word 'philosophy'. Some interesting terms, such as 'zetetic', which likely refers to the 19th century flat earth movement, appear (e.g. [this](https://paperspast.natlib.govt.nz/newspapers/TO18891026.2.37.10?query=%22zetetic+philosophy%22&snippet=true) satirical piece). This provides another opportunity for strange results to be looked into. Any articles which are particularly desireable or non-desirable should be noted for possible use at the labelling stage."
   ]
  },
  {
   "cell_type": "code",
   "execution_count": null,
   "metadata": {},
   "outputs": [],
   "source": [
    "del all_text, bigrams"
   ]
  },
  {
   "cell_type": "markdown",
   "metadata": {},
   "source": [
    "## Cooccurrence Networks"
   ]
  },
  {
   "cell_type": "markdown",
   "metadata": {},
   "source": [
    "Where collocations reveal words which tend to appear near to one another, cooccurrence networks consider words which appear together in a given document."
   ]
  },
  {
   "cell_type": "markdown",
   "metadata": {},
   "source": [
    "We create networks of cooccurrence within candidate corpora. For this, and for the topic modelling approach which follows, we will switch from `NLTK` to `gensim` and from `ipython` widgets to `Dash`."
   ]
  },
  {
   "cell_type": "markdown",
   "metadata": {},
   "source": [
    "### Dictionary Creation"
   ]
  },
  {
   "cell_type": "markdown",
   "metadata": {},
   "source": [
    "We need to create a dictionary of words whose cooccurences will be kept track of. There are a few different options here. One option which will be unfeasible in the case of a large corpus and pervasive OCR errors is to just collect all of the 'words' in the corpus. Even the introduction of a restriction that the words appear in some small number of documents will be insufficient for this."
   ]
  },
  {
   "cell_type": "markdown",
   "metadata": {},
   "source": [
    "One way to proceed is to restict ourselves to words in the `NLTK` `words.words()` list."
   ]
  },
  {
   "cell_type": "code",
   "execution_count": 10,
   "metadata": {},
   "outputs": [],
   "source": [
    "word_set = set(words.words())"
   ]
  },
  {
   "cell_type": "markdown",
   "metadata": {},
   "source": [
    "According to the `NLTK` documentation this word list comes from Openoffice.org and other sources. The readme points to [this](https://en.wikipedia.org/wiki/Words_(Unix)) Wikipedia page. From this we conclude that we are dealing with a basic English spell checker word list. The following cell shows that it has around 236,000 words."
   ]
  },
  {
   "cell_type": "code",
   "execution_count": 24,
   "metadata": {},
   "outputs": [
    {
     "data": {
      "text/plain": [
       "235892"
      ]
     },
     "execution_count": 24,
     "metadata": {},
     "output_type": "execute_result"
    }
   ],
   "source": [
    "len(word_set)"
   ]
  },
  {
   "cell_type": "markdown",
   "metadata": {},
   "source": [
    "We begin by filtering out any 'words' which are one or two characters long as these are very unlikely to be content words. We also remove anything not in the word list."
   ]
  },
  {
   "cell_type": "code",
   "execution_count": 12,
   "metadata": {},
   "outputs": [],
   "source": [
    "candidate_corpus['Tokenised'] = candidate_corpus['Tokenised'].map(\n",
    "    lambda x: [word for word in x if len(word)>2 and not word in stopword_set and word in word_set]\n",
    ")"
   ]
  },
  {
   "cell_type": "markdown",
   "metadata": {},
   "source": [
    "The topic modelling package `gensim` offers a dictionary creation method which takes a corpus and some parameters and returns a dictionary."
   ]
  },
  {
   "cell_type": "code",
   "execution_count": 26,
   "metadata": {},
   "outputs": [],
   "source": [
    "# Require a word to be in 50 documents to be included in dictionary.\n",
    "# This can be changed dependent on amount of RAM available.\n",
    "minimum_in_docs = 50 \n",
    "\n",
    "# Require a word to be in less than 25% of the documents.\n",
    "max_prop = 0.25\n",
    "\n",
    "# Establish dictionary, remove extremes, store more compactly.\n",
    "dictionary = corpora.Dictionary(candidate_corpus['Tokenised'])\n",
    "dictionary.filter_extremes(no_below=minimum_in_docs, no_above=max_prop)\n",
    "dictionary.compactify()"
   ]
  },
  {
   "cell_type": "markdown",
   "metadata": {},
   "source": [
    "The dictionary in the first iteration of the project contains 17201 words."
   ]
  },
  {
   "cell_type": "code",
   "execution_count": 27,
   "metadata": {},
   "outputs": [
    {
     "name": "stdout",
     "output_type": "stream",
     "text": [
      "Dictionary(17201 unique tokens: ['absence', 'atmospheric', 'baby', 'bale', 'bom']...)\n"
     ]
    }
   ],
   "source": [
    "print(dictionary)"
   ]
  },
  {
   "cell_type": "markdown",
   "metadata": {},
   "source": [
    "It is usually a good idea to save your dictionary for later use."
   ]
  },
  {
   "cell_type": "code",
   "execution_count": null,
   "metadata": {},
   "outputs": [],
   "source": [
    "dictionary.save(f'../Dictionaries/candidate_corpus_{ITERATION-1}.dict')"
   ]
  },
  {
   "cell_type": "markdown",
   "metadata": {},
   "source": [
    "***NB:*** There are alternative methods for generating dictionaries available. One of our main choice points was how to reduce ourselves to a more manageable number of words. We might want, for instance, to have just proper nouns or named entities. ***TODO: create appendix notebook with dictionary options.***"
   ]
  },
  {
   "cell_type": "markdown",
   "metadata": {},
   "source": [
    "### Cooccurrence Tables"
   ]
  },
  {
   "cell_type": "markdown",
   "metadata": {},
   "source": [
    "We now use this dictionary to generate a table of cooccurrences. This will be, in the case of the first iteration, a 17201 x 17201 matrix. Here we are getting in to serious RAM usage."
   ]
  },
  {
   "cell_type": "markdown",
   "metadata": {
    "slideshow": {
     "slide_type": "slide"
    }
   },
   "source": [
    "It may be useful to load a previously generated dictionary. If so, do it here:"
   ]
  },
  {
   "cell_type": "code",
   "execution_count": 13,
   "metadata": {},
   "outputs": [
    {
     "name": "stderr",
     "output_type": "stream",
     "text": [
      "2021-11-17 14:27:30,960 : INFO : loading Dictionary object from ../Dictionaries/candidate_corpus_0.dict\n",
      "2021-11-17 14:27:30,977 : INFO : Dictionary lifecycle event {'fname': '../Dictionaries/candidate_corpus_0.dict', 'datetime': '2021-11-17T14:27:30.977040', 'gensim': '4.1.2', 'python': '3.8.12 (default, Oct 12 2021, 03:01:40) [MSC v.1916 64 bit (AMD64)]', 'platform': 'Windows-10-10.0.19041-SP0', 'event': 'loaded'}\n"
     ]
    }
   ],
   "source": [
    "dictionary = corpora.Dictionary.load(f'../Dictionaries/candidate_corpus_{ITERATION-1}.dict')"
   ]
  },
  {
   "cell_type": "markdown",
   "metadata": {},
   "source": [
    "It is convenient to define a corpus class for use with gensim. This allows us to iterate through items in the corpus. The class is initiated with the `candidate_corpus` dataframe and the dictionary we have just generated."
   ]
  },
  {
   "cell_type": "code",
   "execution_count": 14,
   "metadata": {},
   "outputs": [],
   "source": [
    "class Corpus():\n",
    "    \"\"\"\n",
    "    Corpus class for use with gensim for topic modelling.\n",
    "\n",
    "    Input: 1) pandas dataframe containing 'Tokenised' column with\n",
    "    tokenised texts for each article.\n",
    "        2) Dictionary for use with gensim.\n",
    "\n",
    "    Main benefit is use of iterator method.\n",
    "    \"\"\"\n",
    "\n",
    "    def __init__(self, corpus_df, dictionary):\n",
    "        self.items = corpus_df\n",
    "        self.dictionary = dictionary\n",
    "        if 'BOW' not in self.items.columns:\n",
    "            self.generate_bow()\n",
    "\n",
    "    def __iter__(self):\n",
    "        for bag in self.items['BOW']:\n",
    "            yield bag\n",
    "\n",
    "    def __len__(self):\n",
    "        \"\"\"Returns number of corpus items.\"\"\"\n",
    "        return len(self.items)\n",
    "\n",
    "    def generate_bow(self):\n",
    "        \"\"\"\n",
    "        Generates bag of words representation of tokenised text and adds\n",
    "        it to item dataframe as column 'BOW'.\n",
    "        \"\"\"\n",
    "        bags = {}\n",
    "        for index, value in self.items['Tokenised'].iteritems():\n",
    "            tokenised = value\n",
    "            bags[index] = [self.dictionary.doc2bow(tokenised)]\n",
    "        bags_df = pd.DataFrame.from_dict(\n",
    "            bags,\n",
    "            orient='index',\n",
    "            dtype = object,\n",
    "            columns=['BOW']\n",
    "            )\n",
    "        self.items = self.items.join(bags_df)"
   ]
  },
  {
   "cell_type": "markdown",
   "metadata": {},
   "source": [
    "When we initiate the corpus class, it generates a 'BOW' column in our corpus dataframe. This contains word ids from the dictionary and frequency counts."
   ]
  },
  {
   "cell_type": "code",
   "execution_count": 15,
   "metadata": {},
   "outputs": [],
   "source": [
    "gensim_candidate_corpus = Corpus(candidate_corpus, dictionary)"
   ]
  },
  {
   "cell_type": "markdown",
   "metadata": {},
   "source": [
    "In addition to a straight-forward bag-of-words representation of our documents by word frequency, we also look at the representation after [TF-IDF transformation](https://en.wikipedia.org/wiki/Tf%E2%80%93idf).The TF-IDF transformation multiplies the frequency of a term in a document by the log of the ratio of the total number of documents to the number which contain the term. That is, it weights the appearance of words which are rare in the corpus more highly than those which are common across the corpus. The underlying thought here is that words which appear in a document but which are not common across the corpus tell us more about the content of the document than words which are common across the corpus."
   ]
  },
  {
   "cell_type": "markdown",
   "metadata": {},
   "source": [
    "We will here define a function which we can use for both the bag-of-words and TF-IDF representations of our documents."
   ]
  },
  {
   "cell_type": "code",
   "execution_count": 30,
   "metadata": {},
   "outputs": [],
   "source": [
    "def generate_dtm(corpus, tf_idf=False):\n",
    "    \"\"\"\n",
    "    Given instance of Corpus class return the document\n",
    "    term matrix and the term term matrix for the corpus.\n",
    "    If tf_idf is True, then the matrices are returned\n",
    "    for the tf-idf representation of the documents rather\n",
    "    than the bag of words representation.\n",
    "    \"\"\"\n",
    "    \n",
    "    if tf_idf == True:\n",
    "        representation = 'TF-IDF'\n",
    "        tfidf_model = TfidfModel(corpus, dictionary=corpus.dictionary)\n",
    "        corpus.items['TF-IDF'] = tfidf_model[corpus]\n",
    "    else:\n",
    "        representation = 'BOW'\n",
    "    \n",
    "    sparse = corpus2csc(corpus.items[representation])\n",
    "    document_term_matrix = pd.DataFrame.sparse.from_spmatrix(sparse)\n",
    "    del sparse\n",
    "    document_term_matrix.index = corpus.dictionary.values()\n",
    "    \n",
    "    return document_term_matrix"
   ]
  },
  {
   "cell_type": "code",
   "execution_count": 31,
   "metadata": {},
   "outputs": [],
   "source": [
    "bow_dtm = generate_dtm(gensim_candidate_corpus, tf_idf=False)"
   ]
  },
  {
   "cell_type": "markdown",
   "metadata": {},
   "source": [
    "If this doesn't work, you will likely need to reduce the size of the dictionary. \n",
    "\n",
    "You may want to save these for matrices for future use (likely to take a long time)."
   ]
  },
  {
   "cell_type": "code",
   "execution_count": null,
   "metadata": {},
   "outputs": [],
   "source": [
    "bow_dtm.to_pickle(f'../Pickles/bow_dtm_{ITERATION-1}.tar.gz')"
   ]
  },
  {
   "cell_type": "markdown",
   "metadata": {},
   "source": [
    "We do the same for the tf-idf representation, deleting the bow representations in this case for the sake of memory."
   ]
  },
  {
   "cell_type": "code",
   "execution_count": 32,
   "metadata": {},
   "outputs": [],
   "source": [
    "del bow_dtm"
   ]
  },
  {
   "cell_type": "code",
   "execution_count": null,
   "metadata": {},
   "outputs": [],
   "source": [
    "tfidf_dtm = generate_dtm(gensim_candidate_corpus, tf_idf=True)\n",
    "tfidf_dtm.to_pickle(f'../Pickles/tfidf_dtm_{ITERATION-1}.tar.gz')"
   ]
  },
  {
   "cell_type": "markdown",
   "metadata": {},
   "source": [
    "In this case we only save the dtm (as the tf-idf representation, being real-valued, produces larger files than the bow representation, which is integer valued)."
   ]
  },
  {
   "cell_type": "markdown",
   "metadata": {},
   "source": [
    "I've found it easiest to delete all of these matrices and reload whichever variety are required in the next section."
   ]
  },
  {
   "cell_type": "code",
   "execution_count": null,
   "metadata": {},
   "outputs": [],
   "source": [
    "del tfidf_dtm"
   ]
  },
  {
   "cell_type": "markdown",
   "metadata": {},
   "source": [
    "### Ranking Cooccurrences (Log Dice and MI)"
   ]
  },
  {
   "cell_type": "markdown",
   "metadata": {},
   "source": [
    "At this point, we choose whether to use the bow or tf-idf representation. By default, I recommend using the tf-idf representation (as recommended by _insert citation from ws pc_)."
   ]
  },
  {
   "cell_type": "code",
   "execution_count": 33,
   "metadata": {},
   "outputs": [],
   "source": [
    "tf_idf = True # For bag-of-words representation set this to false.\n",
    "\n",
    "if tf_idf == True:\n",
    "    document_term_matrix = pd.read_pickle(f'../Pickles/tfidf_dtm_{ITERATION-1}.tar.gz')\n",
    "else:\n",
    "    document_term_matrix = pd.read_pickle(f'../Pickles/bow_dtm_{ITERATION-1}.tar.gz')\n",
    "    \n",
    "term_term_matrix = document_term_matrix.dot(\n",
    "        document_term_matrix.transpose()\n",
    "    )"
   ]
  },
  {
   "cell_type": "markdown",
   "metadata": {},
   "source": [
    "We now need a way to rank the importance of a given cooccurrence. Two options are given here. The first is the [log Dice score](https://en.wikipedia.org/wiki/S%C3%B8rensen%E2%80%93Dice_coefficient), the second is the [Mutual Information score](https://en.wikipedia.org/wiki/Mutual_information). We define functions for both."
   ]
  },
  {
   "cell_type": "markdown",
   "metadata": {},
   "source": [
    "Mutual information in a general information theoretical method for quantifying how much information about one random variable is given by another. In this case, we are interested in the information given by the frequency of one term about the frequency of another. That is, knowing that we have a certain \"amount\" of one term, what do we know about the \"amount\" of another."
   ]
  },
  {
   "cell_type": "markdown",
   "metadata": {},
   "source": [
    "The Dice coefficient is is closely related to the Mutual Information score. Unlike the mutual information score, \n",
    "(see [Rychlý 2008](https://www.sketchengine.eu/wp-content/uploads/2015/03/Lexicographer-Friendly_2008.pdf)). It is not affected by the size of the corpus and has a maximum of 14 - in which case the terms perfectly co-occur. "
   ]
  },
  {
   "cell_type": "code",
   "execution_count": 34,
   "metadata": {},
   "outputs": [],
   "source": [
    "def log_dice_coocs(term, dtm, ttm, num_coocs):\n",
    "    \"\"\"Return num_coocs with log dice significance stat given search term\n",
    "    document-term matrix and term-term matrix. Return as\n",
    "    pandas series with terms as indices and significances as values..\n",
    "    ttm and dtm are pandas dataframes.\"\"\"\n",
    "    all_term_occurrences = dtm.sum(axis=1)\n",
    "    term_occurrences = all_term_occurrences[term]\n",
    "    cooccurrences = ttm.loc[term]\n",
    "    log_dice = np.log2(2 * cooccurrences / (term_occurrences + all_term_occurrences)) + 14\n",
    "    log_dice = log_dice.sort_values(ascending=False)[0:num_coocs]\n",
    "    return log_dice\n",
    "\n",
    "\n",
    "def mi_coocs(term, dtm, ttm, num_coocs):\n",
    "    \"\"\"Return num_coocs with mutual information sig score given search term\n",
    "    document-term matrix and term-term matrix. Return as\n",
    "    pandas series with terms as indices and significances as values..\n",
    "    ttm and dtm are pandas dataframes.\"\"\"\n",
    "    num_documents = len(dtm.columns)\n",
    "    all_term_occurrences = dtm.sum(axis=1)\n",
    "    term_occurrences = all_term_occurrences[term]\n",
    "    cooccurrences = ttm.loc[term]\n",
    "    mi = np.log2(num_documents * cooccurrences / (term_occurrences * all_term_occurrences))\n",
    "    mi = mi.sort_values(ascending=False)[0:num_coocs]\n",
    "    return mi"
   ]
  },
  {
   "cell_type": "markdown",
   "metadata": {},
   "source": [
    "We can have a look at the kind of coccurrences which these statistics produce now."
   ]
  },
  {
   "cell_type": "code",
   "execution_count": 35,
   "metadata": {},
   "outputs": [
    {
     "name": "stderr",
     "output_type": "stream",
     "text": [
      "/home/joshua/anaconda3/envs/CorpusPaper/lib/python3.9/site-packages/pandas/core/arraylike.py:364: RuntimeWarning: divide by zero encountered in log2\n",
      "  result = getattr(ufunc, method)(*inputs, **kwargs)\n"
     ]
    },
    {
     "data": {
      "text/plain": [
       "ethical         7.691427\n",
       "renunciation    5.907378\n",
       "rationally      5.854872\n",
       "floss           5.691269\n",
       "welter          5.446836\n",
       "ethics          5.139396\n",
       "usury           5.126139\n",
       "ego             4.791394\n",
       "masterful       4.729014\n",
       "trine           4.700129\n",
       "inculcation     4.446210\n",
       "coincide        4.442932\n",
       "disclaim        4.417556\n",
       "pleasurable     4.378118\n",
       "dialectic       4.342616\n",
       "sensuality      4.321578\n",
       "imitator        4.313263\n",
       "sures           4.308091\n",
       "stain           4.300440\n",
       "testa           4.212838\n",
       "aggravate       4.187255\n",
       "vicarious       4.182664\n",
       "niggardly       4.170918\n",
       "readjustment    4.152602\n",
       "turbulent       4.092258\n",
       "dtype: float64"
      ]
     },
     "execution_count": 35,
     "metadata": {},
     "output_type": "execute_result"
    }
   ],
   "source": [
    "term = 'ethical'\n",
    "\n",
    "top_25_mi = mi_coocs(term, document_term_matrix, term_term_matrix, 25)\n",
    "top_25_mi"
   ]
  },
  {
   "cell_type": "markdown",
   "metadata": {},
   "source": [
    "_TODO: sort out divide by zero issue_"
   ]
  },
  {
   "cell_type": "markdown",
   "metadata": {},
   "source": [
    "With the term 'ethical' we get some interesting scores. Obviously, the appearance of 'ethical' tells you something about whether 'ethical' will appear in a text... More significantly, we see terms for pleasure and the absense of pleasue and terms concerning rational argument - such as 'rationally' and 'dialectic'. The appearance of 'floss' might lead us to investigate why such a strange term seems associated with 'ethical' in our corpus. The appearance of 'trine' suggests, perhaps, an ocr error for 'doctrine'.\n",
    "\n",
    "The above is an example of the kind of initial reflection that such a list might generate."
   ]
  },
  {
   "cell_type": "markdown",
   "metadata": {},
   "source": [
    "We now look at the log Dice scores:"
   ]
  },
  {
   "cell_type": "code",
   "execution_count": 36,
   "metadata": {},
   "outputs": [
    {
     "data": {
      "text/plain": [
       "ethical         11.076803\n",
       "ethics           8.730650\n",
       "renunciation     8.172492\n",
       "ego              7.896980\n",
       "rationally       7.849898\n",
       "morality         7.724479\n",
       "trine            7.555327\n",
       "floss            7.534407\n",
       "usury            7.509013\n",
       "theosophy        7.407286\n",
       "pleasurable      7.208365\n",
       "sures            7.169761\n",
       "stain            7.150015\n",
       "moral            7.149221\n",
       "organism         7.136908\n",
       "doc              7.055616\n",
       "coincide         7.041550\n",
       "welter           7.036098\n",
       "morals           6.909404\n",
       "incarnation      6.899803\n",
       "isolated         6.816451\n",
       "doctrine         6.815781\n",
       "basis            6.787103\n",
       "testa            6.714468\n",
       "religion         6.694466\n",
       "dtype: float64"
      ]
     },
     "execution_count": 36,
     "metadata": {},
     "output_type": "execute_result"
    }
   ],
   "source": [
    "top_25_ld = log_dice_coocs(term, document_term_matrix, term_term_matrix, 25)\n",
    "top_25_ld"
   ]
  },
  {
   "cell_type": "markdown",
   "metadata": {},
   "source": [
    "This is a similar list, but with perhaps more indication of religious doctrine."
   ]
  },
  {
   "cell_type": "markdown",
   "metadata": {},
   "source": [
    "### Cooccurrence Networks"
   ]
  },
  {
   "cell_type": "markdown",
   "metadata": {},
   "source": [
    "We can generate _networks_ of cooccurrences and display them interactively. This is particularly useful for finding strong associations between terms. A network will contain cooccurrences for a given search term and then the cooccurrences of the cooccurrences."
   ]
  },
  {
   "cell_type": "markdown",
   "metadata": {},
   "source": [
    "We implement the cooccurrence networks using `Dash`. Pregenerated versions of this can be interacted with [here](https://nz-newspaper-philosophy.herokuapp.com/)."
   ]
  },
  {
   "cell_type": "markdown",
   "metadata": {},
   "source": [
    "The first step is to define a function which produces a network in the appropriate format for a `Dash` cytoscape."
   ]
  },
  {
   "cell_type": "code",
   "execution_count": 50,
   "metadata": {},
   "outputs": [],
   "source": [
    "def network_dash(term, stat, dtm, ttm, num_coocs, sec_coocs):\n",
    "    \"\"\"Produce network dataframe formatted for Dash cytoscope.\"\"\"\n",
    "    \n",
    "    # This big try/except structure is not ideal. It currently handles searches\n",
    "    # for words which are not in the dictionary.\n",
    "    \n",
    "    try:\n",
    "        if stat == 'ld':\n",
    "            term_coocs = log_dice_coocs(term, dtm, ttm, num_coocs)\n",
    "        elif stat == 'mi':\n",
    "            term_coocs = mi_coocs(term, dtm, ttm, num_coocs)\n",
    "\n",
    "        nodes = []\n",
    "        node_names = set([term])\n",
    "        edges = []\n",
    "\n",
    "        for item in term_coocs.iteritems():\n",
    "            node_names.add(item[0])\n",
    "            if item[0] != term:\n",
    "                edges.append({'data': {\n",
    "                    'source': term,\n",
    "                    'target': item[0],\n",
    "                    'weight': item[1]}\n",
    "                    }\n",
    "                )\n",
    "\n",
    "            if stat == 'ld':\n",
    "                item_coocs = log_dice_coocs(item[0], dtm, ttm, sec_coocs)\n",
    "            elif stat == 'mi':\n",
    "                item_coocs = mi_coocs(item[0], dtm, ttm, sec_coocs)\n",
    "            for sub_item in item_coocs.iteritems():\n",
    "                node_names.add(sub_item[0])\n",
    "                if item[0] != sub_item[0]:\n",
    "                    edges.append({'data': {\n",
    "                        'source': item[0],\n",
    "                        'target': sub_item[0],\n",
    "                        'weight': sub_item[1]}\n",
    "                        }\n",
    "                    )\n",
    "\n",
    "        for name in node_names:\n",
    "            nodes.append({'data': {\n",
    "                'id': name,\n",
    "                'label': name,\n",
    "                'size': node_degree(name, edges)}\n",
    "                }\n",
    "            )\n",
    "\n",
    "        network = nodes + edges\n",
    "\n",
    "    except KeyError:\n",
    "        \n",
    "        network = [{'data': {'id': 'error', 'label': 'word not found', 'size': 10}}]\n",
    "        \n",
    "    return network\n",
    "\n",
    "\n",
    "\n",
    "def node_degree(name, edges):\n",
    "    \"\"\"Helper for dash network. Returns degree of node given\n",
    "    list of edges formatted for Dash cytoscape.\"\"\"\n",
    "    degree=0\n",
    "    for edge in edges:\n",
    "        if edge['data']['source'] == name or edge['data']['target'] == name:\n",
    "            degree += 1\n",
    "    return degree"
   ]
  },
  {
   "cell_type": "markdown",
   "metadata": {},
   "source": [
    "We now run define a cytoscape and run it inline, within the notebook."
   ]
  },
  {
   "cell_type": "code",
   "execution_count": 57,
   "metadata": {
    "scrolled": false
   },
   "outputs": [
    {
     "data": {
      "text/html": [
       "\n",
       "        <iframe\n",
       "            width=\"100%\"\n",
       "            height=\"650\"\n",
       "            src=\"http://127.0.0.1:8050/\"\n",
       "            frameborder=\"0\"\n",
       "            allowfullscreen\n",
       "            \n",
       "        ></iframe>\n",
       "        "
      ],
      "text/plain": [
       "<IPython.lib.display.IFrame at 0x7fa64d023be0>"
      ]
     },
     "metadata": {},
     "output_type": "display_data"
    }
   ],
   "source": [
    "app = JupyterDash(__name__)\n",
    "\n",
    "philo_cytoscape = cyto.Cytoscape(\n",
    "        id='cooccurrence-network',\n",
    "        minZoom=1,\n",
    "        layout={'name': 'cose'},\n",
    "        style={'width': '85%', 'height': '800px',\n",
    "            'margin': 'auto', 'border-style': 'solid',\n",
    "            'margin-top': '10px'},\n",
    "        elements={},\n",
    "        stylesheet=[\n",
    "            {\n",
    "                'selector': 'edge',\n",
    "                'style': {\n",
    "                    'width': 'mapData(weight, 3, 6, 1, 3)',\n",
    "                    'line-color': 'silver'\n",
    "                }\n",
    "            },\n",
    "            {\n",
    "                'selector': 'node',\n",
    "                'style': {\n",
    "                    'content': 'data(label)',\n",
    "                    'width': 'mapData(size, 1, 10, 10, 20)',\n",
    "                    'height': 'mapData(size, 1, 10, 10, 20)'\n",
    "                }\n",
    "            },\n",
    "            {\n",
    "                'selector': 'label',\n",
    "                'style': {\n",
    "                    'font-size': 6,\n",
    "                    'text-valign': 'center',\n",
    "                    'text-background-color': 'white',\n",
    "                    'text-background-opacity': 0.6,\n",
    "                    'text-background-padding': 1,\n",
    "                    'text-border-color': 'black',\n",
    "                    'text-border-opacity': 1,\n",
    "                    'text-border-width': 0.5\n",
    "                }\n",
    "            }\n",
    "        ]\n",
    "    )\n",
    "\n",
    "app.layout = dash_html.Div([\n",
    "    dash_html.H2(\"Cooccurrence Network\"),\n",
    "    dash_html.P(\"Search Term:\"),\n",
    "    dcc.Dropdown(\n",
    "        id='search-term',\n",
    "        #type='text',\n",
    "        options = [{'label': word, 'value': word} for word in gensim_candidate_corpus.dictionary.values()],\n",
    "        value = list(gensim_candidate_corpus.dictionary.values())[0]\n",
    "    ),\n",
    "    dash_html.P(\"Statistic:\"),\n",
    "    dcc.Dropdown(\n",
    "        id='stat-choice',\n",
    "        options=[\n",
    "            {'label': 'Mutual information', 'value': 'mi'},\n",
    "            {'label': 'Log Dice', 'value': 'ld'}\n",
    "        ],\n",
    "        value='mi'\n",
    "    ),\n",
    "    dash_html.P('Primary Cooccurences'),\n",
    "    dcc.Slider(\n",
    "        id='primary-coocs',\n",
    "        min=1,\n",
    "        max=50,\n",
    "        step=1,\n",
    "        value=15,\n",
    "        marks = {n: f'{n}' for n in [i for i in range(1, 51) if i%5==0]}\n",
    "    ),\n",
    "    dash_html.P('Secondary Cooccurences'),\n",
    "    dcc.Slider(\n",
    "        id='secondary-coocs',\n",
    "        min=1,\n",
    "        max=15,\n",
    "        step=1,\n",
    "        value=5,\n",
    "        marks = {n: f'{n}' for n in [i for i in range(1, 51) if i%5==0]}\n",
    "    ),\n",
    "    dash_html.Button('Submit', id='submit-val', n_clicks=0),\n",
    "    philo_cytoscape\n",
    "])\n",
    "\n",
    "@app.callback(\n",
    "    Output(component_id='cooccurrence-network', component_property='elements'),\n",
    "    Input(component_id='submit-val', component_property='n_clicks'),\n",
    "    State(component_id='stat-choice', component_property='value'),\n",
    "    State(component_id='search-term', component_property='value'),\n",
    "    State(component_id='primary-coocs', component_property='value'),\n",
    "    State(component_id='secondary-coocs', component_property='value')\n",
    ")\n",
    "def update_network_stat(n_clicks, stat_value, search_value, primary_coocs, secondary_coocs):\n",
    "    network = network_dash(\n",
    "        term=search_value,\n",
    "        stat=stat_value,\n",
    "        dtm=document_term_matrix,\n",
    "        ttm=term_term_matrix,\n",
    "        num_coocs=primary_coocs,\n",
    "        sec_coocs=secondary_coocs\n",
    "    )\n",
    "    return network \n",
    "\n",
    "if __name__ == '__main__':\n",
    "    app.run_server(debug=True, mode='inline')"
   ]
  },
  {
   "cell_type": "markdown",
   "metadata": {},
   "source": [
    "Click [here](https://tm4ss.github.io/docs/Tutorial_5_Co-occurrence.html) for more information of cooccurrence networks, including R code from which the above is adapted."
   ]
  },
  {
   "cell_type": "markdown",
   "metadata": {},
   "source": [
    "If moving on to topic modelling, delete the large matrices used for the cooccurrence networks."
   ]
  },
  {
   "cell_type": "code",
   "execution_count": 59,
   "metadata": {},
   "outputs": [],
   "source": [
    "del document_term_matrix, term_term_matrix"
   ]
  },
  {
   "cell_type": "markdown",
   "metadata": {},
   "source": [
    "## Topic Modelling"
   ]
  },
  {
   "cell_type": "markdown",
   "metadata": {},
   "source": [
    "The final method for investigating a candidate corpus is LDA topic modelling. LDA requires the number of topics we think there are to be set as a parameter. Many introductions are available, but the [Wikipedia page](https://en.wikipedia.org/wiki/Latent_Dirichlet_allocation) is a good place to start."
   ]
  },
  {
   "cell_type": "markdown",
   "metadata": {},
   "source": [
    "Topic modelling is here implemented using `gensim` and its `LdaMulticore` function."
   ]
  },
  {
   "cell_type": "code",
   "execution_count": 19,
   "metadata": {},
   "outputs": [],
   "source": [
    "workers = 15 # Number of CPU cores used. This can be up to the count of real cores (not threads) - 1.\n",
    "num_topics = 15 # Change this to modify the number of topics selected.b"
   ]
  },
  {
   "cell_type": "code",
   "execution_count": 61,
   "metadata": {},
   "outputs": [],
   "source": [
    "lda_model = LdaMulticore(\n",
    "                gensim_candidate_corpus,\n",
    "                num_topics= num_topics,\n",
    "                workers = workers,\n",
    "                chunksize = 500,\n",
    "                id2word=gensim_candidate_corpus.dictionary,\n",
    "                iterations = 500,\n",
    "                passes = 25,\n",
    "                eval_every = 100\n",
    "            )"
   ]
  },
  {
   "cell_type": "markdown",
   "metadata": {},
   "source": [
    "Often it is a good idea to save a model for later use or evaluation. The following cell does this. ***NB:*** for this to be useful, you must ensure you know which dictionary you have used."
   ]
  },
  {
   "cell_type": "code",
   "execution_count": 7,
   "metadata": {},
   "outputs": [
    {
     "ename": "NameError",
     "evalue": "name 'lda_model' is not defined",
     "output_type": "error",
     "traceback": [
      "\u001b[1;31m---------------------------------------------------------------------------\u001b[0m",
      "\u001b[1;31mNameError\u001b[0m                                 Traceback (most recent call last)",
      "\u001b[1;32m~\\AppData\\Local\\Temp/ipykernel_13064/2938199140.py\u001b[0m in \u001b[0;36m<module>\u001b[1;34m\u001b[0m\n\u001b[1;32m----> 1\u001b[1;33m \u001b[0mlda_model\u001b[0m\u001b[1;33m.\u001b[0m\u001b[0msave\u001b[0m\u001b[1;33m(\u001b[0m\u001b[1;34mf\"../TopicModels/candidate_corpus_{ITERATION-1}_{num_topics}_topics.ldamodel\"\u001b[0m\u001b[1;33m)\u001b[0m\u001b[1;33m\u001b[0m\u001b[1;33m\u001b[0m\u001b[0m\n\u001b[0m",
      "\u001b[1;31mNameError\u001b[0m: name 'lda_model' is not defined"
     ]
    }
   ],
   "source": [
    "lda_model.save(f\"../TopicModels/candidate_corpus_{ITERATION-1}_{num_topics}_topics.ldamodel\")"
   ]
  },
  {
   "cell_type": "markdown",
   "metadata": {},
   "source": [
    "If you already have a model, load it here:"
   ]
  },
  {
   "cell_type": "code",
   "execution_count": 20,
   "metadata": {},
   "outputs": [
    {
     "name": "stderr",
     "output_type": "stream",
     "text": [
      "2021-11-17 14:28:22,536 : INFO : loading LdaMulticore object from ../TopicModels/candidate_corpus_0_15_topics.ldamodel\n",
      "2021-11-17 14:28:22,544 : INFO : loading expElogbeta from ../TopicModels/candidate_corpus_0_15_topics.ldamodel.expElogbeta.npy with mmap=None\n",
      "2021-11-17 14:28:22,551 : INFO : setting ignored attribute state to None\n",
      "2021-11-17 14:28:22,551 : INFO : setting ignored attribute dispatcher to None\n",
      "2021-11-17 14:28:22,551 : INFO : setting ignored attribute id2word to None\n",
      "2021-11-17 14:28:22,551 : INFO : LdaMulticore lifecycle event {'fname': '../TopicModels/candidate_corpus_0_15_topics.ldamodel', 'datetime': '2021-11-17T14:28:22.551202', 'gensim': '4.1.2', 'python': '3.8.12 (default, Oct 12 2021, 03:01:40) [MSC v.1916 64 bit (AMD64)]', 'platform': 'Windows-10-10.0.19041-SP0', 'event': 'loaded'}\n",
      "2021-11-17 14:28:22,551 : INFO : loading LdaState object from ../TopicModels/candidate_corpus_0_15_topics.ldamodel.state\n",
      "2021-11-17 14:28:22,551 : INFO : LdaState lifecycle event {'fname': '../TopicModels/candidate_corpus_0_15_topics.ldamodel.state', 'datetime': '2021-11-17T14:28:22.551202', 'gensim': '4.1.2', 'python': '3.8.12 (default, Oct 12 2021, 03:01:40) [MSC v.1916 64 bit (AMD64)]', 'platform': 'Windows-10-10.0.19041-SP0', 'event': 'loaded'}\n"
     ]
    }
   ],
   "source": [
    "lda_model = LdaMulticore.load(f\"../TopicModels/candidate_corpus_{ITERATION-1}_{num_topics}_topics.ldamodel\")"
   ]
  },
  {
   "cell_type": "markdown",
   "metadata": {},
   "source": [
    "We output the topics and keywords:"
   ]
  },
  {
   "cell_type": "code",
   "execution_count": 21,
   "metadata": {},
   "outputs": [],
   "source": [
    "def topics_and_keywords(model):\n",
    "    \"\"\"\n",
    "    Given model, return dictionary of topics and keywords.\n",
    "    \"\"\"\n",
    "    topic_kws = {}\n",
    "    num_topics = model.num_topics\n",
    "    for (topic_num, words) in model.show_topics(num_topics=num_topics):\n",
    "        wp = model.show_topic(topic_num)\n",
    "        topic_keywords = \", \".join([word for word, prop in wp])\n",
    "        topic_kws[f'Topic {topic_num+1}'] = topic_keywords\n",
    "    return topic_kws"
   ]
  },
  {
   "cell_type": "code",
   "execution_count": 63,
   "metadata": {
    "scrolled": true
   },
   "outputs": [
    {
     "data": {
      "text/plain": [
       "{'Topic 1': 'sale, sheep, stock, wellington, sold, street, goods, messrs, price, cure',\n",
       " 'Topic 2': 'council, bill, act, committee, motion, provincial, system, member, board, session',\n",
       " 'Topic 3': 'political, party, lord, speech, member, parliament, liberal, perhaps, editor, office',\n",
       " 'Topic 4': 'court, wellington, district, yesterday, board, street, road, messrs, town, fire',\n",
       " 'Topic 5': 'school, education, university, professor, class, science, college, history, knowledge, system',\n",
       " 'Topic 6': 'told, lie, boy, death, saw, room, door, wife, body, doctor',\n",
       " 'Topic 7': 'woman, love, lady, face, girl, room, dear, miss, heart, wife',\n",
       " 'Topic 8': 'messrs, committee, club, hall, school, yesterday, board, rev, miss, street',\n",
       " 'Topic 9': 'gold, trade, labour, value, system, capital, population, amount, working, labor',\n",
       " 'Topic 10': 'war, prince, king, army, empire, peace, nation, political, emperor, national',\n",
       " 'Topic 11': 'god, human, truth, religion, spirit, moral, law, faith, love, religious',\n",
       " 'Topic 12': 'book, miss, author, story, art, play, character, literary, lady, written',\n",
       " 'Topic 13': 'water, race, white, horse, round, sea, river, black, beat, along',\n",
       " 'Topic 14': 'captain, south, ship, york, lord, death, united, board, recently, vessel',\n",
       " 'Topic 15': 'water, earth, scientific, professor, science, air, sun, sea, surface, heat'}"
      ]
     },
     "execution_count": 63,
     "metadata": {},
     "output_type": "execute_result"
    }
   ],
   "source": [
    "topic_words = topics_and_keywords(lda_model)\n",
    "topic_words"
   ]
  },
  {
   "cell_type": "markdown",
   "metadata": {},
   "source": [
    "We can now use these topics to pick out texts for labelling in the labelling stage. For instance, we might want to look at Topic 6 or Topic 12 if we are interested in removing fictional material from our topic models. It looks like Topic 1 might be largely a matter of product advertising, this would also be worth looking at. \n",
    "\n",
    "More positively, we might be interested to see whether, say Topic 5, covering education, and Topic 11 containing apparently religious matters, contain philosophical discourse and, if so, whether it is of a different character."
   ]
  },
  {
   "cell_type": "markdown",
   "metadata": {},
   "source": [
    "We retreive the two most significant topic and the topic proportion which they are assigned for each of the articles in our corpus. We can then pick out articles which achieve a given cut off for the topic."
   ]
  },
  {
   "cell_type": "code",
   "execution_count": 22,
   "metadata": {},
   "outputs": [],
   "source": [
    "def collect_top_two_topics(model, corpus):\n",
    "\n",
    "    doc_topics_df = pd.DataFrame() # create empty dataframe\n",
    "    \n",
    "    for i, row in enumerate(model[corpus]):\n",
    "        row = sorted(row, key=lambda x: (x[1]), reverse=True) # orders topics by topic proportion.\n",
    "        \n",
    "        prim_topic = int(row[0][0])\n",
    "        prim_prop = round(row[0][1], 4)\n",
    "        \n",
    "        # The try/except structure accomodates documents with only one topic assigned.\n",
    "        try:\n",
    "            sec_topic = int(row[1][0])\n",
    "            sec_prop = round(row[1][1], 4)\n",
    "        except IndexError:\n",
    "            sec_topic = sec_prop = None\n",
    "        \n",
    "        doc_topics_df = doc_topics_df.append(\n",
    "            pd.Series(\n",
    "                [prim_topic, prim_prop, sec_topic, sec_prop]\n",
    "            ), \n",
    "            ignore_index=True\n",
    "        )\n",
    "        \n",
    "    # rename columns\n",
    "    doc_topics_df.columns = (\n",
    "        ['Primary Topic', 'Primary Perc', 'Secondary Topic', 'Secondary Perc']\n",
    "    )\n",
    "    \n",
    "    doc_topics_df.index = corpus.items.index\n",
    "    \n",
    "    doc_topics_df = doc_topics_df.convert_dtypes() # Ensure columns have correct datatype.\n",
    "    \n",
    "    return doc_topics_df"
   ]
  },
  {
   "cell_type": "code",
   "execution_count": 23,
   "metadata": {},
   "outputs": [],
   "source": [
    "doc_df = collect_top_two_topics(lda_model, gensim_candidate_corpus)"
   ]
  },
  {
   "cell_type": "markdown",
   "metadata": {},
   "source": [
    "To know what counts as a high proprtion in a topic, we can have a look at the distribution of values for those which have the topic as the primary one. ***NB: the topic numbers in code start from 0, whereas the labels used above start from 1.***"
   ]
  },
  {
   "cell_type": "code",
   "execution_count": 25,
   "metadata": {},
   "outputs": [
    {
     "data": {
      "text/plain": [
       "<AxesSubplot:ylabel='Frequency'>"
      ]
     },
     "execution_count": 25,
     "metadata": {},
     "output_type": "execute_result"
    },
    {
     "data": {
      "image/png": "[encoded data removed]",
      "text/plain": [
       "<Figure size 432x288 with 1 Axes>"
      ]
     },
     "metadata": {
      "needs_background": "light"
     },
     "output_type": "display_data"
    }
   ],
   "source": [
    "topic_of_interest = 0 # = \"Topic 1\" above.\n",
    "doc_df[doc_df['Primary Topic'] == topic_of_interest]['Primary Perc'].plot(kind='hist')"
   ]
  },
  {
   "cell_type": "markdown",
   "metadata": {},
   "source": [
    "We can then inspect the items which match the topic. Initially, we just look at the information in the items table. For \"Topic 1\" we can look at all with a proportion greater than `0.5`(but note that this is somewhat arbitrary - the main thing here is to ensure that you don't set the cut off so high that nothing appears)."
   ]
  },
  {
   "cell_type": "code",
   "execution_count": 32,
   "metadata": {},
   "outputs": [
    {
     "data": {
      "text/html": [
       "<div>\n",
       "<style scoped>\n",
       "    .dataframe tbody tr th:only-of-type {\n",
       "        vertical-align: middle;\n",
       "    }\n",
       "\n",
       "    .dataframe tbody tr th {\n",
       "        vertical-align: top;\n",
       "    }\n",
       "\n",
       "    .dataframe thead th {\n",
       "        text-align: right;\n",
       "    }\n",
       "</style>\n",
       "<table border=\"1\" class=\"dataframe\">\n",
       "  <thead>\n",
       "    <tr style=\"text-align: right;\">\n",
       "      <th></th>\n",
       "      <th>Title</th>\n",
       "      <th>Text</th>\n",
       "      <th>Newspaper</th>\n",
       "      <th>Date</th>\n",
       "      <th>Year</th>\n",
       "      <th>Tokenised</th>\n",
       "      <th>BOW</th>\n",
       "    </tr>\n",
       "  </thead>\n",
       "  <tbody>\n",
       "    <tr>\n",
       "      <th>WC_18990503_ARTICLE27</th>\n",
       "      <td>TWO OF A TRADE.</td>\n",
       "      <td>[That two of a trade seldom agree is a common ...</td>\n",
       "      <td>WC</td>\n",
       "      <td>18990503</td>\n",
       "      <td>1899</td>\n",
       "      <td>[two, trade, seldom, agree, common, weakness, ...</td>\n",
       "      <td>[(16, 1), (82, 1), (111, 1), (128, 1), (141, 1...</td>\n",
       "    </tr>\n",
       "    <tr>\n",
       "      <th>LWM_18731015_ARTICLE35</th>\n",
       "      <td>SULPHURIC ACID FOR DIPHTHERIA SUCCESSFUL.</td>\n",
       "      <td>[Mr Greatbead's remedy for diphtheria is being...</td>\n",
       "      <td>LWM</td>\n",
       "      <td>18731015</td>\n",
       "      <td>1873</td>\n",
       "      <td>[remedy, diphtheria, tried, success, two, rece...</td>\n",
       "      <td>[(8, 1), (19, 1), (91, 1), (107, 3), (176, 1),...</td>\n",
       "    </tr>\n",
       "    <tr>\n",
       "      <th>WC_18850131_ARTICLE28</th>\n",
       "      <td>MEN, WOMEN, AND THINGS.</td>\n",
       "      <td>[\" A mad world my masters,\" — Old Play. The er...</td>\n",
       "      <td>WC</td>\n",
       "      <td>18850131</td>\n",
       "      <td>1885</td>\n",
       "      <td>[mad, world, old, play, erase, less, celebrate...</td>\n",
       "      <td>[(16, 2), (17, 1), (34, 2), (77, 1), (88, 1), ...</td>\n",
       "    </tr>\n",
       "    <tr>\n",
       "      <th>WC_18971202_ARTICLE31</th>\n",
       "      <td>UNTITLED</td>\n",
       "      <td>[\" Drunkenness is not a sin— simply an excess ...</td>\n",
       "      <td>WC</td>\n",
       "      <td>18971202</td>\n",
       "      <td>1897</td>\n",
       "      <td>[drunkenness, sin, simply, excess, convivialit...</td>\n",
       "      <td>[(241, 1), (257, 1), (904, 1), (947, 1), (978,...</td>\n",
       "    </tr>\n",
       "    <tr>\n",
       "      <th>WC_18990810_ARTICLE26</th>\n",
       "      <td>TUBERCULOUS PHEASANTS</td>\n",
       "      <td>[(Pen Press- Association.), . ' y WELLINGTON, ...</td>\n",
       "      <td>WC</td>\n",
       "      <td>18990810</td>\n",
       "      <td>1899</td>\n",
       "      <td>[pen, press, association, wellington, august, ...</td>\n",
       "      <td>[(29, 1), (34, 2), (228, 1), (373, 1), (445, 1...</td>\n",
       "    </tr>\n",
       "    <tr>\n",
       "      <th>...</th>\n",
       "      <td>...</td>\n",
       "      <td>...</td>\n",
       "      <td>...</td>\n",
       "      <td>...</td>\n",
       "      <td>...</td>\n",
       "      <td>...</td>\n",
       "      <td>...</td>\n",
       "    </tr>\n",
       "    <tr>\n",
       "      <th>WC_18980209_ARTICLE25</th>\n",
       "      <td>UNTITLED</td>\n",
       "      <td>[Drunkennea? is not aain— •simply an Bxces9 of...</td>\n",
       "      <td>WC</td>\n",
       "      <td>18980209</td>\n",
       "      <td>1898</td>\n",
       "      <td>[simply, conviviality, thirst, philosopher, no...</td>\n",
       "      <td>[(241, 1), (257, 1), (904, 1), (947, 1), (978,...</td>\n",
       "    </tr>\n",
       "    <tr>\n",
       "      <th>ST_18880731_ARTICLE29</th>\n",
       "      <td>UNTITLED</td>\n",
       "      <td>[A Great Enter prise— The Dr Soule's American ...</td>\n",
       "      <td>ST</td>\n",
       "      <td>18880731</td>\n",
       "      <td>1888</td>\n",
       "      <td>[great, enter, hop, bitters, company, one, bus...</td>\n",
       "      <td>[(16, 2), (87, 1), (209, 1), (223, 1), (227, 1...</td>\n",
       "    </tr>\n",
       "    <tr>\n",
       "      <th>ST_18960109_ARTICLE9</th>\n",
       "      <td>\"PIE.\"</td>\n",
       "      <td>[Granite ia quarried in Southern India by burn...</td>\n",
       "      <td>ST</td>\n",
       "      <td>18960109</td>\n",
       "      <td>1896</td>\n",
       "      <td>[granite, quarried, southern, burning, woe, fi...</td>\n",
       "      <td>[(20, 1), (31, 1), (87, 1), (124, 1), (167, 1)...</td>\n",
       "    </tr>\n",
       "    <tr>\n",
       "      <th>WC_18980413_ARTICLE42</th>\n",
       "      <td>QLD AND NEW WORLD WISDOM.</td>\n",
       "      <td>[Away in the dim mysterious years when the vas...</td>\n",
       "      <td>WC</td>\n",
       "      <td>18980413</td>\n",
       "      <td>1898</td>\n",
       "      <td>[away, dim, mysterious, vast, yet, unbuilded, ...</td>\n",
       "      <td>[(29, 1), (32, 1), (34, 1), (73, 1), (87, 1), ...</td>\n",
       "    </tr>\n",
       "    <tr>\n",
       "      <th>WC_18980118_ARTICLE33</th>\n",
       "      <td>SANDERSON'S \"SCOTCH.\"</td>\n",
       "      <td>[Established 1816. . Original Blenders of Whis...</td>\n",
       "      <td>WC</td>\n",
       "      <td>18980118</td>\n",
       "      <td>1898</td>\n",
       "      <td>[established, original, whisky, bond, diadem, ...</td>\n",
       "      <td>[(212, 1), (241, 1), (257, 1), (283, 1), (564,...</td>\n",
       "    </tr>\n",
       "  </tbody>\n",
       "</table>\n",
       "<p>716 rows × 7 columns</p>\n",
       "</div>"
      ],
      "text/plain": [
       "                                                            Title  \\\n",
       "WC_18990503_ARTICLE27                             TWO OF A TRADE.   \n",
       "LWM_18731015_ARTICLE35  SULPHURIC ACID FOR DIPHTHERIA SUCCESSFUL.   \n",
       "WC_18850131_ARTICLE28                     MEN, WOMEN, AND THINGS.   \n",
       "WC_18971202_ARTICLE31                                    UNTITLED   \n",
       "WC_18990810_ARTICLE26                       TUBERCULOUS PHEASANTS   \n",
       "...                                                           ...   \n",
       "WC_18980209_ARTICLE25                                    UNTITLED   \n",
       "ST_18880731_ARTICLE29                                    UNTITLED   \n",
       "ST_18960109_ARTICLE9                                       \"PIE.\"   \n",
       "WC_18980413_ARTICLE42                   QLD AND NEW WORLD WISDOM.   \n",
       "WC_18980118_ARTICLE33                       SANDERSON'S \"SCOTCH.\"   \n",
       "\n",
       "                                                                     Text  \\\n",
       "WC_18990503_ARTICLE27   [That two of a trade seldom agree is a common ...   \n",
       "LWM_18731015_ARTICLE35  [Mr Greatbead's remedy for diphtheria is being...   \n",
       "WC_18850131_ARTICLE28   [\" A mad world my masters,\" — Old Play. The er...   \n",
       "WC_18971202_ARTICLE31   [\" Drunkenness is not a sin— simply an excess ...   \n",
       "WC_18990810_ARTICLE26   [(Pen Press- Association.), . ' y WELLINGTON, ...   \n",
       "...                                                                   ...   \n",
       "WC_18980209_ARTICLE25   [Drunkennea? is not aain— •simply an Bxces9 of...   \n",
       "ST_18880731_ARTICLE29   [A Great Enter prise— The Dr Soule's American ...   \n",
       "ST_18960109_ARTICLE9    [Granite ia quarried in Southern India by burn...   \n",
       "WC_18980413_ARTICLE42   [Away in the dim mysterious years when the vas...   \n",
       "WC_18980118_ARTICLE33   [Established 1816. . Original Blenders of Whis...   \n",
       "\n",
       "                       Newspaper      Date  Year  \\\n",
       "WC_18990503_ARTICLE27         WC  18990503  1899   \n",
       "LWM_18731015_ARTICLE35       LWM  18731015  1873   \n",
       "WC_18850131_ARTICLE28         WC  18850131  1885   \n",
       "WC_18971202_ARTICLE31         WC  18971202  1897   \n",
       "WC_18990810_ARTICLE26         WC  18990810  1899   \n",
       "...                          ...       ...   ...   \n",
       "WC_18980209_ARTICLE25         WC  18980209  1898   \n",
       "ST_18880731_ARTICLE29         ST  18880731  1888   \n",
       "ST_18960109_ARTICLE9          ST  18960109  1896   \n",
       "WC_18980413_ARTICLE42         WC  18980413  1898   \n",
       "WC_18980118_ARTICLE33         WC  18980118  1898   \n",
       "\n",
       "                                                                Tokenised  \\\n",
       "WC_18990503_ARTICLE27   [two, trade, seldom, agree, common, weakness, ...   \n",
       "LWM_18731015_ARTICLE35  [remedy, diphtheria, tried, success, two, rece...   \n",
       "WC_18850131_ARTICLE28   [mad, world, old, play, erase, less, celebrate...   \n",
       "WC_18971202_ARTICLE31   [drunkenness, sin, simply, excess, convivialit...   \n",
       "WC_18990810_ARTICLE26   [pen, press, association, wellington, august, ...   \n",
       "...                                                                   ...   \n",
       "WC_18980209_ARTICLE25   [simply, conviviality, thirst, philosopher, no...   \n",
       "ST_18880731_ARTICLE29   [great, enter, hop, bitters, company, one, bus...   \n",
       "ST_18960109_ARTICLE9    [granite, quarried, southern, burning, woe, fi...   \n",
       "WC_18980413_ARTICLE42   [away, dim, mysterious, vast, yet, unbuilded, ...   \n",
       "WC_18980118_ARTICLE33   [established, original, whisky, bond, diadem, ...   \n",
       "\n",
       "                                                                      BOW  \n",
       "WC_18990503_ARTICLE27   [(16, 1), (82, 1), (111, 1), (128, 1), (141, 1...  \n",
       "LWM_18731015_ARTICLE35  [(8, 1), (19, 1), (91, 1), (107, 3), (176, 1),...  \n",
       "WC_18850131_ARTICLE28   [(16, 2), (17, 1), (34, 2), (77, 1), (88, 1), ...  \n",
       "WC_18971202_ARTICLE31   [(241, 1), (257, 1), (904, 1), (947, 1), (978,...  \n",
       "WC_18990810_ARTICLE26   [(29, 1), (34, 2), (228, 1), (373, 1), (445, 1...  \n",
       "...                                                                   ...  \n",
       "WC_18980209_ARTICLE25   [(241, 1), (257, 1), (904, 1), (947, 1), (978,...  \n",
       "ST_18880731_ARTICLE29   [(16, 2), (87, 1), (209, 1), (223, 1), (227, 1...  \n",
       "ST_18960109_ARTICLE9    [(20, 1), (31, 1), (87, 1), (124, 1), (167, 1)...  \n",
       "WC_18980413_ARTICLE42   [(29, 1), (32, 1), (34, 1), (73, 1), (87, 1), ...  \n",
       "WC_18980118_ARTICLE33   [(212, 1), (241, 1), (257, 1), (283, 1), (564,...  \n",
       "\n",
       "[716 rows x 7 columns]"
      ]
     },
     "execution_count": 32,
     "metadata": {},
     "output_type": "execute_result"
    }
   ],
   "source": [
    "cut_off = 0.5\n",
    "matches = gensim_candidate_corpus.items[\n",
    "    (doc_df['Primary Topic'] == topic_of_interest) &\n",
    "    (doc_df['Primary Perc'] >= 0.5)\n",
    "]\n",
    "matches"
   ]
  },
  {
   "cell_type": "markdown",
   "metadata": {},
   "source": [
    "We can also look at the full text of the items. "
   ]
  },
  {
   "cell_type": "code",
   "execution_count": 37,
   "metadata": {},
   "outputs": [
    {
     "data": {
      "application/vnd.jupyter.widget-view+json": {
       "model_id": "8b7a6f0fce2249d9966884b7a5223ae9",
       "version_major": 2,
       "version_minor": 0
      },
      "text/plain": [
       "interactive(children=(Dropdown(description='index', options=('AG_18980211_ARTICLE13', 'AG_18990515_ARTICLE27',…"
      ]
     },
     "metadata": {},
     "output_type": "display_data"
    },
    {
     "data": {
      "text/plain": [
       "<function __main__.html_text(index, dataframe, boldface=None)>"
      ]
     },
     "execution_count": 37,
     "metadata": {},
     "output_type": "execute_result"
    }
   ],
   "source": [
    "item_indices = matches.index\n",
    "interact(\n",
    "    html_text, \n",
    "    index=sorted(item_indices), \n",
    "    dataframe=fixed(candidate_corpus), \n",
    "    boldface=fixed(None)\n",
    ")"
   ]
  },
  {
   "cell_type": "markdown",
   "metadata": {},
   "source": [
    "At this point it is a good idea to keep track of any items which you judge are appropriate or inappropriate for the corpus you are constructing. In this case, the majority seem to be not what we are after!"
   ]
  },
  {
   "cell_type": "markdown",
   "metadata": {},
   "source": [
    "## Putting it All Together"
   ]
  },
  {
   "cell_type": "markdown",
   "metadata": {},
   "source": [
    "The above presents a series of tools which can be used to understand the content of a candidate corpus both 'up close' by inspecting original articles and 'at a distance' by looking a statistical associations of terms. These tools are brought together in the process of corpus construction by enabling the user to get a sense of the _kind_ of material there might be in the corpus.\n",
    "\n",
    "This enables the key decision point in the process: is this corpus sufficient for our purposes or is it not? If not, we will go around the cycle again.\n",
    "\n",
    "If the answer is _no_ then we also gain inputs to the labelling stage. We have just seen, for instance, how topic modelling is useful for picking out material that we don't want. In the course of exploring a corpus, we will also have come across material that we know would would like to be in our corpus. Both sorts of information are useful for the labelling stage.\n",
    "\n",
    "If we instead conclude that the corpus is sufficient, then the tools set out above can be used as part of an analysis of the corpus. It might be, for instance, that the cooccurrence networks for certain key terms or the topic models are sufficient for the purpose of the researcher.\n"
   ]
  }
 ],
 "metadata": {
  "kernelspec": {
   "display_name": "Python 3 (ipykernel)",
   "language": "python",
   "name": "python3"
  },
  "language_info": {
   "codemirror_mode": {
    "name": "ipython",
    "version": 3
   },
   "file_extension": ".py",
   "mimetype": "text/x-python",
   "name": "python",
   "nbconvert_exporter": "python",
   "pygments_lexer": "ipython3",
   "version": "3.9.7"
  }
 },
 "nbformat": 4,
 "nbformat_minor": 4
}
