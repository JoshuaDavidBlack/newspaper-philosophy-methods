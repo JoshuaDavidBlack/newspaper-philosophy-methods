{
 "cells": [
  {
   "cell_type": "markdown",
   "metadata": {},
   "source": [
    "# Preprocessing Stage"
   ]
  },
  {
   "cell_type": "markdown",
   "metadata": {},
   "source": [
    "This notebook sets out the steps for running through raw METS/ALTO XML data from newspaper digitisation projects. We collect titles, dates, newspaper names, and raw text."
   ]
  },
  {
   "cell_type": "markdown",
   "metadata": {},
   "source": [
    "## Imports"
   ]
  },
  {
   "cell_type": "markdown",
   "metadata": {},
   "source": [
    "We will use the Python `multiprocessing` library to speed up working through the dataset. `ElementTree` will be used to parse the METS and ALTO format XML files."
   ]
  },
  {
   "cell_type": "code",
   "execution_count": 1,
   "metadata": {},
   "outputs": [],
   "source": [
    "import re\n",
    "import tarfile\n",
    "import os\n",
    "import sys\n",
    "import glob\n",
    "import time\n",
    "import pickle\n",
    "from multiprocessing import Pool\n",
    "\n",
    "import pandas as pd\n",
    "import xml.etree.ElementTree as ET"
   ]
  },
  {
   "cell_type": "markdown",
   "metadata": {},
   "source": [
    "## Preprocessing"
   ]
  },
  {
   "cell_type": "markdown",
   "metadata": {},
   "source": [
    "The data is stored in METS/ALTO format with a tar ball for each newspaper-year combination. There is a folder for each newspaper. "
   ]
  },
  {
   "cell_type": "markdown",
   "metadata": {},
   "source": [
    "We aim to get from METS and ALTO files, which contain a great deal of information about the location of words and blocks on pages, to a dataframe containing details of each article and its text. "
   ]
  },
  {
   "cell_type": "markdown",
   "metadata": {},
   "source": [
    "**A note on generalisability:** not all newspaper digitization projects will have this file structure or compression method. Given this, I have tried to separate the functions which rely on this structure from those which do not. The functions which process the METS and ALTO files will have `_inner` in their names. It may take some ingenuity to reuse this code for other similar projects, but this seperation of functions should help."
   ]
  },
  {
   "cell_type": "markdown",
   "metadata": {},
   "source": [
    "### Helper functions"
   ]
  },
  {
   "cell_type": "markdown",
   "metadata": {},
   "source": [
    "There are many steps required to get from tarballs. At the highest level, we open the tarball, determine how many issues it has, collect the files which make up each issue, and then collect each article from the issues."
   ]
  },
  {
   "cell_type": "code",
   "execution_count": 3,
   "metadata": {},
   "outputs": [],
   "source": [
    "def process_tarball(filepath):\n",
    "    \"\"\"\n",
    "    Given path to tarball, open and return dataframe containing article\n",
    "    items from tarball.\n",
    "    \"\"\"\n",
    "    newspaper_year = tarfile.open(filepath)\n",
    "    files = newspaper_year.getmembers()\n",
    "    issues = collect_issues(files)\n",
    "    articles = collect_articles(issues, newspaper_year)\n",
    "\n",
    "    return articles\n"
   ]
  },
  {
   "cell_type": "markdown",
   "metadata": {},
   "source": [
    "Each issue has a code, of the form `NEWSPAPER_YYYYMMDD`, where `NEWSPAPER` is replaced with the newspaper's code. Each will have a METS file with the details of the issue as a whole along with an ALTO file for each page. We collect the files which make up each issue."
   ]
  },
  {
   "cell_type": "code",
   "execution_count": 4,
   "metadata": {},
   "outputs": [],
   "source": [
    "def collect_issues(files):\n",
    "    \"\"\"\n",
    "    Given list of files in tarball, return a dictionary keyed\n",
    "    by the issue code with list of xml files of form [0001.xml, ..., mets.xml]\n",
    "    as values.\n",
    "    \"\"\"\n",
    "    issues = {}\n",
    "    issue_code = ''\n",
    "    for file in files:\n",
    "        match = re.search(\"[A-Z]*_\\d{8}$\", file.name)\n",
    "        if match:\n",
    "            issue_code = match.group(0)\n",
    "        if file.name.endswith('.xml'):\n",
    "            xml_list = issues.get(issue_code, [])\n",
    "            xml_list.append(file)\n",
    "            issues[issue_code] = xml_list\n",
    "    return issues"
   ]
  },
  {
   "cell_type": "markdown",
   "metadata": {},
   "source": [
    "Given a list of issues, we collect the articles which make up each issue. This is done by first looking in the METS file for the article names and their corresponding text blocks in the ALTO files (`mets2codes()`) and then by collecting the text corresponding to each article (`codes2text()`)."
   ]
  },
  {
   "cell_type": "code",
   "execution_count": 5,
   "metadata": {},
   "outputs": [],
   "source": [
    "def collect_articles(issues, newspaper_year):\n",
    "    \"\"\"Given list of issues and corresponding xml files,\n",
    "    return dictionary containing article codes as keys and\n",
    "    texts (as list of strings for each block as values.\"\"\"\n",
    "    articles = {}\n",
    "    for issue_code, issue_files in issues.items():\n",
    "        mets_tarinfo = issue_files[-1]\n",
    "        pages_tarinfo = issue_files[0:-1]\n",
    "        article_codes = mets2codes(mets_tarinfo, newspaper_year)\n",
    "        all_articles = codes2texts(article_codes, pages_tarinfo, newspaper_year, issue_code)\n",
    "        articles = {**articles, **all_articles} # Merge dictionaries.\n",
    "\n",
    "    return articles"
   ]
  },
  {
   "cell_type": "markdown",
   "metadata": {},
   "source": [
    "The following helper functions, which perform the XML parsing steps will be given here without detailed commentary. ***NB: mets2codes excludes all 'advertising'***"
   ]
  },
  {
   "cell_type": "code",
   "execution_count": 6,
   "metadata": {},
   "outputs": [],
   "source": [
    "def mets2codes_inner(text, newspaper_year):\n",
    "    \"\"\"\n",
    "    Given METS file as text string, return a dictionary of\n",
    "    articles, with article does as keys and, as values, tuples containing\n",
    "    the corresponding article title and a list of text blocks from the \n",
    "    corresponding ALTO files as values.\n",
    "    \"\"\"\n",
    "    \n",
    "    mets_root = ET.fromstring(text)\n",
    "    logical_structure = mets_root.find(\"./mets:structMap[@LABEL='Logical Structure']\", NS)\n",
    "    articles = logical_structure.findall(\".//mets:div[@TYPE='ARTICLE']\", NS)\n",
    "\n",
    "    art_dict = {}\n",
    "    for article in articles:\n",
    "\n",
    "        attributes = article.attrib\n",
    "        article_id = attributes['DMDID']\n",
    "        article_title = attributes.get('LABEL', 'UNTITLED')\n",
    "\n",
    "        text_blocks = article.findall(\".//mets:div[@TYPE='TEXT']\", NS)\n",
    "        block_ids = []\n",
    "        for block in text_blocks:\n",
    "            try:\n",
    "                area = block.find(\".//mets:area\", NS)\n",
    "                block_id = area.attrib['BEGIN']\n",
    "                block_ids.append(block_id)\n",
    "            except AttributeError:\n",
    "                print(f'Error in {newspaper_year}')\n",
    "        art_dict[article_id] = (article_title, block_ids)\n",
    "\n",
    "    mets_root.clear()\n",
    "\n",
    "    return art_dict\n",
    "\n",
    "\n",
    "    \n",
    "def mets2codes(mets_tarinfo, newspaper_year):\n",
    "    \"\"\"\n",
    "    Given mets as tarinfo, return text block codes for articles\n",
    "    contained in mets file. Edited for processing with tarfile\n",
    "    object newspaper_year.\n",
    "\n",
    "    Returns dictionary of article codes as keys,\n",
    "    with a 2-tuple containing the article title\n",
    "    and a list of corresponding text block codes as values.\n",
    "    \"\"\"\n",
    "    with newspaper_year.extractfile(mets_tarinfo) as file:\n",
    "        text = file.read()\n",
    "        \n",
    "    art_dict = mets2codes_inner(text, newspaper_year)\n",
    "\n",
    "    return art_dict\n",
    "\n",
    "\n",
    "\n",
    "def codes2texts_inner(article_codes, page_roots, issue_code):\n",
    "    \"\"\"\n",
    "    Given XML roots of ALTO pages and collection of article codes\n",
    "    and corresponding blocks, return a distionary with article codes \n",
    "    as keys and a list of text blocks as strings as values.\n",
    "    \"\"\"\n",
    "    \n",
    "    texts_dict = {}\n",
    "    for article_id in article_codes.keys():\n",
    "        title, blocks = article_codes[article_id]\n",
    "        text = []\n",
    "        for block in blocks:\n",
    "            end_loc = block.find('_')\n",
    "            page_no = block[0:end_loc]\n",
    "            page_root = page_roots[page_no]\n",
    "            xml_block = page_root.find(f\".//TextBlock[@ID='{block}']\")\n",
    "            block_strings = xml_block.findall('.//String')\n",
    "            block_as_string = process_block(block_strings)\n",
    "            text.append(block_as_string)\n",
    "        issue_article_id = issue_code + '_' + article_id[7:]\n",
    "        texts_dict[issue_article_id] = (title, text)\n",
    "        \n",
    "    return texts_dict\n",
    "\n",
    "    \n",
    "\n",
    "def codes2texts(article_codes, pages_tarinfo, newspaper_year, issue_code):\n",
    "    \"\"\"\n",
    "    Given article codes, the issue pages as tar info objects, \n",
    "    the newspaper year and the issue code, return a dictionary\n",
    "    with article codes as keys and a list of text blocks as\n",
    "    strings as values.\n",
    "    \"\"\"\n",
    "\n",
    "    page_roots = parse_pages_tar(pages_tarinfo, newspaper_year)\n",
    "    # page_roots returns a dictionary with pages numbers (of form 'P1'\n",
    "    # etc...) as keys and the XML roots of the pages as values.\n",
    "\n",
    "    texts_dict = codes2texts_inner(article_codes, page_roots, issue_code)\n",
    "\n",
    "    # Clear roots.\n",
    "    for i in range(len(page_roots)):\n",
    "        k, v = page_roots.popitem()\n",
    "        v.clear()\n",
    "\n",
    "    return texts_dict\n",
    "\n",
    "\n",
    "\n",
    "def parse_pages_tar(pages, newspaper_year):\n",
    "    \"\"\"\n",
    "    Given iterable of paths to page files, return\n",
    "    dictionary with 'P1', 'P2', etc as keys, and the\n",
    "    root element of each page as values.\n",
    "    \"\"\"\n",
    "    # Gives list members in order 0001, 0002 etc.\n",
    "    page_roots = {}\n",
    "    for i, page in enumerate(pages):\n",
    "        with newspaper_year.extractfile(page) as f:\n",
    "            text = f.read()\n",
    "        root = ET.fromstring(text)\n",
    "        page_roots[f'P{i+1}'] = root\n",
    "\n",
    "    return page_roots\n",
    "\n",
    "\n",
    "\n",
    "def process_block(block_strings):\n",
    "    \"\"\"\n",
    "    Given xml String elements from text block, return whole block\n",
    "    as single string.\n",
    "    \"\"\"\n",
    "    words = []\n",
    "    for s in block_strings:\n",
    "        words.append(s.attrib['CONTENT'])\n",
    "    total_string = ' '.join(words)\n",
    "\n",
    "    return total_string"
   ]
  },
  {
   "cell_type": "markdown",
   "metadata": {},
   "source": [
    "The following function calls the tarball processing function and returns its results as a dataframe."
   ]
  },
  {
   "cell_type": "code",
   "execution_count": 7,
   "metadata": {},
   "outputs": [],
   "source": [
    "def process_and_collect(path):\n",
    "    \"\"\"\n",
    "    Return dataframe of articles from newspaper/year combination.\n",
    "    \"\"\"\n",
    "    #print(f'Processing {path}')\n",
    "    try:\n",
    "        articles = process_tarball(path)\n",
    "        dataframe = pd.DataFrame.from_dict(\n",
    "            articles,\n",
    "            orient='index',\n",
    "            dtype = object,\n",
    "            columns=['Title', 'Text']\n",
    "            )\n",
    "    except:\n",
    "        print(f'Problem with {path}')\n",
    "        dataframe = None\n",
    "    return dataframe"
   ]
  },
  {
   "cell_type": "markdown",
   "metadata": {},
   "source": [
    "### Collecting All Articles"
   ]
  },
  {
   "cell_type": "markdown",
   "metadata": {},
   "source": [
    "We now load all of the tarballs, and collect them into 25 subsets, which we save as compressed pickled dataframes.\n",
    "\n",
    "25 is a somewhat arbitrary number. But considerations include tradeoff between amount of harddrive i/o and amount of available ram. "
   ]
  },
  {
   "cell_type": "code",
   "execution_count": 3,
   "metadata": {},
   "outputs": [],
   "source": [
    "NS = {'mets':'http://www.loc.gov/METS/'} # Load mets namespace\n",
    "\n",
    "DATASET_PATH = '../Dataset/papers-past/' \n",
    "# Path assumes project directory structure \n",
    "# project_folder/Datasets/papers-past/AG/AG_1879.tar.gz etc etc.\n",
    "\n",
    "TARBALLS = glob.glob(DATASET_PATH + '*/*.tar.gz') \n",
    "# First star runs over newspaper codes, second star runs over \n",
    "# the tarballs for each newspaper.\n",
    "\n",
    "subsets = 25\n",
    "num_subsets = len(TARBALLS)//subsets"
   ]
  },
  {
   "cell_type": "code",
   "execution_count": 8,
   "metadata": {},
   "outputs": [
    {
     "name": "stdout",
     "output_type": "stream",
     "text": [
      "Problem with ../Dataset/papers-past/LT/LT_1891.tar.gz\n",
      "Problem with ../Dataset/papers-past/LT/LT_1890.tar.gz\n",
      "Problem with ../Dataset/papers-past/TS/TS_1885.tar.gz\n",
      "Problem with ../Dataset/papers-past/TS/TS_1884.tar.gz\n",
      "Problem with ../Dataset/papers-past/TS/TS_1886.tar.gz\n",
      "Problem with ../Dataset/papers-past/TS/TS_1883.tar.gz\n",
      "Problem with ../Dataset/papers-past/CL/CL_1886.tar.gz\n",
      "Problem with ../Dataset/papers-past/NEM/NEM_1889.tar.gz\n",
      "Problem with ../Dataset/papers-past/ODT/ODT_1898.tar.gz\n",
      "Problem with ../Dataset/papers-past/TC/TC_1898.tar.gz\n",
      "Problem with ../Dataset/papers-past/MS/MS_1884.tar.gz\n",
      "Time taken: 51576.27934026718\n"
     ]
    }
   ],
   "source": [
    "t0 = time.time()\n",
    "for sub_group in range(subsets):\n",
    "    # Pick the tarballs for each subgroup. Exceptional case: final subgroup.\n",
    "    if sub_group == subsets - 1: \n",
    "        balls = TARBALLS[sub_group * num_subsets:]\n",
    "    else:\n",
    "        balls = TARBALLS[sub_group * num_subsets: (sub_group+1)* num_subsets]\n",
    "    num_balls = len(balls)\n",
    "    all_dfs = {}\n",
    "    j = 0\n",
    "    if __name__ == '__main__': # This 'if' statement is a standard way \n",
    "        # of wrapping up loops for multiprocessing.\n",
    "        with Pool(processes=os.cpu_count() - 4) as pool: # Change number of cores here.\n",
    "            dfs = pool.imap(process_and_collect, balls)\n",
    "            i = 0\n",
    "            for df in dfs:\n",
    "                #print(f'{time.time()}: {i}/{num_balls}')\n",
    "                try:\n",
    "                    all_dfs[i] = df\n",
    "                    i += 1\n",
    "                except (ValueError, AttributeError):\n",
    "                    j += 1\n",
    "        subgroup_df = pd.concat(all_dfs.values())\n",
    "        subgroup_df.to_pickle('../Dataset/processed-data/' + f'corpus_df_{sub_group}.tar.gz')\n",
    "        subgroup_df = None\n",
    "        all_dfs = None\n",
    "print(f'Time taken: {time.time() - t0}')\n"
   ]
  },
  {
   "cell_type": "markdown",
   "metadata": {},
   "source": [
    "Missing: LT1890-1891, TS1883-1886, CL1886, NEM1889, ODT1898, TC1898, MS1884.\n",
    "\n",
    "I checked the LT tarballs from the National Library website. Both are corrupted and missing files."
   ]
  },
  {
   "cell_type": "markdown",
   "metadata": {},
   "source": [
    "## Collecting Stragglers"
   ]
  },
  {
   "cell_type": "markdown",
   "metadata": {},
   "source": [
    "In this dataset, there are some corrupted tarballs. Similar problems will arise for other projects. In this section, I collect the tarballs which could not be processed using the previous method. I manually open the corrupted tarballs and retrieve any accessable files. The following code processes these tarballs and then saves them to an additional corpus dataframe."
   ]
  },
  {
   "cell_type": "markdown",
   "metadata": {},
   "source": [
    "It's worth noting already that 6/11 corrupted tarballs are from the Christchurch and Banks Peninsula region: two years of *Lyttleton Times* content and four years of content from *The Star*. The corrupted balls also include a year of the *Otago Daily Times*. Given the early intellectual activity from Otago this is a not good."
   ]
  },
  {
   "cell_type": "markdown",
   "metadata": {},
   "source": [
    "This requires some code to deal with METS/ALTO files which are not compressed. Our file structure is now {NEWSPAPER_CODE}/{YEAR}/{NEWSPAPER_CODE}_{DATE}/MM_01/ Where the METS and ALTO files are contained in the 'MM_01' folder."
   ]
  },
  {
   "cell_type": "markdown",
   "metadata": {},
   "source": [
    "We generate a list of issue folders:"
   ]
  },
  {
   "cell_type": "code",
   "execution_count": 9,
   "metadata": {},
   "outputs": [],
   "source": [
    "STRAGGLERS_PATH = '../Dataset/corrupted-tarballs/'\n",
    "\n",
    "path_walk = os.walk(STRAGGLERS_PATH)\n",
    "\n",
    "# Collect issue folders using regex. All are of form NEWSPAPERCODE_DATE,\n",
    "# where date is in format YYYYMMDD\n",
    "issue_directories = {}\n",
    "for location in path_walk:\n",
    "    match = re.search(\"[A-Z]*_\\d{8}$\", location[0])\n",
    "    if match:\n",
    "        issue_directories[match.group(0)] = location[0] + '/'"
   ]
  },
  {
   "cell_type": "markdown",
   "metadata": {},
   "source": [
    "We will again process these in parallel. We need an analogue of the `process_and_collect` function above."
   ]
  },
  {
   "cell_type": "code",
   "execution_count": 10,
   "metadata": {},
   "outputs": [],
   "source": [
    "def parse_pages(pages):\n",
    "    \"\"\"\n",
    "    Given iterable of paths to page files, return\n",
    "    dictionary with 'P1', 'P2', etc as keys, and the\n",
    "    root element of each page as values.\n",
    "    \"\"\"\n",
    "    # Gives list members in order 0001, 0002 etc.\n",
    "    pages.sort()\n",
    "    \n",
    "    page_roots = {}\n",
    "    for i, page in enumerate(pages):\n",
    "        with open(page) as f:\n",
    "            text = f.read()\n",
    "        root = ET.fromstring(text)\n",
    "        page_roots[f'P{i+1}'] = root\n",
    "\n",
    "    return page_roots\n",
    "\n",
    "\n",
    "\n",
    "def read_dir(filepath):\n",
    "    \"\"\"\n",
    "    Given directory ('filepath') of individual issue.\n",
    "    Checks existence of mets file and returns it a plaintext \n",
    "    along with a list of XML roots for each page file.\n",
    "    \"\"\"\n",
    "    \n",
    "    # Find all page file names.\n",
    "    pages = list(glob.glob(filepath + '0*.xml'))\n",
    "    pages = parse_pages(pages) # Return XML roots.\n",
    "    \n",
    "    if os.path.exists(filepath + 'mets.xml'):\n",
    "        with open(filepath + 'mets.xml') as f:\n",
    "            mets = f.read()\n",
    "    else:\n",
    "        print(f'No mets file found in {filepath}')\n",
    "        mets = None\n",
    "\n",
    "    return mets, pages\n",
    "\n",
    "\n",
    "\n",
    "def process_issue_directory(directory_item):\n",
    "    \"\"\"\n",
    "    Given an issue_code (a string of form {Newspaper code}_{Date})\n",
    "    and the filepath corresponding to the issue (also a string) as a 2-tuple,\n",
    "    process the issue and return a dataframe with article codes as\n",
    "    index column and columns for the article title and article text.\n",
    "    Title column contains strings, text column contains lists of strings.\n",
    "    \"\"\"\n",
    "    \n",
    "    issue_code, path = directory_item\n",
    "    \n",
    "    # Add extra niggle to path\n",
    "    path = path + 'MM_01/'\n",
    "    \n",
    "    try:\n",
    "        # Read in xml files. Return mets filepath and list of pages.\n",
    "        mets, pages = read_dir(path)\n",
    "\n",
    "        # Function to get list of articles and their text blocks from mets file.\n",
    "        article_codes = mets2codes_inner(mets, issue_code)  \n",
    "\n",
    "        # Function to take article and textblock codes and return articles.\n",
    "        all_articles = codes2texts_inner(article_codes, pages, issue_code)\n",
    "\n",
    "        article_df = pd.DataFrame.from_dict(\n",
    "                all_articles,\n",
    "                orient='index',\n",
    "                dtype = object,\n",
    "                columns=['Title', 'Text']\n",
    "                )\n",
    "        \n",
    "    except ET.ParseError:\n",
    "        article_df = pd.DataFrame()\n",
    "        print(f\"{issue_code} corrupted XML.\")\n",
    "\n",
    "    return article_df"
   ]
  },
  {
   "cell_type": "markdown",
   "metadata": {},
   "source": [
    "We now produce the final dataframe, containing all articles retreivable from these corrupted tarballs."
   ]
  },
  {
   "cell_type": "code",
   "execution_count": 11,
   "metadata": {},
   "outputs": [
    {
     "name": "stdout",
     "output_type": "stream",
     "text": [
      "LT_18901023 corrupted XML.\n",
      "LT_18910516 corrupted XML.\n",
      "Error in TS_18850406\n",
      "Error in TS_18850803\n",
      "Error in TS_18840310\n",
      "Error in TS_18831108\n",
      "Error in TS_18831023\n",
      "Error in TS_18831024\n",
      "Error in TS_18831010\n",
      "Error in TS_18860401\n",
      "Error in CL_18860723\n",
      "Error in NEM_18891221\n",
      "ODT_18981020 corrupted XML.\n",
      "Error in TC_18980514\n",
      "Error in TC_18981117\n",
      "Error in TC_18980212\n",
      "Error in TC_18980212\n",
      "Error in TC_18980518\n",
      "Error in MS_18840228\n"
     ]
    }
   ],
   "source": [
    "all_dfs = {}\n",
    "j = 0 # Gives access to number of dfs with errors.\n",
    "if __name__ == '__main__': # This 'if' statement is a standard way \n",
    "    # of wrapping up loops for multiprocessing.\n",
    "    with Pool(processes=os.cpu_count()-8) as pool:\n",
    "        dfs = pool.imap(process_issue_directory, list(issue_directories.items()))\n",
    "        i = 0\n",
    "        for df in dfs:\n",
    "            try:\n",
    "                all_dfs[i] = df\n",
    "                i += 1\n",
    "            except (ValueError, AttributeError):\n",
    "                j += 1\n",
    "    subgroup_df = pd.concat(all_dfs.values())\n",
    "    subgroup_df.to_pickle('../Dataset/processed-data/' + f'corpus_df_{subsets}.tar.gz')\n",
    "    subgroup_df = None\n",
    "    all_dfs = None"
   ]
  },
  {
   "cell_type": "markdown",
   "metadata": {},
   "source": [
    "Rather than losing full years of content for a given title, we only lose 19 issues of those which are supposed to be present."
   ]
  },
  {
   "cell_type": "markdown",
   "metadata": {},
   "source": [
    "***NB:*** we should not use this corpus to make claims which would require _complete_ data. For instance, that a certain topic was _never_ discussed in the ODT. Or, if we are being more specific, that a certain topic which was being discussed in late October 1898 was never discussed in the ODT. Of course, such claims should not typically be made on the basis of distant reading in general!  Without manual inspection, we can't trust that _every_ relevant item has been picked up by the long messy process from newspapers, to microfilm scans, to digital scans, to METS/ALTO XML files, to corpora produced using the method outlined in this project."
   ]
  },
  {
   "cell_type": "markdown",
   "metadata": {},
   "source": [
    "## Metadata Dataframes"
   ]
  },
  {
   "cell_type": "markdown",
   "metadata": {},
   "source": [
    "It will be useful to have some metadata concerning how many items are in each slice of the corpus, and which newspapers are present in them. While the tarballs are equally distributed in subgroups, the tarballs can contain radically different amounts of material (some newspapers were weekly, some were daily, etc.). Consequently, some slices contain more items than others."
   ]
  },
  {
   "cell_type": "code",
   "execution_count": 4,
   "metadata": {},
   "outputs": [],
   "source": [
    "dfs = []\n",
    "for i in range(subsets+1): # Take subsets and the stragglers group.\n",
    "    df = pd.read_pickle('../Dataset/processed-data/' + f'corpus_df_{i}.tar.gz')\n",
    "    df = df.drop('Text', axis=1)\n",
    "    df['Slice'] = i\n",
    "    dfs.append(df)\n",
    "items_by_slice = pd.concat(dfs)\n",
    "dfs = None"
   ]
  },
  {
   "cell_type": "code",
   "execution_count": 5,
   "metadata": {},
   "outputs": [
    {
     "data": {
      "text/html": [
       "<div>\n",
       "<style scoped>\n",
       "    .dataframe tbody tr th:only-of-type {\n",
       "        vertical-align: middle;\n",
       "    }\n",
       "\n",
       "    .dataframe tbody tr th {\n",
       "        vertical-align: top;\n",
       "    }\n",
       "\n",
       "    .dataframe thead th {\n",
       "        text-align: right;\n",
       "    }\n",
       "</style>\n",
       "<table border=\"1\" class=\"dataframe\">\n",
       "  <thead>\n",
       "    <tr style=\"text-align: right;\">\n",
       "      <th></th>\n",
       "      <th>Title</th>\n",
       "      <th>Slice</th>\n",
       "    </tr>\n",
       "  </thead>\n",
       "  <tbody>\n",
       "    <tr>\n",
       "      <th>LCP_18750108_ARTICLE1</th>\n",
       "      <td>POSTAL NOTICE.</td>\n",
       "      <td>0</td>\n",
       "    </tr>\n",
       "    <tr>\n",
       "      <th>LCP_18750108_ARTICLE2</th>\n",
       "      <td>The Arrow Observer, AND LAKES DISTRICT CHRONIC...</td>\n",
       "      <td>0</td>\n",
       "    </tr>\n",
       "    <tr>\n",
       "      <th>LCP_18750108_ARTICLE3</th>\n",
       "      <td>MACETOWN SCHOOL EXAMINATION.</td>\n",
       "      <td>0</td>\n",
       "    </tr>\n",
       "    <tr>\n",
       "      <th>LCP_18750108_ARTICLE4</th>\n",
       "      <td>GIBBSTON ANNUAL DISTRICT RACES.</td>\n",
       "      <td>0</td>\n",
       "    </tr>\n",
       "    <tr>\n",
       "      <th>LCP_18750108_ARTICLE5</th>\n",
       "      <td>CROMWELL RACES.</td>\n",
       "      <td>0</td>\n",
       "    </tr>\n",
       "    <tr>\n",
       "      <th>...</th>\n",
       "      <td>...</td>\n",
       "      <td>...</td>\n",
       "    </tr>\n",
       "    <tr>\n",
       "      <th>MS_18840527_ARTICLE43</th>\n",
       "      <td>Sir Julius Vogel.</td>\n",
       "      <td>25</td>\n",
       "    </tr>\n",
       "    <tr>\n",
       "      <th>MS_18840527_ARTICLE44</th>\n",
       "      <td>Te Kooti</td>\n",
       "      <td>25</td>\n",
       "    </tr>\n",
       "    <tr>\n",
       "      <th>MS_18840527_ARTICLE45</th>\n",
       "      <td>UNTITLED</td>\n",
       "      <td>25</td>\n",
       "    </tr>\n",
       "    <tr>\n",
       "      <th>MS_18840527_ARTICLE46</th>\n",
       "      <td>WEATHER TELEGRAM.</td>\n",
       "      <td>25</td>\n",
       "    </tr>\n",
       "    <tr>\n",
       "      <th>MS_18840527_ARTICLE47</th>\n",
       "      <td>Mail Notice.</td>\n",
       "      <td>25</td>\n",
       "    </tr>\n",
       "  </tbody>\n",
       "</table>\n",
       "<p>8173973 rows × 2 columns</p>\n",
       "</div>"
      ],
      "text/plain": [
       "                                                                   Title  \\\n",
       "LCP_18750108_ARTICLE1                                     POSTAL NOTICE.   \n",
       "LCP_18750108_ARTICLE2  The Arrow Observer, AND LAKES DISTRICT CHRONIC...   \n",
       "LCP_18750108_ARTICLE3                       MACETOWN SCHOOL EXAMINATION.   \n",
       "LCP_18750108_ARTICLE4                    GIBBSTON ANNUAL DISTRICT RACES.   \n",
       "LCP_18750108_ARTICLE5                                    CROMWELL RACES.   \n",
       "...                                                                  ...   \n",
       "MS_18840527_ARTICLE43                                  Sir Julius Vogel.   \n",
       "MS_18840527_ARTICLE44                                           Te Kooti   \n",
       "MS_18840527_ARTICLE45                                           UNTITLED   \n",
       "MS_18840527_ARTICLE46                                  WEATHER TELEGRAM.   \n",
       "MS_18840527_ARTICLE47                                       Mail Notice.   \n",
       "\n",
       "                       Slice  \n",
       "LCP_18750108_ARTICLE1      0  \n",
       "LCP_18750108_ARTICLE2      0  \n",
       "LCP_18750108_ARTICLE3      0  \n",
       "LCP_18750108_ARTICLE4      0  \n",
       "LCP_18750108_ARTICLE5      0  \n",
       "...                      ...  \n",
       "MS_18840527_ARTICLE43     25  \n",
       "MS_18840527_ARTICLE44     25  \n",
       "MS_18840527_ARTICLE45     25  \n",
       "MS_18840527_ARTICLE46     25  \n",
       "MS_18840527_ARTICLE47     25  \n",
       "\n",
       "[8173973 rows x 2 columns]"
      ]
     },
     "execution_count": 5,
     "metadata": {},
     "output_type": "execute_result"
    }
   ],
   "source": [
    "items_by_slice"
   ]
  },
  {
   "cell_type": "code",
   "execution_count": 11,
   "metadata": {},
   "outputs": [],
   "source": [
    "items_by_slice.to_pickle('../Dataset/processed-data/meta/items_by_slice.tar.gz')"
   ]
  },
  {
   "cell_type": "code",
   "execution_count": 15,
   "metadata": {},
   "outputs": [
    {
     "data": {
      "text/plain": [
       "13    599484\n",
       "2     597008\n",
       "7     447362\n",
       "10    436938\n",
       "19    422304\n",
       "14    360352\n",
       "5     356734\n",
       "17    354098\n",
       "11    330411\n",
       "12    324405\n",
       "20    324394\n",
       "1     315839\n",
       "18    315486\n",
       "15    314420\n",
       "16    303427\n",
       "9     285037\n",
       "3     281049\n",
       "23    257657\n",
       "24    249852\n",
       "21    238074\n",
       "4     226367\n",
       "8     211426\n",
       "0     173611\n",
       "6     168054\n",
       "22    159362\n",
       "25    120822\n",
       "Name: Slice, dtype: int64"
      ]
     },
     "execution_count": 15,
     "metadata": {},
     "output_type": "execute_result"
    }
   ],
   "source": [
    "slice_counts = items_by_slice['Slice'].value_counts()\n",
    "slice_counts"
   ]
  },
  {
   "cell_type": "markdown",
   "metadata": {},
   "source": [
    "There's quite a big difference between the largest slice (13, with almost 600,000 items) and the smallest non-straggler slice (22, with around 160,000 items)."
   ]
  },
  {
   "cell_type": "code",
   "execution_count": 10,
   "metadata": {},
   "outputs": [],
   "source": [
    "slice_counts.to_pickle('../Dataset/processed-data/meta/slice_counts.tar.gz')"
   ]
  },
  {
   "cell_type": "markdown",
   "metadata": {},
   "source": [
    "We can use this data to look at the distribution by year as well."
   ]
  },
  {
   "cell_type": "code",
   "execution_count": 29,
   "metadata": {},
   "outputs": [
    {
     "data": {
      "text/plain": [
       "<AxesSubplot:ylabel='Frequency'>"
      ]
     },
     "execution_count": 29,
     "metadata": {},
     "output_type": "execute_result"
    },
    {
     "data": {
      "image/png": "[encoded data removed]",
      "text/plain": [
       "<Figure size 432x288 with 1 Axes>"
      ]
     },
     "metadata": {
      "needs_background": "light"
     },
     "output_type": "display_data"
    }
   ],
   "source": [
    "items_by_slice['Year'] = items_by_slice.index.map(lambda x: x[x.find('_')+1:x.find('_')+5])\n",
    "items_by_slice['Year'] = pd.to_numeric(items_by_slice['Year'])\n",
    "items_by_slice['Year'].plot(kind='hist')"
   ]
  },
  {
   "cell_type": "markdown",
   "metadata": {},
   "source": [
    "We see that the later parts of the corpus massively outweigh the former. This is to be expected!"
   ]
  },
  {
   "cell_type": "markdown",
   "metadata": {},
   "source": [
    "We can also get a sense of regional coverage. Here I load an independently generated dictionary matching newspaper codes with their full names."
   ]
  },
  {
   "cell_type": "code",
   "execution_count": 8,
   "metadata": {},
   "outputs": [],
   "source": [
    "with open('../Dataset/processed-data/meta/codes2names.pickle', 'rb') as fin:\n",
    "    codes2names = pickle.load(fin)\n",
    "\n",
    "names2codes = {}\n",
    "for k, v in codes2names.items():\n",
    "    names2codes[v] = k\n",
    "\n",
    "input_string = \"\"\"Albertland Gazette \tAuckland\n",
    "Auckland Chronicle and New Zealand Colonist \tAuckland\n",
    "Auckland Star \tAuckland\n",
    "Auckland Times \tAuckland\n",
    "Daily Southern Cross \tAuckland\n",
    "New Zealand Herald \tAuckland\n",
    "New Zealand Herald and Auckland Gazette \tAuckland\n",
    "New Zealander \tAuckland\n",
    "Observer \tAuckland\n",
    "Bay of Plenty Times \tBay of Plenty\n",
    "Hot Lakes Chronicle \tBay of Plenty\n",
    "Akaroa Mail and Banks Peninsula Advertiser \tCanterbury\n",
    "Ashburton Guardian \tCanterbury\n",
    "Ashburton Herald \tCanterbury\n",
    "Ellesmere Guardian \tCanterbury\n",
    "Globe \tCanterbury\n",
    "Lyttelton Times \tCanterbury\n",
    "Oxford Observer \tCanterbury\n",
    "Press \tCanterbury\n",
    "South Canterbury Times \tCanterbury\n",
    "Star (Christchurch) \tCanterbury\n",
    "Temuka Leader \tCanterbury\n",
    "Timaru Herald \tCanterbury\n",
    "Waimate Daily Advertiser \tCanterbury\n",
    "Matariki \tGisborne\n",
    "Poverty Bay Herald \tGisborne\n",
    "Takitimu \tGisborne\n",
    "Bush Advocate \tHawke's Bay\n",
    "Daily Telegraph \tHawke's Bay\n",
    "Hastings Standard \tHawke's Bay\n",
    "Hawke's Bay Herald \tHawke's Bay\n",
    "Hawke's Bay Times \tHawke's Bay\n",
    "Hawke's Bay Weekly Times \tHawke's Bay\n",
    "Waipawa Mail \tHawke's Bay\n",
    "Feilding Star \tManawatu-Wanganui\n",
    "Manawatu Herald \tManawatu-Wanganui\n",
    "Manawatu Standard \tManawatu-Wanganui\n",
    "Manawatu Times \tManawatu-Wanganui\n",
    "Pahiatua Herald \tManawatu-Wanganui\n",
    "Wanganui Chronicle \tManawatu-Wanganui\n",
    "Wanganui Herald \tManawatu-Wanganui\n",
    "Woodville Examiner \tManawatu-Wanganui\n",
    "Marlborough Daily Times \tMarlborough\n",
    "Marlborough Express \tMarlborough\n",
    "Marlborough Press \tMarlborough\n",
    "Pelorus Guardian and Miners' Advocate. \tMarlborough\n",
    "Anglo-Maori Warder \tNational\n",
    "Aotearoa : he Nupepa ma nga Tangata Maori \tNational\n",
    "Haeata \tNational\n",
    "Hiiringa i te Whitu \tNational\n",
    "Hokioi o Nui-Tireni, e rere atuna \tNational\n",
    "Huia Tangata Kotahi \tNational\n",
    "Jubilee : Te Tiupiri \tNational\n",
    "Kahiti Tuturu mo Aotearoa, me te Waipounamu \tNational\n",
    "Korimako \tNational\n",
    "Maori Messenger : Te Karere Maori \tNational\n",
    "Pihoihoi Mokemoke i Runga i te Tuanui \tNational\n",
    "Saturday Advertiser \tNational\n",
    "Waka Maori \tNational\n",
    "Wananga \tNational\n",
    "Whetu o te Tau \tNational\n",
    "Colonist \tNelson\n",
    "Golden Bay Argus \tNelson\n",
    "Nelson Evening Mail \tNelson\n",
    "Nelson Examiner and New Zealand Chronicle \tNelson\n",
    "New Zealand Advertiser and Bay of Islands Gazette \tNorthland\n",
    "Northern Advocate \tNorthland\n",
    "Bruce Herald \tOtago\n",
    "Clutha Leader \tOtago\n",
    "Cromwell Argus \tOtago\n",
    "Dunstan Times \tOtago\n",
    "Evening Star \tOtago\n",
    "Lake County Press \tOtago\n",
    "Lake Wakatip Mail \tOtago\n",
    "Mataura Ensign \tOtago\n",
    "Mount Ida Chronicle \tOtago\n",
    "Mt Benger Mail \tOtago\n",
    "North Otago Times \tOtago\n",
    "Oamaru Mail \tOtago\n",
    "Otago Daily Times \tOtago\n",
    "Otago Witness \tOtago\n",
    "Southern Cross \tOtago\n",
    "Southland Times \tOtago\n",
    "Tuapeka Times \tOtago\n",
    "Western Star \tOtago\n",
    "Samoa Times and South Sea Advertiser \tSamoa\n",
    "Samoa Times and South Sea Gazette \tSamoa\n",
    "Samoa Weekly Herald \tSamoa\n",
    "Hawera & Normanby Star \tTaranaki\n",
    "Opunake Times \tTaranaki\n",
    "Patea Mail \tTaranaki\n",
    "Taranaki Herald \tTaranaki\n",
    "Ohinemuri Gazette \tWaikato\n",
    "Paki o Matariki \tWaikato\n",
    "Te Aroha News \tWaikato\n",
    "Thames Advertiser \tWaikato\n",
    "Thames Guardian and Mining Record \tWaikato\n",
    "Thames Star \tWaikato\n",
    "Waikato Argus \tWaikato\n",
    "Waikato Times \tWaikato\n",
    "Evening Post \tWellington\n",
    "Karere o Poneke \tWellington\n",
    "New Zealand Colonist and Port Nicholson Advertiser \tWellington\n",
    "New Zealand Gazette and Wellington Spectator \tWellington\n",
    "New Zealand Mail \tWellington\n",
    "New Zealand Spectator and Cook's Strait Guardian \tWellington\n",
    "New Zealand Times \tWellington\n",
    "Puke ki Hikurangi \tWellington\n",
    "Victoria Times \tWellington\n",
    "Wairarapa Daily Times \tWellington\n",
    "Wairarapa Standard \tWellington\n",
    "Wellington Independent \tWellington\n",
    "Charleston Argus \tWest Coast\n",
    "Grey River Argus \tWest Coast\n",
    "Inangahua Times \tWest Coast\n",
    "Kumara Times \tWest Coast\n",
    "Lyell Times and Central Buller Gazette \tWest Coast\n",
    "West Coast Times \tWest Coast\n",
    "Westport Times \tWest Coast\"\"\"\n",
    "\n",
    "code2region = {}\n",
    "pairs = [pair_string.split(' \\t') for pair_string in input_string.split('\\n')]\n",
    "\n",
    "for pair in pairs:\n",
    "    newspaper = pair[0]\n",
    "    region = pair[1]\n",
    "    try:\n",
    "        code = names2codes[newspaper]\n",
    "        code2region[code] = region\n",
    "    except KeyError:\n",
    "        pass"
   ]
  },
  {
   "cell_type": "code",
   "execution_count": 10,
   "metadata": {},
   "outputs": [],
   "source": [
    "#Straggler\n",
    "code2region['TS'] = 'Canterbury'"
   ]
  },
  {
   "cell_type": "markdown",
   "metadata": {},
   "source": [
    "We save the codes2region dictionary for future use."
   ]
  },
  {
   "cell_type": "code",
   "execution_count": 7,
   "metadata": {},
   "outputs": [
    {
     "ename": "NameError",
     "evalue": "name 'code2region' is not defined",
     "output_type": "error",
     "traceback": [
      "\u001b[0;31m---------------------------------------------------------------------------\u001b[0m",
      "\u001b[0;31mNameError\u001b[0m                                 Traceback (most recent call last)",
      "\u001b[0;32m/tmp/ipykernel_15023/3028761825.py\u001b[0m in \u001b[0;36m<module>\u001b[0;34m\u001b[0m\n\u001b[1;32m      1\u001b[0m \u001b[0;32mwith\u001b[0m \u001b[0mopen\u001b[0m\u001b[0;34m(\u001b[0m\u001b[0;34m'../Dataset/processed-data/meta/code2region.pickle'\u001b[0m\u001b[0;34m,\u001b[0m \u001b[0;34m'wb'\u001b[0m\u001b[0;34m)\u001b[0m \u001b[0;32mas\u001b[0m \u001b[0mfout\u001b[0m\u001b[0;34m:\u001b[0m\u001b[0;34m\u001b[0m\u001b[0;34m\u001b[0m\u001b[0m\n\u001b[0;32m----> 2\u001b[0;31m     \u001b[0mpickle\u001b[0m\u001b[0;34m.\u001b[0m\u001b[0mdump\u001b[0m\u001b[0;34m(\u001b[0m\u001b[0mcode2region\u001b[0m\u001b[0;34m,\u001b[0m \u001b[0mfout\u001b[0m\u001b[0;34m)\u001b[0m\u001b[0;34m\u001b[0m\u001b[0;34m\u001b[0m\u001b[0m\n\u001b[0m",
      "\u001b[0;31mNameError\u001b[0m: name 'code2region' is not defined"
     ]
    }
   ],
   "source": [
    "with open('../Dataset/processed-data/meta/code2region.pickle', 'wb') as fout:\n",
    "    pickle.dump(code2region, fout)"
   ]
  },
  {
   "cell_type": "markdown",
   "metadata": {},
   "source": [
    "We can now look at some distributions of items across regions."
   ]
  },
  {
   "cell_type": "code",
   "execution_count": 11,
   "metadata": {},
   "outputs": [],
   "source": [
    "items_by_slice['Newspaper'] = items_by_slice.index.map(lambda x: x[0:x.find('_')])\n",
    "items_by_slice['Region'] = items_by_slice['Newspaper'].map(lambda x: code2region[x])"
   ]
  },
  {
   "cell_type": "code",
   "execution_count": 38,
   "metadata": {},
   "outputs": [
    {
     "data": {
      "text/plain": [
       "<AxesSubplot:>"
      ]
     },
     "execution_count": 38,
     "metadata": {},
     "output_type": "execute_result"
    },
    {
     "data": {
      "image/png": "[encoded data removed]",
      "text/plain": [
       "<Figure size 432x288 with 1 Axes>"
      ]
     },
     "metadata": {
      "needs_background": "light"
     },
     "output_type": "display_data"
    }
   ],
   "source": [
    "items_by_slice['Region'].value_counts().plot(kind='bar')"
   ]
  },
  {
   "cell_type": "markdown",
   "metadata": {},
   "source": [
    "Massive over representation of Otago and Canterbury in this dataset (when measured by number of distinct newspaper items). We had better keep this in mind when reasoning about any corpora we generate!"
   ]
  },
  {
   "cell_type": "code",
   "execution_count": 4,
   "metadata": {},
   "outputs": [],
   "source": [
    "items_by_slice = pd.read_pickle('../Dataset/processed-data/meta/items_by_slice.tar.gz')"
   ]
  },
  {
   "cell_type": "code",
   "execution_count": 16,
   "metadata": {},
   "outputs": [
    {
     "data": {
      "text/html": [
       "<div>\n",
       "<style scoped>\n",
       "    .dataframe tbody tr th:only-of-type {\n",
       "        vertical-align: middle;\n",
       "    }\n",
       "\n",
       "    .dataframe tbody tr th {\n",
       "        vertical-align: top;\n",
       "    }\n",
       "\n",
       "    .dataframe thead th {\n",
       "        text-align: right;\n",
       "    }\n",
       "</style>\n",
       "<table border=\"1\" class=\"dataframe\">\n",
       "  <thead>\n",
       "    <tr style=\"text-align: right;\">\n",
       "      <th></th>\n",
       "      <th>Title</th>\n",
       "      <th>Slice</th>\n",
       "      <th>Newspaper</th>\n",
       "      <th>Region</th>\n",
       "    </tr>\n",
       "  </thead>\n",
       "  <tbody>\n",
       "    <tr>\n",
       "      <th>HLC_18970102_ARTICLE1</th>\n",
       "      <td>VISITORS' LIST.</td>\n",
       "      <td>3</td>\n",
       "      <td>HLC</td>\n",
       "      <td>Bay of Plenty</td>\n",
       "    </tr>\n",
       "    <tr>\n",
       "      <th>HLC_18970102_ARTICLE2</th>\n",
       "      <td>THE HOT LAKES CHRONICLE AND Tourists' Journal....</td>\n",
       "      <td>3</td>\n",
       "      <td>HLC</td>\n",
       "      <td>Bay of Plenty</td>\n",
       "    </tr>\n",
       "    <tr>\n",
       "      <th>HLC_18970102_ARTICLE3</th>\n",
       "      <td>LOCAL NEWS AND NOTES.</td>\n",
       "      <td>3</td>\n",
       "      <td>HLC</td>\n",
       "      <td>Bay of Plenty</td>\n",
       "    </tr>\n",
       "    <tr>\n",
       "      <th>HLC_18970102_ARTICLE4</th>\n",
       "      <td>TO TIKITERE ON A TRIO OF BIKES.</td>\n",
       "      <td>3</td>\n",
       "      <td>HLC</td>\n",
       "      <td>Bay of Plenty</td>\n",
       "    </tr>\n",
       "    <tr>\n",
       "      <th>HLC_18970102_ARTICLE5</th>\n",
       "      <td>THE MAN WHO KNOWS THE ROAD.</td>\n",
       "      <td>3</td>\n",
       "      <td>HLC</td>\n",
       "      <td>Bay of Plenty</td>\n",
       "    </tr>\n",
       "    <tr>\n",
       "      <th>...</th>\n",
       "      <td>...</td>\n",
       "      <td>...</td>\n",
       "      <td>...</td>\n",
       "      <td>...</td>\n",
       "    </tr>\n",
       "    <tr>\n",
       "      <th>HLC_18951225_ARTICLE6</th>\n",
       "      <td>ROBERTSON'S NEW STABLES.</td>\n",
       "      <td>3</td>\n",
       "      <td>HLC</td>\n",
       "      <td>Bay of Plenty</td>\n",
       "    </tr>\n",
       "    <tr>\n",
       "      <th>HLC_18951225_ARTICLE7</th>\n",
       "      <td>TOWN BOARD MEETING.</td>\n",
       "      <td>3</td>\n",
       "      <td>HLC</td>\n",
       "      <td>Bay of Plenty</td>\n",
       "    </tr>\n",
       "    <tr>\n",
       "      <th>HLC_18951225_ARTICLE8</th>\n",
       "      <td>CHURCH CONCERT.</td>\n",
       "      <td>3</td>\n",
       "      <td>HLC</td>\n",
       "      <td>Bay of Plenty</td>\n",
       "    </tr>\n",
       "    <tr>\n",
       "      <th>HLC_18951225_ARTICLE9</th>\n",
       "      <td>SCHOOL PICNIC.</td>\n",
       "      <td>3</td>\n",
       "      <td>HLC</td>\n",
       "      <td>Bay of Plenty</td>\n",
       "    </tr>\n",
       "    <tr>\n",
       "      <th>HLC_18951225_ARTICLE10</th>\n",
       "      <td>IN ANCIENT MAORI LAND.</td>\n",
       "      <td>3</td>\n",
       "      <td>HLC</td>\n",
       "      <td>Bay of Plenty</td>\n",
       "    </tr>\n",
       "  </tbody>\n",
       "</table>\n",
       "<p>1571 rows × 4 columns</p>\n",
       "</div>"
      ],
      "text/plain": [
       "                                                                    Title  \\\n",
       "HLC_18970102_ARTICLE1                                     VISITORS' LIST.   \n",
       "HLC_18970102_ARTICLE2   THE HOT LAKES CHRONICLE AND Tourists' Journal....   \n",
       "HLC_18970102_ARTICLE3                               LOCAL NEWS AND NOTES.   \n",
       "HLC_18970102_ARTICLE4                     TO TIKITERE ON A TRIO OF BIKES.   \n",
       "HLC_18970102_ARTICLE5                         THE MAN WHO KNOWS THE ROAD.   \n",
       "...                                                                   ...   \n",
       "HLC_18951225_ARTICLE6                            ROBERTSON'S NEW STABLES.   \n",
       "HLC_18951225_ARTICLE7                                 TOWN BOARD MEETING.   \n",
       "HLC_18951225_ARTICLE8                                     CHURCH CONCERT.   \n",
       "HLC_18951225_ARTICLE9                                      SCHOOL PICNIC.   \n",
       "HLC_18951225_ARTICLE10                             IN ANCIENT MAORI LAND.   \n",
       "\n",
       "                        Slice Newspaper         Region  \n",
       "HLC_18970102_ARTICLE1       3       HLC  Bay of Plenty  \n",
       "HLC_18970102_ARTICLE2       3       HLC  Bay of Plenty  \n",
       "HLC_18970102_ARTICLE3       3       HLC  Bay of Plenty  \n",
       "HLC_18970102_ARTICLE4       3       HLC  Bay of Plenty  \n",
       "HLC_18970102_ARTICLE5       3       HLC  Bay of Plenty  \n",
       "...                       ...       ...            ...  \n",
       "HLC_18951225_ARTICLE6       3       HLC  Bay of Plenty  \n",
       "HLC_18951225_ARTICLE7       3       HLC  Bay of Plenty  \n",
       "HLC_18951225_ARTICLE8       3       HLC  Bay of Plenty  \n",
       "HLC_18951225_ARTICLE9       3       HLC  Bay of Plenty  \n",
       "HLC_18951225_ARTICLE10      3       HLC  Bay of Plenty  \n",
       "\n",
       "[1571 rows x 4 columns]"
      ]
     },
     "execution_count": 16,
     "metadata": {},
     "output_type": "execute_result"
    }
   ],
   "source": [
    "items_by_slice[items_by_slice['Region'] == \"Bay of Plenty\"]"
   ]
  },
  {
   "cell_type": "markdown",
   "metadata": {},
   "source": [
    "## Next Steps"
   ]
  },
  {
   "cell_type": "markdown",
   "metadata": {},
   "source": [
    "### In corpus construction method"
   ]
  },
  {
   "cell_type": "markdown",
   "metadata": {},
   "source": [
    "Having processed and stored what we require from the raw METS/ALTO data, the next step is to begin the first iteration of corpus construction. This begins in the \"Corpus Exploration\" notebook."
   ]
  },
  {
   "cell_type": "markdown",
   "metadata": {},
   "source": [
    "### For this code"
   ]
  },
  {
   "cell_type": "markdown",
   "metadata": {},
   "source": [
    "The way that METS files and ALTO files are handled is not symetrical. We pass XML roots to our functions for pages (ALTO files) and an XML file as raw text to our function for the METS file. This could be tidied up in a future iteration."
   ]
  }
 ],
 "metadata": {
  "kernelspec": {
   "display_name": "Python 3 (ipykernel)",
   "language": "python",
   "name": "python3"
  },
  "language_info": {
   "codemirror_mode": {
    "name": "ipython",
    "version": 3
   },
   "file_extension": ".py",
   "mimetype": "text/x-python",
   "name": "python",
   "nbconvert_exporter": "python",
   "pygments_lexer": "ipython3",
   "version": "3.9.7"
  }
 },
 "nbformat": 4,
 "nbformat_minor": 4
}
