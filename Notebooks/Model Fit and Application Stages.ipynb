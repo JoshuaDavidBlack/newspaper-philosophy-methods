{
 "cells": [
  {
   "cell_type": "markdown",
   "metadata": {},
   "source": [
    "# Model Fit and Application Stage"
   ]
  },
  {
   "cell_type": "markdown",
   "metadata": {},
   "source": [
    "This notebook presents the steps to fit and evaluate classification models and to apply a selected model to the entire dataset to generate a new candidate corpus. We will use the philosophy/non-philosophy label.\n",
    "\n",
    "The structure is as follows:\n",
    "\n",
    "1. importing data from the labelling stage,\n",
    "2. examing the labelled data and divide into testing and training sets (looking after class balance in the training set),\n",
    "3. setting up and fitting a `scikit-learn` pipeline for a naive bayes classifier and choosing model parameters using cross validation,\n",
    "4. evaluating the model both qualitatively and quantitiatively, and\n",
    "5. applying the model to the entire processed dataset to generate a new candidate corpus."
   ]
  },
  {
   "cell_type": "markdown",
   "metadata": {},
   "source": [
    "## Imports"
   ]
  },
  {
   "cell_type": "markdown",
   "metadata": {},
   "source": [
    "We will use `sklearn` for model fit. While the main method used in this project is Naive Bayes Classification, code for the use of support vector machines is also provided."
   ]
  },
  {
   "cell_type": "code",
   "execution_count": 1,
   "metadata": {},
   "outputs": [],
   "source": [
    "import os\n",
    "import pickle\n",
    "\n",
    "from ipywidgets import interact, interactive, fixed, interact_manual\n",
    "import ipywidgets as widgets\n",
    "\n",
    "from nltk.corpus import stopwords\n",
    "\n",
    "import numpy as np\n",
    "\n",
    "from sklearn import metrics\n",
    "from sklearn.feature_extraction.text import CountVectorizer, TfidfTransformer\n",
    "from sklearn.model_selection import GridSearchCV\n",
    "from sklearn.naive_bayes import MultinomialNB\n",
    "from sklearn.svm import SVC\n",
    "from sklearn.pipeline import Pipeline\n",
    "\n",
    "import pandas as pd\n",
    "\n",
    "\n",
    "stopword_set = set(stopwords.words('english'))"
   ]
  },
  {
   "cell_type": "markdown",
   "metadata": {},
   "source": [
    "Set the current iteration."
   ]
  },
  {
   "cell_type": "code",
   "execution_count": 2,
   "metadata": {},
   "outputs": [],
   "source": [
    "ITERATION = 1"
   ]
  },
  {
   "cell_type": "markdown",
   "metadata": {},
   "source": [
    "We load the labelled data set from the previous stage."
   ]
  },
  {
   "cell_type": "code",
   "execution_count": 3,
   "metadata": {
    "scrolled": true
   },
   "outputs": [],
   "source": [
    "labels = pd.read_pickle(f'../Labels/labels_{ITERATION}.tar.gz')"
   ]
  },
  {
   "cell_type": "markdown",
   "metadata": {},
   "source": [
    "We check that they are in the right form:"
   ]
  },
  {
   "cell_type": "code",
   "execution_count": 4,
   "metadata": {},
   "outputs": [
    {
     "data": {
      "text/html": [
       "<div>\n",
       "<style scoped>\n",
       "    .dataframe tbody tr th:only-of-type {\n",
       "        vertical-align: middle;\n",
       "    }\n",
       "\n",
       "    .dataframe tbody tr th {\n",
       "        vertical-align: top;\n",
       "    }\n",
       "\n",
       "    .dataframe thead th {\n",
       "        text-align: right;\n",
       "    }\n",
       "</style>\n",
       "<table border=\"1\" class=\"dataframe\">\n",
       "  <thead>\n",
       "    <tr style=\"text-align: right;\">\n",
       "      <th></th>\n",
       "      <th>NZ</th>\n",
       "      <th>Notes</th>\n",
       "      <th>Philosophy</th>\n",
       "      <th>Philosophy Type</th>\n",
       "      <th>Readable</th>\n",
       "      <th>Writing Type</th>\n",
       "      <th>Text</th>\n",
       "    </tr>\n",
       "  </thead>\n",
       "  <tbody>\n",
       "    <tr>\n",
       "      <th>LT_18971209_ARTICLE7</th>\n",
       "      <td>None</td>\n",
       "      <td></td>\n",
       "      <td>False</td>\n",
       "      <td>None</td>\n",
       "      <td>True</td>\n",
       "      <td>None</td>\n",
       "      <td>[YOUR PALE AND SALLOW GIRLS NEED ATTENTION. TH...</td>\n",
       "    </tr>\n",
       "    <tr>\n",
       "      <th>NZTIM_18860722_ARTICLE11</th>\n",
       "      <td>None</td>\n",
       "      <td></td>\n",
       "      <td>False</td>\n",
       "      <td>None</td>\n",
       "      <td>True</td>\n",
       "      <td>None</td>\n",
       "      <td>[By.Eleotbio Telegraph—Copyright. (BEDIEB’S TE...</td>\n",
       "    </tr>\n",
       "    <tr>\n",
       "      <th>WC_18810721_ARTICLE7</th>\n",
       "      <td>None</td>\n",
       "      <td></td>\n",
       "      <td>False</td>\n",
       "      <td>None</td>\n",
       "      <td>True</td>\n",
       "      <td>None</td>\n",
       "      <td>[July 18. ; The \"Very Eev. A. P. Stanley, Dean...</td>\n",
       "    </tr>\n",
       "    <tr>\n",
       "      <th>DUNST_18980513_ARTICLE3</th>\n",
       "      <td>None</td>\n",
       "      <td></td>\n",
       "      <td>False</td>\n",
       "      <td>None</td>\n",
       "      <td>True</td>\n",
       "      <td>None</td>\n",
       "      <td>[(“ Weekly Press.”), There is something pathet...</td>\n",
       "    </tr>\n",
       "    <tr>\n",
       "      <th>OAM_18960702_ARTICLE35</th>\n",
       "      <td>None</td>\n",
       "      <td></td>\n",
       "      <td>False</td>\n",
       "      <td>None</td>\n",
       "      <td>True</td>\n",
       "      <td>None</td>\n",
       "      <td>[A novel suggestion as to the division of 1 a ...</td>\n",
       "    </tr>\n",
       "    <tr>\n",
       "      <th>...</th>\n",
       "      <td>...</td>\n",
       "      <td>...</td>\n",
       "      <td>...</td>\n",
       "      <td>...</td>\n",
       "      <td>...</td>\n",
       "      <td>...</td>\n",
       "      <td>...</td>\n",
       "    </tr>\n",
       "    <tr>\n",
       "      <th>AS_18821010_ARTICLE41</th>\n",
       "      <td>False</td>\n",
       "      <td></td>\n",
       "      <td>True</td>\n",
       "      <td>r</td>\n",
       "      <td>True</td>\n",
       "      <td>p</td>\n",
       "      <td>[An immense audience assembled in the Opera Ho...</td>\n",
       "    </tr>\n",
       "    <tr>\n",
       "      <th>NEM_18840707_ARTICLE12</th>\n",
       "      <td>True</td>\n",
       "      <td></td>\n",
       "      <td>True</td>\n",
       "      <td>r</td>\n",
       "      <td>True</td>\n",
       "      <td>p</td>\n",
       "      <td>[to assume that it was self evident. Ingenious...</td>\n",
       "    </tr>\n",
       "    <tr>\n",
       "      <th>ODT_18980127_ARTICLE31</th>\n",
       "      <td>True</td>\n",
       "      <td></td>\n",
       "      <td>True</td>\n",
       "      <td>r</td>\n",
       "      <td>True</td>\n",
       "      <td>p</td>\n",
       "      <td>[Dr Stordeur gave a lecture at the Oddfellows'...</td>\n",
       "    </tr>\n",
       "    <tr>\n",
       "      <th>NZTIM_18960806_ARTICLE1</th>\n",
       "      <td>True</td>\n",
       "      <td></td>\n",
       "      <td>True</td>\n",
       "      <td>e</td>\n",
       "      <td>True</td>\n",
       "      <td>f</td>\n",
       "      <td>[A Chief Apostle of Vegetarianism-cura- Mity t...</td>\n",
       "    </tr>\n",
       "    <tr>\n",
       "      <th>ESD_18941026_ARTICLE4</th>\n",
       "      <td>False</td>\n",
       "      <td></td>\n",
       "      <td>True</td>\n",
       "      <td>r</td>\n",
       "      <td>True</td>\n",
       "      <td>f</td>\n",
       "      <td>[Mr Gladstone's article in the ' Nineteenth Ce...</td>\n",
       "    </tr>\n",
       "  </tbody>\n",
       "</table>\n",
       "<p>273 rows × 7 columns</p>\n",
       "</div>"
      ],
      "text/plain": [
       "                             NZ Notes Philosophy Philosophy Type Readable  \\\n",
       "LT_18971209_ARTICLE7       None            False            None     True   \n",
       "NZTIM_18860722_ARTICLE11   None            False            None     True   \n",
       "WC_18810721_ARTICLE7       None            False            None     True   \n",
       "DUNST_18980513_ARTICLE3    None            False            None     True   \n",
       "OAM_18960702_ARTICLE35     None            False            None     True   \n",
       "...                         ...   ...        ...             ...      ...   \n",
       "AS_18821010_ARTICLE41     False             True               r     True   \n",
       "NEM_18840707_ARTICLE12     True             True               r     True   \n",
       "ODT_18980127_ARTICLE31     True             True               r     True   \n",
       "NZTIM_18960806_ARTICLE1    True             True               e     True   \n",
       "ESD_18941026_ARTICLE4     False             True               r     True   \n",
       "\n",
       "                         Writing Type  \\\n",
       "LT_18971209_ARTICLE7             None   \n",
       "NZTIM_18860722_ARTICLE11         None   \n",
       "WC_18810721_ARTICLE7             None   \n",
       "DUNST_18980513_ARTICLE3          None   \n",
       "OAM_18960702_ARTICLE35           None   \n",
       "...                               ...   \n",
       "AS_18821010_ARTICLE41               p   \n",
       "NEM_18840707_ARTICLE12              p   \n",
       "ODT_18980127_ARTICLE31              p   \n",
       "NZTIM_18960806_ARTICLE1             f   \n",
       "ESD_18941026_ARTICLE4               f   \n",
       "\n",
       "                                                                       Text  \n",
       "LT_18971209_ARTICLE7      [YOUR PALE AND SALLOW GIRLS NEED ATTENTION. TH...  \n",
       "NZTIM_18860722_ARTICLE11  [By.Eleotbio Telegraph—Copyright. (BEDIEB’S TE...  \n",
       "WC_18810721_ARTICLE7      [July 18. ; The \"Very Eev. A. P. Stanley, Dean...  \n",
       "DUNST_18980513_ARTICLE3   [(“ Weekly Press.”), There is something pathet...  \n",
       "OAM_18960702_ARTICLE35    [A novel suggestion as to the division of 1 a ...  \n",
       "...                                                                     ...  \n",
       "AS_18821010_ARTICLE41     [An immense audience assembled in the Opera Ho...  \n",
       "NEM_18840707_ARTICLE12    [to assume that it was self evident. Ingenious...  \n",
       "ODT_18980127_ARTICLE31    [Dr Stordeur gave a lecture at the Oddfellows'...  \n",
       "NZTIM_18960806_ARTICLE1   [A Chief Apostle of Vegetarianism-cura- Mity t...  \n",
       "ESD_18941026_ARTICLE4     [Mr Gladstone's article in the ' Nineteenth Ce...  \n",
       "\n",
       "[273 rows x 7 columns]"
      ]
     },
     "execution_count": 4,
     "metadata": {},
     "output_type": "execute_result"
    }
   ],
   "source": [
    "labels"
   ]
  },
  {
   "cell_type": "markdown",
   "metadata": {},
   "source": [
    "## Data"
   ]
  },
  {
   "cell_type": "markdown",
   "metadata": {},
   "source": [
    "### Examine"
   ]
  },
  {
   "cell_type": "markdown",
   "metadata": {},
   "source": [
    "It is worth looking at the class balance for the labels you are interested in. In this case, I'll look at `Philosophy`, `Philosophy Type` and `Writing Type`. "
   ]
  },
  {
   "cell_type": "code",
   "execution_count": 5,
   "metadata": {},
   "outputs": [
    {
     "data": {
      "text/plain": [
       "<AxesSubplot:>"
      ]
     },
     "execution_count": 5,
     "metadata": {},
     "output_type": "execute_result"
    },
    {
     "data": {
      "image/png": "[encoded data removed]",
      "text/plain": [
       "<Figure size 432x288 with 1 Axes>"
      ]
     },
     "metadata": {
      "needs_background": "light"
     },
     "output_type": "display_data"
    }
   ],
   "source": [
    "labels['Philosophy'].value_counts().plot(kind='bar')"
   ]
  },
  {
   "cell_type": "markdown",
   "metadata": {},
   "source": [
    "In the case of any specialist subject, it will be much easier to get items which do not fit the criteria than those which do. So, even with a strong attempt to get a balanced set of labels, we should still expect to not quite have a 50-50 split here."
   ]
  },
  {
   "cell_type": "code",
   "execution_count": 6,
   "metadata": {},
   "outputs": [
    {
     "data": {
      "text/plain": [
       "<AxesSubplot:>"
      ]
     },
     "execution_count": 6,
     "metadata": {},
     "output_type": "execute_result"
    },
    {
     "data": {
      "image/png": "[encoded data removed]",
      "text/plain": [
       "<Figure size 432x288 with 1 Axes>"
      ]
     },
     "metadata": {
      "needs_background": "light"
     },
     "output_type": "display_data"
    }
   ],
   "source": [
    "labels['Philosophy Type'].value_counts().plot(kind='bar')"
   ]
  },
  {
   "cell_type": "code",
   "execution_count": 7,
   "metadata": {
    "scrolled": true
   },
   "outputs": [
    {
     "data": {
      "text/plain": [
       "<AxesSubplot:>"
      ]
     },
     "execution_count": 7,
     "metadata": {},
     "output_type": "execute_result"
    },
    {
     "data": {
      "image/png": "[encoded data removed]",
      "text/plain": [
       "<Figure size 432x288 with 1 Axes>"
      ]
     },
     "metadata": {
      "needs_background": "light"
     },
     "output_type": "display_data"
    }
   ],
   "source": [
    "labels['Writing Type'].value_counts().plot(kind='bar')"
   ]
  },
  {
   "cell_type": "markdown",
   "metadata": {},
   "source": [
    "In this worksheet, we'll set up a philosophy/non-philosophy classifier."
   ]
  },
  {
   "cell_type": "code",
   "execution_count": 8,
   "metadata": {},
   "outputs": [],
   "source": [
    "non_phil_count = labels['Philosophy'].value_counts()[0]\n",
    "phil_count = labels['Philosophy'].value_counts()[1]"
   ]
  },
  {
   "cell_type": "code",
   "execution_count": 9,
   "metadata": {},
   "outputs": [
    {
     "name": "stdout",
     "output_type": "stream",
     "text": [
      "Philosophy item count: 101\n",
      "Non-philosophy item count: 147\n"
     ]
    }
   ],
   "source": [
    "print(f\"Philosophy item count: {phil_count}\")\n",
    "print(f\"Non-philosophy item count: {non_phil_count}\")"
   ]
  },
  {
   "cell_type": "markdown",
   "metadata": {},
   "source": [
    "### Training/Test Split"
   ]
  },
  {
   "cell_type": "markdown",
   "metadata": {},
   "source": [
    "To train a classifier to pick out blocks with philosophical content and those which do not, we begin by making a training/testing split. We take 75% for training and 25% for testing. We sample from each class seperately and then assign the remaining rows to the test dataset."
   ]
  },
  {
   "cell_type": "code",
   "execution_count": 10,
   "metadata": {},
   "outputs": [],
   "source": [
    "training_phil = (\n",
    "    labels.loc[labels['Philosophy']==True]\n",
    "    .sample(n=phil_count//4 * 3, random_state=1)\n",
    ")\n",
    "\n",
    "training_nonphil = (\n",
    "    labels.loc[labels['Philosophy']==False]\n",
    "    .sample(n=non_phil_count//4 * 3, random_state=1)\n",
    ")\n",
    "\n",
    "training = training_phil.append(training_nonphil)\n",
    "\n",
    "del training_phil, training_nonphil\n",
    "\n",
    "test = labels.loc[[i for i in labels.index if not i in training.index]]"
   ]
  },
  {
   "cell_type": "markdown",
   "metadata": {},
   "source": [
    "### Upsampling"
   ]
  },
  {
   "cell_type": "markdown",
   "metadata": {},
   "source": [
    "We want our training data to be roughly 50/50 in terms of philosophy, so we duplicate a random collection of philosophy items. The following code duplicates 5 random items until the number of philosophy items is close to the number of nonphilosophy items."
   ]
  },
  {
   "cell_type": "code",
   "execution_count": 11,
   "metadata": {},
   "outputs": [],
   "source": [
    "j = 0\n",
    "balanced = False\n",
    "non_phil_training = len(training[training['Philosophy'] == False])\n",
    "while balanced == False:\n",
    "    indices_to_double = (\n",
    "        training[training['Philosophy']==True]\n",
    "        .sample(n=5, random_state=j) \n",
    "        .index\n",
    "    )\n",
    "    for i in indices_to_double:\n",
    "        training.loc[f'{i}_upsample_{j}'] = training.loc[i]\n",
    "    balanced = (\n",
    "        non_phil_training - 5 < \n",
    "        len(training[training['Philosophy']==True]) <= \n",
    "        non_phil_training + 5\n",
    "    )\n",
    "    j += 1"
   ]
  },
  {
   "cell_type": "markdown",
   "metadata": {},
   "source": [
    "The results, as follows, show that the number of philosophy and non-philosophy articles is now the same."
   ]
  },
  {
   "cell_type": "code",
   "execution_count": 12,
   "metadata": {},
   "outputs": [
    {
     "data": {
      "text/plain": [
       "False    108\n",
       "True     105\n",
       "Name: Philosophy, dtype: int64"
      ]
     },
     "execution_count": 12,
     "metadata": {},
     "output_type": "execute_result"
    }
   ],
   "source": [
    "training['Philosophy'].value_counts()"
   ]
  },
  {
   "cell_type": "markdown",
   "metadata": {},
   "source": [
    "## Set up Pipeline and Fit Model"
   ]
  },
  {
   "cell_type": "markdown",
   "metadata": {},
   "source": [
    "The following pipeline sets up the preprocessing steps for our classifier. At the dictionary creation stage, it removes stopwords and requires words to be at least three characters long. It also sets a `max_df` value, which at `0.4` insists that any word in the dictionary can appear in no more than 40% of the items, and a `min_df` value, which at `5` insists that any word in the dictionary must be in at least five items. These two hyperparaameters are just default values. The actual values will be determined by a grid search. We include a TF-IDF transformer and feed into the `MultinomialNB` function. Note that we are training a binary classifier rather than a multi-class classifier. Even so, this is handled by the multinomial Naive Bayes function provided by sci-kit learn."
   ]
  },
  {
   "cell_type": "code",
   "execution_count": 13,
   "metadata": {},
   "outputs": [],
   "source": [
    "classifier = Pipeline([\n",
    "    ('vect', CountVectorizer(\n",
    "        max_df=0.4,\n",
    "        min_df=5,\n",
    "        stop_words=stopword_set, \n",
    "        token_pattern=r'(?u)\\b\\w\\w\\w+\\b')),\n",
    "    ('tfidf', TfidfTransformer()),\n",
    "    ('clf', MultinomialNB()),\n",
    "])"
   ]
  },
  {
   "cell_type": "markdown",
   "metadata": {},
   "source": [
    "We extract the training and test data as features. First, we define a helper function to convert the articles to a single string rather than a list of strings."
   ]
  },
  {
   "cell_type": "code",
   "execution_count": 14,
   "metadata": {},
   "outputs": [],
   "source": [
    "def blocks2string(text_blocks):\n",
    "    \"\"\"Given textblocks return blocks as single string.\"\"\"\n",
    "    return '\\n'.join(text_blocks)"
   ]
  },
  {
   "cell_type": "code",
   "execution_count": 15,
   "metadata": {},
   "outputs": [],
   "source": [
    "training_features = training['Text'].map(blocks2string).astype('string').to_numpy()\n",
    "training_labels = training['Philosophy'].to_numpy().astype(bool)"
   ]
  },
  {
   "cell_type": "markdown",
   "metadata": {},
   "source": [
    "Rather than just fitting the above model, we can set a range of parameters and use a grid cross validation search. The details of each of these parameters can be viewed in the `sklearn` [documentation](https://scikit-learn.org/stable/). But note here that we allow for up to 3-grams in our features. That is, we allow the model to know about groups of three adjacent words. We also allow for the dictionary to use tfidf representation rather than standard bag of words frequency counts."
   ]
  },
  {
   "cell_type": "code",
   "execution_count": 16,
   "metadata": {},
   "outputs": [],
   "source": [
    "parameters = {\n",
    "    'vect__min_df': [2, 5, 7, 10, 15],\n",
    "    'vect__max_df': [0.2, 0.3, 0.4, 0.5, 0.6],\n",
    "    'vect__ngram_range': [(1, 1), (1, 2), (1, 3)],\n",
    "    'tfidf__use_idf': (True, False),\n",
    "    'clf__alpha': [0.5, 0.75, 1]\n",
    "}"
   ]
  },
  {
   "cell_type": "markdown",
   "metadata": {},
   "source": [
    "The following cell fits the model, and may take some time to run. We use overall accuracy as the training measure."
   ]
  },
  {
   "cell_type": "markdown",
   "metadata": {},
   "source": [
    "***TODO: set this up to run in parallel***"
   ]
  },
  {
   "cell_type": "code",
   "execution_count": 17,
   "metadata": {},
   "outputs": [
    {
     "data": {
      "text/plain": [
       "GridSearchCV(cv=5,\n",
       "             estimator=Pipeline(steps=[('vect',\n",
       "                                        CountVectorizer(max_df=0.4, min_df=5,\n",
       "                                                        stop_words={'a',\n",
       "                                                                    'about',\n",
       "                                                                    'above',\n",
       "                                                                    'after',\n",
       "                                                                    'again',\n",
       "                                                                    'against',\n",
       "                                                                    'ain',\n",
       "                                                                    'all', 'am',\n",
       "                                                                    'an', 'and',\n",
       "                                                                    'any',\n",
       "                                                                    'are',\n",
       "                                                                    'aren',\n",
       "                                                                    \"aren't\",\n",
       "                                                                    'as', 'at',\n",
       "                                                                    'be',\n",
       "                                                                    'because',\n",
       "                                                                    'been',\n",
       "                                                                    'before',\n",
       "                                                                    'being',\n",
       "                                                                    'below',\n",
       "                                                                    'between',\n",
       "                                                                    'both',\n",
       "                                                                    'but', 'by',\n",
       "                                                                    'can',\n",
       "                                                                    'couldn',\n",
       "                                                                    \"couldn't\", ...},\n",
       "                                                        token_pattern='(?u)\\\\b\\\\w\\\\w\\\\w+\\\\b')),\n",
       "                                       ('tfidf', TfidfTransformer()),\n",
       "                                       ('clf', MultinomialNB())]),\n",
       "             n_jobs=1,\n",
       "             param_grid={'clf__alpha': [0.5, 0.75, 1],\n",
       "                         'tfidf__use_idf': (True, False),\n",
       "                         'vect__max_df': [0.2, 0.3, 0.4, 0.5, 0.6],\n",
       "                         'vect__min_df': [2, 5, 7, 10, 15],\n",
       "                         'vect__ngram_range': [(1, 1), (1, 2), (1, 3)]})"
      ]
     },
     "execution_count": 17,
     "metadata": {},
     "output_type": "execute_result"
    }
   ],
   "source": [
    "gs_clf = GridSearchCV(classifier, parameters, cv=5, n_jobs=1)\n",
    "gs_clf.fit(training_features, training_labels)"
   ]
  },
  {
   "cell_type": "markdown",
   "metadata": {},
   "source": [
    "We look at out best score:"
   ]
  },
  {
   "cell_type": "code",
   "execution_count": 20,
   "metadata": {},
   "outputs": [
    {
     "data": {
      "text/plain": [
       "0.9483942414174973"
      ]
     },
     "execution_count": 20,
     "metadata": {},
     "output_type": "execute_result"
    }
   ],
   "source": [
    "gs_clf.best_score_"
   ]
  },
  {
   "cell_type": "markdown",
   "metadata": {},
   "source": [
    "...and the parameters for which it was achieved:"
   ]
  },
  {
   "cell_type": "code",
   "execution_count": 21,
   "metadata": {},
   "outputs": [
    {
     "name": "stdout",
     "output_type": "stream",
     "text": [
      "clf__alpha: 0.5\n",
      "tfidf__use_idf: True\n",
      "vect__max_df: 0.4\n",
      "vect__min_df: 2\n",
      "vect__ngram_range: (1, 1)\n"
     ]
    }
   ],
   "source": [
    "for param_name in sorted(parameters.keys()):\n",
    "    print(\"%s: %r\" % (param_name, gs_clf.best_params_[param_name]))"
   ]
  },
  {
   "cell_type": "markdown",
   "metadata": {},
   "source": [
    "For the first iteration model included by default in this notebook, we have a smoothing factor of 0.5, a tf-idf representation of the documents, we accept words in at least two items and do not use n-grams."
   ]
  },
  {
   "cell_type": "markdown",
   "metadata": {},
   "source": [
    "Note that the `GridSearchCV` object refits the chosen model on the full dataset. Consequently, we do not need to manually retrain the classifier using the found hyperparamenters."
   ]
  },
  {
   "cell_type": "code",
   "execution_count": 37,
   "metadata": {},
   "outputs": [],
   "source": [
    "best_classifier = gs_clf.best_estimator_"
   ]
  },
  {
   "cell_type": "markdown",
   "metadata": {},
   "source": [
    "We save this model:"
   ]
  },
  {
   "cell_type": "code",
   "execution_count": 38,
   "metadata": {},
   "outputs": [],
   "source": [
    "with open(f'../Classifiers/classifier_{ITERATION}.tar.gz', 'wb') as fout:\n",
    "    pickle.dump(best_classifier, fout)"
   ]
  },
  {
   "cell_type": "markdown",
   "metadata": {},
   "source": [
    "## Model Evaluation"
   ]
  },
  {
   "cell_type": "markdown",
   "metadata": {},
   "source": [
    "We apply both quantitative and qualitative evaluation to the model. The quantitative evaluation consists of fitting the model to the test data set and examing the accuracy, recall, and precision. Having examing this, we then look at the items which are misclassified and consider what they tell us about how the model is failing."
   ]
  },
  {
   "cell_type": "markdown",
   "metadata": {},
   "source": [
    "### Quantitative"
   ]
  },
  {
   "cell_type": "markdown",
   "metadata": {},
   "source": [
    "The accuracy given above was for the training set. This will, in any but the strangest situations, be higher than the accuracy attained for the test set. We apply the model to the test set now:"
   ]
  },
  {
   "cell_type": "code",
   "execution_count": 114,
   "metadata": {},
   "outputs": [],
   "source": [
    "test_features = test['Text'].astype('string').to_numpy()\n",
    "test_labels = test['Philosophy'].to_numpy().astype(bool)\n",
    "predicted = best_classifier.predict(test_features)"
   ]
  },
  {
   "cell_type": "code",
   "execution_count": 115,
   "metadata": {},
   "outputs": [
    {
     "data": {
      "text/plain": [
       "0.9333333333333333"
      ]
     },
     "execution_count": 115,
     "metadata": {},
     "output_type": "execute_result"
    }
   ],
   "source": [
    "np.mean(predicted == test_labels)"
   ]
  },
  {
   "cell_type": "markdown",
   "metadata": {},
   "source": [
    "The above shows that we have a 93% accuracy for the test dataset. However, accuracy is not the only metric, it may be that false negatives or false positives are more common than one another. We need to look at the [_precision_ and _recall_](https://en.wikipedia.org/wiki/Precision_and_recall)."
   ]
  },
  {
   "cell_type": "code",
   "execution_count": 116,
   "metadata": {},
   "outputs": [
    {
     "data": {
      "text/plain": [
       "array([[62,  2],\n",
       "       [ 4, 22]])"
      ]
     },
     "execution_count": 116,
     "metadata": {},
     "output_type": "execute_result"
    }
   ],
   "source": [
    "confusion_matrix = metrics.confusion_matrix(test_labels, predicted)\n",
    "confusion_matrix"
   ]
  },
  {
   "cell_type": "code",
   "execution_count": 117,
   "metadata": {},
   "outputs": [
    {
     "name": "stdout",
     "output_type": "stream",
     "text": [
      "recall: 0.8461538461538461\n",
      "precision: 0.9166666666666666\n"
     ]
    }
   ],
   "source": [
    "tp = confusion_matrix[1][1]\n",
    "fn = confusion_matrix[1][0]\n",
    "fp = confusion_matrix[0][1]\n",
    "tn = confusion_matrix[0][0]\n",
    "recall = tp/(tp+fn)\n",
    "precision = tp/(tp+fp)\n",
    "print(f'recall: {recall}')\n",
    "print(f'precision: {precision}')"
   ]
  },
  {
   "cell_type": "markdown",
   "metadata": {},
   "source": [
    "The recall tells us the ratio of true positives to total philosophy items in the test set. That is, of the philosophy items, what proportion are picked out by the model. The precision tells us, of the items classified by the model as philosophy, how many are actually philosophy. Both are high. Usually, it is best to balance these. Attempts to maximise recall will tend to increase the number of false positives, while attempts to increase precision will tend to increase the number of false negatives."
   ]
  },
  {
   "cell_type": "markdown",
   "metadata": {},
   "source": [
    "### Qualitative evaluation"
   ]
  },
  {
   "cell_type": "markdown",
   "metadata": {},
   "source": [
    "At this point, it may be that there is something in common between the misclassified articles which can be taken in to the labelling stage. It may also be that the articles which are misclassified are those which we already considered borderline calls at the labelling stage."
   ]
  },
  {
   "cell_type": "markdown",
   "metadata": {},
   "source": [
    "#### False negatives."
   ]
  },
  {
   "cell_type": "markdown",
   "metadata": {},
   "source": [
    "We begin by looking at the false negatives. Our labelling in this case have given us a few other variables by which to interpret the false positives. We can look, for instance, at the `Philosophy type` and `Writing Type` variables."
   ]
  },
  {
   "cell_type": "code",
   "execution_count": 118,
   "metadata": {},
   "outputs": [
    {
     "data": {
      "text/plain": [
       "o    3\n",
       "e    1\n",
       "Name: Philosophy Type, dtype: int64"
      ]
     },
     "execution_count": 118,
     "metadata": {},
     "output_type": "execute_result"
    }
   ],
   "source": [
    "test['Predicted'] = predicted\n",
    "false_negatives = test.loc[(test['Philosophy'] == True)&(test['Predicted'] == False)]\n",
    "false_negatives['Philosophy Type'].value_counts()"
   ]
  },
  {
   "cell_type": "code",
   "execution_count": 119,
   "metadata": {},
   "outputs": [
    {
     "data": {
      "text/plain": [
       "f    3\n",
       "p    1\n",
       "Name: Writing Type, dtype: int64"
      ]
     },
     "execution_count": 119,
     "metadata": {},
     "output_type": "execute_result"
    }
   ],
   "source": [
    "false_negatives['Writing Type'].value_counts()"
   ]
  },
  {
   "cell_type": "markdown",
   "metadata": {},
   "source": [
    "We have three in the 'other' category for philosophy type and one in the 'ethics'. So we shouldn't be worried if we are mainly interested in 'religion and science' articles. We have three 'first order' bits of writing and one report of a public event. Let's look at these in more detail:"
   ]
  },
  {
   "cell_type": "code",
   "execution_count": 120,
   "metadata": {
    "scrolled": false
   },
   "outputs": [
    {
     "data": {
      "text/html": [
       "<div>\n",
       "<style scoped>\n",
       "    .dataframe tbody tr th:only-of-type {\n",
       "        vertical-align: middle;\n",
       "    }\n",
       "\n",
       "    .dataframe tbody tr th {\n",
       "        vertical-align: top;\n",
       "    }\n",
       "\n",
       "    .dataframe thead th {\n",
       "        text-align: right;\n",
       "    }\n",
       "</style>\n",
       "<table border=\"1\" class=\"dataframe\">\n",
       "  <thead>\n",
       "    <tr style=\"text-align: right;\">\n",
       "      <th></th>\n",
       "      <th>NZ</th>\n",
       "      <th>Notes</th>\n",
       "      <th>Philosophy</th>\n",
       "      <th>Philosophy Type</th>\n",
       "      <th>Readable</th>\n",
       "      <th>Writing Type</th>\n",
       "      <th>Text</th>\n",
       "      <th>Predicted</th>\n",
       "    </tr>\n",
       "  </thead>\n",
       "  <tbody>\n",
       "    <tr>\n",
       "      <th>NEM_18920804_ARTICLE37</th>\n",
       "      <td>None</td>\n",
       "      <td></td>\n",
       "      <td>True</td>\n",
       "      <td>o</td>\n",
       "      <td>True</td>\n",
       "      <td>f</td>\n",
       "      <td>[(From the Danedin Evening Star.) The resignat...</td>\n",
       "      <td>False</td>\n",
       "    </tr>\n",
       "    <tr>\n",
       "      <th>LT_18860204_ARTICLE16</th>\n",
       "      <td>True</td>\n",
       "      <td>first paragraph</td>\n",
       "      <td>True</td>\n",
       "      <td>e</td>\n",
       "      <td>True</td>\n",
       "      <td>f</td>\n",
       "      <td>[Sie Julius Vogel has been declared elementary...</td>\n",
       "      <td>False</td>\n",
       "    </tr>\n",
       "    <tr>\n",
       "      <th>HBT_18650904_ARTICLE11</th>\n",
       "      <td>None</td>\n",
       "      <td>Mention of phil books in library</td>\n",
       "      <td>True</td>\n",
       "      <td>o</td>\n",
       "      <td>True</td>\n",
       "      <td>f</td>\n",
       "      <td>[t(OOD Woeds July, 1865 ; Sunday Magazine —Jul...</td>\n",
       "      <td>False</td>\n",
       "    </tr>\n",
       "    <tr>\n",
       "      <th>WI_18661215_ARTICLE14</th>\n",
       "      <td>True</td>\n",
       "      <td>contains report of lecture on 'philosophy of d...</td>\n",
       "      <td>True</td>\n",
       "      <td>o</td>\n",
       "      <td>True</td>\n",
       "      <td>p</td>\n",
       "      <td>[Ancient Okpeb of Remiabitks.— A Tent of the a...</td>\n",
       "      <td>False</td>\n",
       "    </tr>\n",
       "  </tbody>\n",
       "</table>\n",
       "</div>"
      ],
      "text/plain": [
       "                          NZ  \\\n",
       "NEM_18920804_ARTICLE37  None   \n",
       "LT_18860204_ARTICLE16   True   \n",
       "HBT_18650904_ARTICLE11  None   \n",
       "WI_18661215_ARTICLE14   True   \n",
       "\n",
       "                                                                    Notes  \\\n",
       "NEM_18920804_ARTICLE37                                                      \n",
       "LT_18860204_ARTICLE16                                     first paragraph   \n",
       "HBT_18650904_ARTICLE11                   Mention of phil books in library   \n",
       "WI_18661215_ARTICLE14   contains report of lecture on 'philosophy of d...   \n",
       "\n",
       "                       Philosophy Philosophy Type Readable Writing Type  \\\n",
       "NEM_18920804_ARTICLE37       True               o     True            f   \n",
       "LT_18860204_ARTICLE16        True               e     True            f   \n",
       "HBT_18650904_ARTICLE11       True               o     True            f   \n",
       "WI_18661215_ARTICLE14        True               o     True            p   \n",
       "\n",
       "                                                                     Text  \\\n",
       "NEM_18920804_ARTICLE37  [(From the Danedin Evening Star.) The resignat...   \n",
       "LT_18860204_ARTICLE16   [Sie Julius Vogel has been declared elementary...   \n",
       "HBT_18650904_ARTICLE11  [t(OOD Woeds July, 1865 ; Sunday Magazine —Jul...   \n",
       "WI_18661215_ARTICLE14   [Ancient Okpeb of Remiabitks.— A Tent of the a...   \n",
       "\n",
       "                        Predicted  \n",
       "NEM_18920804_ARTICLE37      False  \n",
       "LT_18860204_ARTICLE16       False  \n",
       "HBT_18650904_ARTICLE11      False  \n",
       "WI_18661215_ARTICLE14       False  "
      ]
     },
     "execution_count": 120,
     "metadata": {},
     "output_type": "execute_result"
    }
   ],
   "source": [
    "false_negatives"
   ]
  },
  {
   "cell_type": "markdown",
   "metadata": {},
   "source": [
    "We can also look at the plain text of these:"
   ]
  },
  {
   "cell_type": "code",
   "execution_count": 121,
   "metadata": {},
   "outputs": [
    {
     "data": {
      "application/vnd.jupyter.widget-view+json": {
       "model_id": "3c4f65d269594b67b630e46eadb369e9",
       "version_major": 2,
       "version_minor": 0
      },
      "text/plain": [
       "interactive(children=(Dropdown(description='index', options=('NEM_18920804_ARTICLE37', 'LT_18860204_ARTICLE16'…"
      ]
     },
     "metadata": {},
     "output_type": "display_data"
    },
    {
     "data": {
      "text/plain": [
       "<function __main__.print_article_text(index, dataframe)>"
      ]
     },
     "execution_count": 121,
     "metadata": {},
     "output_type": "execute_result"
    }
   ],
   "source": [
    "def print_article_text(index, dataframe):\n",
    "    article_text = dataframe.loc[index]['Text']\n",
    "    print (f\"\"\"\n",
    "{index}\n",
    "    \n",
    "{dataframe.loc[index]['Philosophy Type']} -{dataframe.loc[index]['Notes']} \n",
    "\n",
    "{article_text}\n",
    "\"\"\")\n",
    "indices = false_negatives.index\n",
    "interact(print_article_text, index=indices, dataframe=fixed(false_negatives))"
   ]
  },
  {
   "cell_type": "markdown",
   "metadata": {
    "slideshow": {
     "slide_type": "slide"
    }
   },
   "source": [
    "`WI_18661215_ARTICLE14` is an excellent example of a compositie piece in which only some of the piece is what we are after (the section 'philosophy of dreams'."
   ]
  },
  {
   "cell_type": "markdown",
   "metadata": {},
   "source": [
    "#### False positives"
   ]
  },
  {
   "cell_type": "markdown",
   "metadata": {},
   "source": [
    "We now look at the false positives. Since these were not labelled with `Philosophy Type` or, in this version of the project, with `Writing Type` (***NB:*** not labelling non-philosophy with writing type was a mistake in the design of the project), we can't look at the distribution of these. We go straight to the dataframe and the plain text. "
   ]
  },
  {
   "cell_type": "code",
   "execution_count": 71,
   "metadata": {},
   "outputs": [
    {
     "data": {
      "text/html": [
       "<div>\n",
       "<style scoped>\n",
       "    .dataframe tbody tr th:only-of-type {\n",
       "        vertical-align: middle;\n",
       "    }\n",
       "\n",
       "    .dataframe tbody tr th {\n",
       "        vertical-align: top;\n",
       "    }\n",
       "\n",
       "    .dataframe thead th {\n",
       "        text-align: right;\n",
       "    }\n",
       "</style>\n",
       "<table border=\"1\" class=\"dataframe\">\n",
       "  <thead>\n",
       "    <tr style=\"text-align: right;\">\n",
       "      <th></th>\n",
       "      <th>NZ</th>\n",
       "      <th>Notes</th>\n",
       "      <th>Philosophy</th>\n",
       "      <th>Philosophy Type</th>\n",
       "      <th>Readable</th>\n",
       "      <th>Text</th>\n",
       "      <th>Writing Type</th>\n",
       "      <th>Predicted</th>\n",
       "    </tr>\n",
       "  </thead>\n",
       "  <tbody>\n",
       "    <tr>\n",
       "      <th>LT_18801016_ARTICLE32</th>\n",
       "      <td>None</td>\n",
       "      <td></td>\n",
       "      <td>False</td>\n",
       "      <td>None</td>\n",
       "      <td>True</td>\n",
       "      <td>1h i fallowing is the result of the Annuel Pas...</td>\n",
       "      <td>None</td>\n",
       "      <td>True</td>\n",
       "    </tr>\n",
       "    <tr>\n",
       "      <th>WH_18740318_ARTICLE8</th>\n",
       "      <td>None</td>\n",
       "      <td></td>\n",
       "      <td>False</td>\n",
       "      <td>None</td>\n",
       "      <td>True</td>\n",
       "      <td>(Communicate;!),\\nA very remarkable revival mo...</td>\n",
       "      <td>None</td>\n",
       "      <td>True</td>\n",
       "    </tr>\n",
       "  </tbody>\n",
       "</table>\n",
       "</div>"
      ],
      "text/plain": [
       "                         NZ Notes Philosophy Philosophy Type Readable  \\\n",
       "LT_18801016_ARTICLE32  None            False            None     True   \n",
       "WH_18740318_ARTICLE8   None            False            None     True   \n",
       "\n",
       "                                                                    Text  \\\n",
       "LT_18801016_ARTICLE32  1h i fallowing is the result of the Annuel Pas...   \n",
       "WH_18740318_ARTICLE8   (Communicate;!),\\nA very remarkable revival mo...   \n",
       "\n",
       "                      Writing Type  Predicted  \n",
       "LT_18801016_ARTICLE32         None       True  \n",
       "WH_18740318_ARTICLE8          None       True  "
      ]
     },
     "execution_count": 71,
     "metadata": {},
     "output_type": "execute_result"
    }
   ],
   "source": [
    "false_positives = test.loc[(test['Philosophy'] == False)&(test['Predicted'] == True)]\n",
    "false_positives"
   ]
  },
  {
   "cell_type": "code",
   "execution_count": 135,
   "metadata": {},
   "outputs": [
    {
     "data": {
      "application/vnd.jupyter.widget-view+json": {
       "model_id": "0f2fb35f7bab4c66bfde0065198c7c00",
       "version_major": 2,
       "version_minor": 0
      },
      "text/plain": [
       "interactive(children=(Dropdown(description='index', options=('DUNST_18980513_ARTICLE3', 'ESD_18890912_ARTICLE3…"
      ]
     },
     "metadata": {},
     "output_type": "display_data"
    },
    {
     "data": {
      "text/plain": [
       "<function __main__.print_article_text(index, dataframe)>"
      ]
     },
     "execution_count": 135,
     "metadata": {},
     "output_type": "execute_result"
    }
   ],
   "source": [
    "def print_article_text(index, dataframe):\n",
    "    article_text = dataframe.loc[index]['Text']\n",
    "    print (f\"\"\"\n",
    "{index}\n",
    "    \n",
    "{dataframe.loc[index]['Philosophy Type']} -{dataframe.loc[index]['Notes']} \n",
    "\n",
    "{article_text}\n",
    "\"\"\")\n",
    "indices = false_positives.index\n",
    "interact(print_article_text, index=indices, dataframe=fixed(false_positives))"
   ]
  },
  {
   "cell_type": "markdown",
   "metadata": {},
   "source": [
    "Of the two items which are falsely listed as philosophy, we have one which contains a list of students and their results in subjects including philosophy. The other is a report of a religious revival meeting in Scotland. There are mentions of philosophy in passing and of students at the university and, indeed, various professors. This kind of item is not far from what we might be interested in if interested in the relationship between say, religion and secular thought. From this, I'd conclude that we shouldn't be too worried that our false positives will put our corpus off track."
   ]
  },
  {
   "cell_type": "markdown",
   "metadata": {},
   "source": [
    "### A Model Application Trick For Composite Articles"
   ]
  },
  {
   "cell_type": "markdown",
   "metadata": {},
   "source": [
    "The problem of composite articles seems to arise because the 'philosophical bit' of the articles is outweighed by other material. Since our labelling happens at the level of item, we can't train the classifier with portions of items. However, we can cut up items into smaller chunks and run each chunk through the trained classifier, giving a positive classification if one chunk is labelled as philosphy."
   ]
  },
  {
   "cell_type": "markdown",
   "metadata": {},
   "source": [
    "We don't use text blocks, as they are of unreliable length. So, having turned the 'blocks' into a single string, we now turn the strings into a list of 'chunks' of 3000 characters (which is chosen to be around 400 words on average). Other options are possible here."
   ]
  },
  {
   "cell_type": "markdown",
   "metadata": {},
   "source": [
    "The following function (`string2chunks`) divides the string into a list of strings of the required length."
   ]
  },
  {
   "cell_type": "code",
   "execution_count": 146,
   "metadata": {},
   "outputs": [],
   "source": [
    "def string2chunks(in_string, max_chunk_length = 3000):\n",
    "    string_length = len(in_string)\n",
    "    out_string_count = (string_length // max_chunk_length) + 1\n",
    "    out_strings = []\n",
    "    \n",
    "    for i in range(out_string_count):\n",
    "        start_point = i * max_chunk_length\n",
    "        \n",
    "        # Handle case in which there is less than max_chunk_length\n",
    "        # characters left.\n",
    "        if (len(in_string) - start_point) < max_chunk_length:\n",
    "            end_point = len(in_string)\n",
    "        else:\n",
    "            end_point = start_point + max_chunk_length\n",
    "            \n",
    "        chunk = in_string[start_point:end_point]\n",
    "        out_strings.append(chunk)\n",
    "        \n",
    "    return out_strings"
   ]
  },
  {
   "cell_type": "markdown",
   "metadata": {},
   "source": [
    "We now copy the test dataframe and divide the features into blocks, run them through the best classifier, and output the overall accuracy."
   ]
  },
  {
   "cell_type": "code",
   "execution_count": 151,
   "metadata": {},
   "outputs": [
    {
     "data": {
      "text/plain": [
       "0.8675213675213675"
      ]
     },
     "execution_count": 151,
     "metadata": {},
     "output_type": "execute_result"
    }
   ],
   "source": [
    "test_chunks = test.copy(deep=True)\n",
    "\n",
    "test_chunks['Text'] = test_chunks['Text'].map(blocks2string).map(string2chunks)\n",
    "\n",
    "test_chunks = test_chunks.explode('Text')\n",
    "\n",
    "test_features = test_chunks['Text'].astype('string').to_numpy()\n",
    "test_labels = test_chunks['Philosophy'].to_numpy().astype(bool)\n",
    "test_chunks['Predicted'] = best_classifier.predict(test_features)\n",
    "\n",
    "np.mean(test_chunks['Predicted'] == test_labels)"
   ]
  },
  {
   "cell_type": "markdown",
   "metadata": {},
   "source": [
    "Note that this is a decrease in stated accuracy. However, this is not our final labelling. The suspision is that the false negative rate has gone up. We generate the confusion matrix and then the recall and precision."
   ]
  },
  {
   "cell_type": "code",
   "execution_count": 152,
   "metadata": {},
   "outputs": [
    {
     "data": {
      "text/plain": [
       "array([[147,  11],\n",
       "       [ 20,  56]])"
      ]
     },
     "execution_count": 152,
     "metadata": {},
     "output_type": "execute_result"
    }
   ],
   "source": [
    "confusion_matrix = metrics.confusion_matrix(test_labels, test_chunks['Predicted'])\n",
    "confusion_matrix"
   ]
  },
  {
   "cell_type": "code",
   "execution_count": 153,
   "metadata": {},
   "outputs": [
    {
     "name": "stdout",
     "output_type": "stream",
     "text": [
      "recall: 0.7368421052631579\n",
      "precision: 0.835820895522388\n"
     ]
    }
   ],
   "source": [
    "tp = confusion_matrix[1][1]\n",
    "fn = confusion_matrix[1][0]\n",
    "fp = confusion_matrix[0][1]\n",
    "tn = confusion_matrix[0][0]\n",
    "recall = tp/(tp+fn)\n",
    "precision = tp/(tp+fp)\n",
    "print(f'recall: {recall}')\n",
    "print(f'precision: {precision}')"
   ]
  },
  {
   "cell_type": "markdown",
   "metadata": {},
   "source": [
    "We look at an article to see how it is being divided up."
   ]
  },
  {
   "cell_type": "code",
   "execution_count": 155,
   "metadata": {},
   "outputs": [
    {
     "data": {
      "text/html": [
       "<div>\n",
       "<style scoped>\n",
       "    .dataframe tbody tr th:only-of-type {\n",
       "        vertical-align: middle;\n",
       "    }\n",
       "\n",
       "    .dataframe tbody tr th {\n",
       "        vertical-align: top;\n",
       "    }\n",
       "\n",
       "    .dataframe thead th {\n",
       "        text-align: right;\n",
       "    }\n",
       "</style>\n",
       "<table border=\"1\" class=\"dataframe\">\n",
       "  <thead>\n",
       "    <tr style=\"text-align: right;\">\n",
       "      <th></th>\n",
       "      <th>NZ</th>\n",
       "      <th>Notes</th>\n",
       "      <th>Philosophy</th>\n",
       "      <th>Philosophy Type</th>\n",
       "      <th>Readable</th>\n",
       "      <th>Writing Type</th>\n",
       "      <th>Text</th>\n",
       "      <th>Predicted</th>\n",
       "    </tr>\n",
       "  </thead>\n",
       "  <tbody>\n",
       "    <tr>\n",
       "      <th>WI_18661215_ARTICLE14</th>\n",
       "      <td>True</td>\n",
       "      <td>contains report of lecture on 'philosophy of d...</td>\n",
       "      <td>True</td>\n",
       "      <td>o</td>\n",
       "      <td>True</td>\n",
       "      <td>p</td>\n",
       "      <td>Ancient Okpeb of Remiabitks.— A Tent of the ab...</td>\n",
       "      <td>False</td>\n",
       "    </tr>\n",
       "    <tr>\n",
       "      <th>WI_18661215_ARTICLE14</th>\n",
       "      <td>True</td>\n",
       "      <td>contains report of lecture on 'philosophy of d...</td>\n",
       "      <td>True</td>\n",
       "      <td>o</td>\n",
       "      <td>True</td>\n",
       "      <td>p</td>\n",
       "      <td>ies. We would su^gost : to those who intend pa...</td>\n",
       "      <td>False</td>\n",
       "    </tr>\n",
       "    <tr>\n",
       "      <th>WI_18661215_ARTICLE14</th>\n",
       "      <td>True</td>\n",
       "      <td>contains report of lecture on 'philosophy of d...</td>\n",
       "      <td>True</td>\n",
       "      <td>o</td>\n",
       "      <td>True</td>\n",
       "      <td>p</td>\n",
       "      <td>inst Wilson o murdering llr JJobson, continued...</td>\n",
       "      <td>True</td>\n",
       "    </tr>\n",
       "    <tr>\n",
       "      <th>WI_18661215_ARTICLE14</th>\n",
       "      <td>True</td>\n",
       "      <td>contains report of lecture on 'philosophy of d...</td>\n",
       "      <td>True</td>\n",
       "      <td>o</td>\n",
       "      <td>True</td>\n",
       "      <td>p</td>\n",
       "      <td>ower called by Professor JVfaas of Halle, the ...</td>\n",
       "      <td>False</td>\n",
       "    </tr>\n",
       "    <tr>\n",
       "      <th>WI_18661215_ARTICLE14</th>\n",
       "      <td>True</td>\n",
       "      <td>contains report of lecture on 'philosophy of d...</td>\n",
       "      <td>True</td>\n",
       "      <td>o</td>\n",
       "      <td>True</td>\n",
       "      <td>p</td>\n",
       "      <td>believed that this matter had been already ?of...</td>\n",
       "      <td>False</td>\n",
       "    </tr>\n",
       "    <tr>\n",
       "      <th>WI_18661215_ARTICLE14</th>\n",
       "      <td>True</td>\n",
       "      <td>contains report of lecture on 'philosophy of d...</td>\n",
       "      <td>True</td>\n",
       "      <td>o</td>\n",
       "      <td>True</td>\n",
       "      <td>p</td>\n",
       "      <td>last says tho llawke's Bay Herald, Maika, a s...</td>\n",
       "      <td>False</td>\n",
       "    </tr>\n",
       "    <tr>\n",
       "      <th>WI_18661215_ARTICLE14</th>\n",
       "      <td>True</td>\n",
       "      <td>contains report of lecture on 'philosophy of d...</td>\n",
       "      <td>True</td>\n",
       "      <td>o</td>\n",
       "      <td>True</td>\n",
       "      <td>p</td>\n",
       "      <td>itory to attack Hawko's Hay; and that the Hau ...</td>\n",
       "      <td>False</td>\n",
       "    </tr>\n",
       "    <tr>\n",
       "      <th>WI_18661215_ARTICLE14</th>\n",
       "      <td>True</td>\n",
       "      <td>contains report of lecture on 'philosophy of d...</td>\n",
       "      <td>True</td>\n",
       "      <td>o</td>\n",
       "      <td>True</td>\n",
       "      <td>p</td>\n",
       "      <td>elf is :i very ! line one, with a\" beautiful s...</td>\n",
       "      <td>False</td>\n",
       "    </tr>\n",
       "    <tr>\n",
       "      <th>WI_18661215_ARTICLE14</th>\n",
       "      <td>True</td>\n",
       "      <td>contains report of lecture on 'philosophy of d...</td>\n",
       "      <td>True</td>\n",
       "      <td>o</td>\n",
       "      <td>True</td>\n",
       "      <td>p</td>\n",
       "      <td>n he expected, and having to swim nlmosfc the ...</td>\n",
       "      <td>False</td>\n",
       "    </tr>\n",
       "    <tr>\n",
       "      <th>WI_18661215_ARTICLE14</th>\n",
       "      <td>True</td>\n",
       "      <td>contains report of lecture on 'philosophy of d...</td>\n",
       "      <td>True</td>\n",
       "      <td>o</td>\n",
       "      <td>True</td>\n",
       "      <td>p</td>\n",
       "      <td>ie rush Jo the northern diggings is setting in...</td>\n",
       "      <td>False</td>\n",
       "    </tr>\n",
       "  </tbody>\n",
       "</table>\n",
       "</div>"
      ],
      "text/plain": [
       "                         NZ  \\\n",
       "WI_18661215_ARTICLE14  True   \n",
       "WI_18661215_ARTICLE14  True   \n",
       "WI_18661215_ARTICLE14  True   \n",
       "WI_18661215_ARTICLE14  True   \n",
       "WI_18661215_ARTICLE14  True   \n",
       "WI_18661215_ARTICLE14  True   \n",
       "WI_18661215_ARTICLE14  True   \n",
       "WI_18661215_ARTICLE14  True   \n",
       "WI_18661215_ARTICLE14  True   \n",
       "WI_18661215_ARTICLE14  True   \n",
       "\n",
       "                                                                   Notes  \\\n",
       "WI_18661215_ARTICLE14  contains report of lecture on 'philosophy of d...   \n",
       "WI_18661215_ARTICLE14  contains report of lecture on 'philosophy of d...   \n",
       "WI_18661215_ARTICLE14  contains report of lecture on 'philosophy of d...   \n",
       "WI_18661215_ARTICLE14  contains report of lecture on 'philosophy of d...   \n",
       "WI_18661215_ARTICLE14  contains report of lecture on 'philosophy of d...   \n",
       "WI_18661215_ARTICLE14  contains report of lecture on 'philosophy of d...   \n",
       "WI_18661215_ARTICLE14  contains report of lecture on 'philosophy of d...   \n",
       "WI_18661215_ARTICLE14  contains report of lecture on 'philosophy of d...   \n",
       "WI_18661215_ARTICLE14  contains report of lecture on 'philosophy of d...   \n",
       "WI_18661215_ARTICLE14  contains report of lecture on 'philosophy of d...   \n",
       "\n",
       "                      Philosophy Philosophy Type Readable Writing Type  \\\n",
       "WI_18661215_ARTICLE14       True               o     True            p   \n",
       "WI_18661215_ARTICLE14       True               o     True            p   \n",
       "WI_18661215_ARTICLE14       True               o     True            p   \n",
       "WI_18661215_ARTICLE14       True               o     True            p   \n",
       "WI_18661215_ARTICLE14       True               o     True            p   \n",
       "WI_18661215_ARTICLE14       True               o     True            p   \n",
       "WI_18661215_ARTICLE14       True               o     True            p   \n",
       "WI_18661215_ARTICLE14       True               o     True            p   \n",
       "WI_18661215_ARTICLE14       True               o     True            p   \n",
       "WI_18661215_ARTICLE14       True               o     True            p   \n",
       "\n",
       "                                                                    Text  \\\n",
       "WI_18661215_ARTICLE14  Ancient Okpeb of Remiabitks.— A Tent of the ab...   \n",
       "WI_18661215_ARTICLE14  ies. We would su^gost : to those who intend pa...   \n",
       "WI_18661215_ARTICLE14  inst Wilson o murdering llr JJobson, continued...   \n",
       "WI_18661215_ARTICLE14  ower called by Professor JVfaas of Halle, the ...   \n",
       "WI_18661215_ARTICLE14  believed that this matter had been already ?of...   \n",
       "WI_18661215_ARTICLE14   last says tho llawke's Bay Herald, Maika, a s...   \n",
       "WI_18661215_ARTICLE14  itory to attack Hawko's Hay; and that the Hau ...   \n",
       "WI_18661215_ARTICLE14  elf is :i very ! line one, with a\" beautiful s...   \n",
       "WI_18661215_ARTICLE14  n he expected, and having to swim nlmosfc the ...   \n",
       "WI_18661215_ARTICLE14  ie rush Jo the northern diggings is setting in...   \n",
       "\n",
       "                       Predicted  \n",
       "WI_18661215_ARTICLE14      False  \n",
       "WI_18661215_ARTICLE14      False  \n",
       "WI_18661215_ARTICLE14       True  \n",
       "WI_18661215_ARTICLE14      False  \n",
       "WI_18661215_ARTICLE14      False  \n",
       "WI_18661215_ARTICLE14      False  \n",
       "WI_18661215_ARTICLE14      False  \n",
       "WI_18661215_ARTICLE14      False  \n",
       "WI_18661215_ARTICLE14      False  \n",
       "WI_18661215_ARTICLE14      False  "
      ]
     },
     "execution_count": 155,
     "metadata": {},
     "output_type": "execute_result"
    }
   ],
   "source": [
    "test_chunks.loc['WI_18661215_ARTICLE14']"
   ]
  },
  {
   "cell_type": "markdown",
   "metadata": {},
   "source": [
    "We aggregate the items so that they are classed as philosophy if they have any philosophy blocks."
   ]
  },
  {
   "cell_type": "code",
   "execution_count": 157,
   "metadata": {},
   "outputs": [],
   "source": [
    "test_chunks = test_chunks.groupby(test_chunks.index).agg(\n",
    "    Text = (\"Text\", ''.join),\n",
    "    Predicted = (\"Predicted\", any)\n",
    ")\n",
    "\n",
    "test = test.drop('Predicted', axis=1).join(test_chunks['Predicted'])"
   ]
  },
  {
   "cell_type": "markdown",
   "metadata": {},
   "source": [
    "We look at the false positives."
   ]
  },
  {
   "cell_type": "code",
   "execution_count": 158,
   "metadata": {
    "scrolled": false
   },
   "outputs": [
    {
     "data": {
      "text/html": [
       "<div>\n",
       "<style scoped>\n",
       "    .dataframe tbody tr th:only-of-type {\n",
       "        vertical-align: middle;\n",
       "    }\n",
       "\n",
       "    .dataframe tbody tr th {\n",
       "        vertical-align: top;\n",
       "    }\n",
       "\n",
       "    .dataframe thead th {\n",
       "        text-align: right;\n",
       "    }\n",
       "</style>\n",
       "<table border=\"1\" class=\"dataframe\">\n",
       "  <thead>\n",
       "    <tr style=\"text-align: right;\">\n",
       "      <th></th>\n",
       "      <th>NZ</th>\n",
       "      <th>Notes</th>\n",
       "      <th>Philosophy</th>\n",
       "      <th>Philosophy Type</th>\n",
       "      <th>Readable</th>\n",
       "      <th>Writing Type</th>\n",
       "      <th>Text</th>\n",
       "      <th>Predicted</th>\n",
       "    </tr>\n",
       "  </thead>\n",
       "  <tbody>\n",
       "    <tr>\n",
       "      <th>DUNST_18980513_ARTICLE3</th>\n",
       "      <td>None</td>\n",
       "      <td></td>\n",
       "      <td>False</td>\n",
       "      <td>None</td>\n",
       "      <td>True</td>\n",
       "      <td>None</td>\n",
       "      <td>[(“ Weekly Press.”), There is something pathet...</td>\n",
       "      <td>True</td>\n",
       "    </tr>\n",
       "    <tr>\n",
       "      <th>ESD_18890912_ARTICLE37</th>\n",
       "      <td>None</td>\n",
       "      <td></td>\n",
       "      <td>False</td>\n",
       "      <td>None</td>\n",
       "      <td>True</td>\n",
       "      <td>None</td>\n",
       "      <td>[[By Onr. Special Reporters.!, OAMARU, Septemb...</td>\n",
       "      <td>True</td>\n",
       "    </tr>\n",
       "    <tr>\n",
       "      <th>WI_18480930_ARTICLE10</th>\n",
       "      <td>None</td>\n",
       "      <td></td>\n",
       "      <td>False</td>\n",
       "      <td>None</td>\n",
       "      <td>True</td>\n",
       "      <td>None</td>\n",
       "      <td>[[From the Examiner, September 23,] We printed...</td>\n",
       "      <td>True</td>\n",
       "    </tr>\n",
       "    <tr>\n",
       "      <th>LT_18801016_ARTICLE32</th>\n",
       "      <td>None</td>\n",
       "      <td></td>\n",
       "      <td>False</td>\n",
       "      <td>None</td>\n",
       "      <td>True</td>\n",
       "      <td>None</td>\n",
       "      <td>[1h i fallowing is the result of the Annuel Pa...</td>\n",
       "      <td>True</td>\n",
       "    </tr>\n",
       "    <tr>\n",
       "      <th>LWM_18981104_ARTICLE19</th>\n",
       "      <td>None</td>\n",
       "      <td></td>\n",
       "      <td>False</td>\n",
       "      <td>None</td>\n",
       "      <td>True</td>\n",
       "      <td>None</td>\n",
       "      <td>[The greater part of the lions exhibited ta th...</td>\n",
       "      <td>True</td>\n",
       "    </tr>\n",
       "    <tr>\n",
       "      <th>ODT_18820610_ARTICLE31</th>\n",
       "      <td>None</td>\n",
       "      <td>At end: complaint about 'freethinkers' writing...</td>\n",
       "      <td>False</td>\n",
       "      <td>None</td>\n",
       "      <td>True</td>\n",
       "      <td>None</td>\n",
       "      <td>[(Prom Otago Witness.) The political weather p...</td>\n",
       "      <td>True</td>\n",
       "    </tr>\n",
       "    <tr>\n",
       "      <th>TC_18630623_ARTICLE16</th>\n",
       "      <td>None</td>\n",
       "      <td></td>\n",
       "      <td>False</td>\n",
       "      <td>None</td>\n",
       "      <td>True</td>\n",
       "      <td>None</td>\n",
       "      <td>[Age op the Pyeajiids.—Mahmoud Bey, the astron...</td>\n",
       "      <td>True</td>\n",
       "    </tr>\n",
       "    <tr>\n",
       "      <th>WH_18740318_ARTICLE8</th>\n",
       "      <td>None</td>\n",
       "      <td></td>\n",
       "      <td>False</td>\n",
       "      <td>None</td>\n",
       "      <td>True</td>\n",
       "      <td>None</td>\n",
       "      <td>[(Communicate;!),, A very remarkable revival m...</td>\n",
       "      <td>True</td>\n",
       "    </tr>\n",
       "  </tbody>\n",
       "</table>\n",
       "</div>"
      ],
      "text/plain": [
       "                           NZ  \\\n",
       "DUNST_18980513_ARTICLE3  None   \n",
       "ESD_18890912_ARTICLE37   None   \n",
       "WI_18480930_ARTICLE10    None   \n",
       "LT_18801016_ARTICLE32    None   \n",
       "LWM_18981104_ARTICLE19   None   \n",
       "ODT_18820610_ARTICLE31   None   \n",
       "TC_18630623_ARTICLE16    None   \n",
       "WH_18740318_ARTICLE8     None   \n",
       "\n",
       "                                                                     Notes  \\\n",
       "DUNST_18980513_ARTICLE3                                                      \n",
       "ESD_18890912_ARTICLE37                                                       \n",
       "WI_18480930_ARTICLE10                                                        \n",
       "LT_18801016_ARTICLE32                                                        \n",
       "LWM_18981104_ARTICLE19                                                       \n",
       "ODT_18820610_ARTICLE31   At end: complaint about 'freethinkers' writing...   \n",
       "TC_18630623_ARTICLE16                                                        \n",
       "WH_18740318_ARTICLE8                                                         \n",
       "\n",
       "                        Philosophy Philosophy Type Readable Writing Type  \\\n",
       "DUNST_18980513_ARTICLE3      False            None     True         None   \n",
       "ESD_18890912_ARTICLE37       False            None     True         None   \n",
       "WI_18480930_ARTICLE10        False            None     True         None   \n",
       "LT_18801016_ARTICLE32        False            None     True         None   \n",
       "LWM_18981104_ARTICLE19       False            None     True         None   \n",
       "ODT_18820610_ARTICLE31       False            None     True         None   \n",
       "TC_18630623_ARTICLE16        False            None     True         None   \n",
       "WH_18740318_ARTICLE8         False            None     True         None   \n",
       "\n",
       "                                                                      Text  \\\n",
       "DUNST_18980513_ARTICLE3  [(“ Weekly Press.”), There is something pathet...   \n",
       "ESD_18890912_ARTICLE37   [[By Onr. Special Reporters.!, OAMARU, Septemb...   \n",
       "WI_18480930_ARTICLE10    [[From the Examiner, September 23,] We printed...   \n",
       "LT_18801016_ARTICLE32    [1h i fallowing is the result of the Annuel Pa...   \n",
       "LWM_18981104_ARTICLE19   [The greater part of the lions exhibited ta th...   \n",
       "ODT_18820610_ARTICLE31   [(Prom Otago Witness.) The political weather p...   \n",
       "TC_18630623_ARTICLE16    [Age op the Pyeajiids.—Mahmoud Bey, the astron...   \n",
       "WH_18740318_ARTICLE8     [(Communicate;!),, A very remarkable revival m...   \n",
       "\n",
       "                         Predicted  \n",
       "DUNST_18980513_ARTICLE3       True  \n",
       "ESD_18890912_ARTICLE37        True  \n",
       "WI_18480930_ARTICLE10         True  \n",
       "LT_18801016_ARTICLE32         True  \n",
       "LWM_18981104_ARTICLE19        True  \n",
       "ODT_18820610_ARTICLE31        True  \n",
       "TC_18630623_ARTICLE16         True  \n",
       "WH_18740318_ARTICLE8          True  "
      ]
     },
     "execution_count": 158,
     "metadata": {},
     "output_type": "execute_result"
    }
   ],
   "source": [
    "false_positives = test.loc[(test['Philosophy'] == False)&(test['Predicted'] == True)]\n",
    "false_positives"
   ]
  },
  {
   "cell_type": "markdown",
   "metadata": {},
   "source": [
    "And now the false negatives."
   ]
  },
  {
   "cell_type": "code",
   "execution_count": 160,
   "metadata": {},
   "outputs": [
    {
     "data": {
      "text/html": [
       "<div>\n",
       "<style scoped>\n",
       "    .dataframe tbody tr th:only-of-type {\n",
       "        vertical-align: middle;\n",
       "    }\n",
       "\n",
       "    .dataframe tbody tr th {\n",
       "        vertical-align: top;\n",
       "    }\n",
       "\n",
       "    .dataframe thead th {\n",
       "        text-align: right;\n",
       "    }\n",
       "</style>\n",
       "<table border=\"1\" class=\"dataframe\">\n",
       "  <thead>\n",
       "    <tr style=\"text-align: right;\">\n",
       "      <th></th>\n",
       "      <th>NZ</th>\n",
       "      <th>Notes</th>\n",
       "      <th>Philosophy</th>\n",
       "      <th>Philosophy Type</th>\n",
       "      <th>Readable</th>\n",
       "      <th>Writing Type</th>\n",
       "      <th>Text</th>\n",
       "      <th>Predicted</th>\n",
       "    </tr>\n",
       "  </thead>\n",
       "  <tbody>\n",
       "    <tr>\n",
       "      <th>NEM_18920804_ARTICLE37</th>\n",
       "      <td>None</td>\n",
       "      <td></td>\n",
       "      <td>True</td>\n",
       "      <td>o</td>\n",
       "      <td>True</td>\n",
       "      <td>f</td>\n",
       "      <td>[(From the Danedin Evening Star.) The resignat...</td>\n",
       "      <td>False</td>\n",
       "    </tr>\n",
       "    <tr>\n",
       "      <th>HBT_18650904_ARTICLE11</th>\n",
       "      <td>None</td>\n",
       "      <td>Mention of phil books in library</td>\n",
       "      <td>True</td>\n",
       "      <td>o</td>\n",
       "      <td>True</td>\n",
       "      <td>f</td>\n",
       "      <td>[t(OOD Woeds July, 1865 ; Sunday Magazine —Jul...</td>\n",
       "      <td>False</td>\n",
       "    </tr>\n",
       "  </tbody>\n",
       "</table>\n",
       "</div>"
      ],
      "text/plain": [
       "                          NZ                             Notes Philosophy  \\\n",
       "NEM_18920804_ARTICLE37  None                                         True   \n",
       "HBT_18650904_ARTICLE11  None  Mention of phil books in library       True   \n",
       "\n",
       "                       Philosophy Type Readable Writing Type  \\\n",
       "NEM_18920804_ARTICLE37               o     True            f   \n",
       "HBT_18650904_ARTICLE11               o     True            f   \n",
       "\n",
       "                                                                     Text  \\\n",
       "NEM_18920804_ARTICLE37  [(From the Danedin Evening Star.) The resignat...   \n",
       "HBT_18650904_ARTICLE11  [t(OOD Woeds July, 1865 ; Sunday Magazine —Jul...   \n",
       "\n",
       "                        Predicted  \n",
       "NEM_18920804_ARTICLE37      False  \n",
       "HBT_18650904_ARTICLE11      False  "
      ]
     },
     "execution_count": 160,
     "metadata": {},
     "output_type": "execute_result"
    }
   ],
   "source": [
    "false_negatives = test.loc[(test['Philosophy'] == True)&(test['Predicted'] == False)]\n",
    "\n",
    "false_negatives"
   ]
  },
  {
   "cell_type": "code",
   "execution_count": null,
   "metadata": {},
   "outputs": [],
   "source": [
    "NEM_18920804_ARTICLE37 \tNone \t\tTrue \to \tTrue \t(From the Danedin Evening Star.) The resignati... \tf \tFalse\n",
    "LT_18860204_ARTICLE16 \tTrue \tfirst paragraph \tTrue \te \tTrue \tSie Julius Vogel has been declared elementary ... \tf \tFalse\n",
    "HBT_18650904_ARTICLE11 \tNone \tMention of phil books in library \tTrue \to \tTrue \tt(OOD Woeds July, 1865 ; Sunday Magazine —July... \tf \tFalse\n",
    "WI_18661215_ARTICLE14 \tTrue \tcontains report of lecture on 'philosophy of d... \tTrue"
   ]
  },
  {
   "cell_type": "markdown",
   "metadata": {},
   "source": [
    "More are being misclassified, but we did get out composite items. Here, we could again generate a confusion matrix to work out accuracy, recall, and precision."
   ]
  },
  {
   "cell_type": "markdown",
   "metadata": {},
   "source": [
    "## Apply to Whole Dataset"
   ]
  },
  {
   "cell_type": "markdown",
   "metadata": {},
   "source": [
    "This section takes the classifier and applies it to the processed dataset to produce a new candidate corpus. It may be convenient here to load a previously-fit model."
   ]
  },
  {
   "cell_type": "code",
   "execution_count": 108,
   "metadata": {},
   "outputs": [],
   "source": [
    "with open(f'../Classifiers/classifier_{ITERATION}.tar.gz', 'rb') as fin:\n",
    "  best_classifier = pickle.load(fin)"
   ]
  },
  {
   "cell_type": "markdown",
   "metadata": {},
   "source": [
    "We will be filtering out short articles from each of the slices of the processed data. These are often misclassified (and, indeed, assigned to the positive category in the case of a binary classification) and tend to clutter the new candidate corpus. This filtering is facilitated with helper functions."
   ]
  },
  {
   "cell_type": "code",
   "execution_count": 113,
   "metadata": {},
   "outputs": [],
   "source": [
    "def filter_short_articles(string):\n",
    "    if len(string)<800:\n",
    "        string = ''\n",
    "    return string\n",
    "\n",
    "\n",
    "\n",
    "def apply_classifier(classifier, df):\n",
    "    features = (\n",
    "        df['Text']\n",
    "        .map(blocks2string)\n",
    "        .map(filter_short_articles)\n",
    "    )\n",
    "    features.drop(features[features==''].index, inplace=True) # remove empty strings\n",
    "    predictions = pd.Series(data=best_classifier.predict(features))\n",
    "    predictions.index = features.index\n",
    "    # Select title and text columns classified as True.\n",
    "    wanted_items = df[['Title', 'Text']].loc[predictions[predictions].index] \n",
    "    return wanted_items\n",
    "    "
   ]
  },
  {
   "cell_type": "markdown",
   "metadata": {},
   "source": [
    "We now iterate through the processed data to produce a new candidate dataframe. ***TODO: run in parallel.***"
   ]
  },
  {
   "cell_type": "code",
   "execution_count": 114,
   "metadata": {},
   "outputs": [
    {
     "name": "stdout",
     "output_type": "stream",
     "text": [
      "Loading corpus slice 0\n",
      "Loading corpus slice 1\n",
      "Loading corpus slice 2\n",
      "Loading corpus slice 3\n",
      "Loading corpus slice 4\n",
      "Loading corpus slice 5\n",
      "Loading corpus slice 6\n",
      "Loading corpus slice 7\n",
      "Loading corpus slice 8\n",
      "Loading corpus slice 9\n",
      "Loading corpus slice 10\n",
      "Loading corpus slice 11\n",
      "Loading corpus slice 12\n",
      "Loading corpus slice 13\n",
      "Loading corpus slice 14\n",
      "Loading corpus slice 15\n",
      "Loading corpus slice 16\n",
      "Loading corpus slice 17\n",
      "Loading corpus slice 18\n",
      "Loading corpus slice 19\n",
      "Loading corpus slice 20\n",
      "Loading corpus slice 21\n",
      "Loading corpus slice 22\n",
      "Loading corpus slice 23\n",
      "Loading corpus slice 24\n",
      "Loading corpus slice 25\n"
     ]
    }
   ],
   "source": [
    "slices = 26 # number of slices into which dataset was processed.\n",
    "\n",
    "candidate_item_dfs = []\n",
    "for i in range(slices):\n",
    "    print(f\"Loading corpus slice {i}\")\n",
    "    df = pd.read_pickle(f'../Dataset/processed-data/corpus_df_{i}.tar.gz')\n",
    "    candidate_items = apply_classifier(best_classifier, df)\n",
    "    candidate_item_dfs.append(candidate_items)\n",
    "    del df\n",
    "        \n",
    "candidate_corpus = pd.concat(candidate_item_dfs)"
   ]
  },
  {
   "cell_type": "code",
   "execution_count": 115,
   "metadata": {},
   "outputs": [
    {
     "data": {
      "text/html": [
       "<div>\n",
       "<style scoped>\n",
       "    .dataframe tbody tr th:only-of-type {\n",
       "        vertical-align: middle;\n",
       "    }\n",
       "\n",
       "    .dataframe tbody tr th {\n",
       "        vertical-align: top;\n",
       "    }\n",
       "\n",
       "    .dataframe thead th {\n",
       "        text-align: right;\n",
       "    }\n",
       "</style>\n",
       "<table border=\"1\" class=\"dataframe\">\n",
       "  <thead>\n",
       "    <tr style=\"text-align: right;\">\n",
       "      <th></th>\n",
       "      <th>Title</th>\n",
       "      <th>Text</th>\n",
       "    </tr>\n",
       "  </thead>\n",
       "  <tbody>\n",
       "    <tr>\n",
       "      <th>LCP_18750115_ARTICLE9</th>\n",
       "      <td>THE GLASGOW POLICE CELLS.</td>\n",
       "      <td>[The special correspondent of. the Daily News ...</td>\n",
       "    </tr>\n",
       "    <tr>\n",
       "      <th>LCP_18750212_ARTICLE3</th>\n",
       "      <td>UNTITLED</td>\n",
       "      <td>[The AVEB4GE Barber.— He is in a state of pers...</td>\n",
       "    </tr>\n",
       "    <tr>\n",
       "      <th>LCP_18750212_ARTICLE11</th>\n",
       "      <td>THE ORIGIN OF TYPHOID FEVER.</td>\n",
       "      <td>[Recent outbreaks of zymotic diseases in Engla...</td>\n",
       "    </tr>\n",
       "    <tr>\n",
       "      <th>LCP_18750220_ARTICLE3</th>\n",
       "      <td>The Arrow Observer, AND LAKES DISTRICT CHRONIC...</td>\n",
       "      <td>[The year of 1875 is now fairly fleeting on it...</td>\n",
       "    </tr>\n",
       "    <tr>\n",
       "      <th>LCP_18750227_ARTICLE10</th>\n",
       "      <td>Volunteers.</td>\n",
       "      <td>[TO THE EDITOR ARROW OBSERVER. Sir,—l have lon...</td>\n",
       "    </tr>\n",
       "    <tr>\n",
       "      <th>...</th>\n",
       "      <td>...</td>\n",
       "      <td>...</td>\n",
       "    </tr>\n",
       "    <tr>\n",
       "      <th>MS_18840421_ARTICLE19</th>\n",
       "      <td>A Thoughtful Husband.</td>\n",
       "      <td>[A Detroit lady who is.(A«^jficf .'jjto heart...</td>\n",
       "    </tr>\n",
       "    <tr>\n",
       "      <th>MS_18840919_ARTICLE12</th>\n",
       "      <td>CORRESPONDENCE.</td>\n",
       "      <td>[Mr Bonn In Reply., (TO THE EDITOR OP THB STAN...</td>\n",
       "    </tr>\n",
       "    <tr>\n",
       "      <th>MS_18840214_ARTICLE3</th>\n",
       "      <td>Manawatu Standard (PUBLISHED DAILY.) Suivant l...</td>\n",
       "      <td>[Ii is some relief to know that an effort is t...</td>\n",
       "    </tr>\n",
       "    <tr>\n",
       "      <th>MS_18840407_ARTICLE16</th>\n",
       "      <td>Spiritualism in Woodville.</td>\n",
       "      <td>[(Oorreepondent of Exchange.), have been field...</td>\n",
       "    </tr>\n",
       "    <tr>\n",
       "      <th>MS_18840407_ARTICLE18</th>\n",
       "      <td>A Strange Incident.</td>\n",
       "      <td>[: On the subject of- vists of the living to t...</td>\n",
       "    </tr>\n",
       "  </tbody>\n",
       "</table>\n",
       "<p>197352 rows × 2 columns</p>\n",
       "</div>"
      ],
      "text/plain": [
       "                                                                    Title  \\\n",
       "LCP_18750115_ARTICLE9                           THE GLASGOW POLICE CELLS.   \n",
       "LCP_18750212_ARTICLE3                                            UNTITLED   \n",
       "LCP_18750212_ARTICLE11                       THE ORIGIN OF TYPHOID FEVER.   \n",
       "LCP_18750220_ARTICLE3   The Arrow Observer, AND LAKES DISTRICT CHRONIC...   \n",
       "LCP_18750227_ARTICLE10                                        Volunteers.   \n",
       "...                                                                   ...   \n",
       "MS_18840421_ARTICLE19                               A Thoughtful Husband.   \n",
       "MS_18840919_ARTICLE12                                     CORRESPONDENCE.   \n",
       "MS_18840214_ARTICLE3    Manawatu Standard (PUBLISHED DAILY.) Suivant l...   \n",
       "MS_18840407_ARTICLE16                          Spiritualism in Woodville.   \n",
       "MS_18840407_ARTICLE18                                 A Strange Incident.   \n",
       "\n",
       "                                                                     Text  \n",
       "LCP_18750115_ARTICLE9   [The special correspondent of. the Daily News ...  \n",
       "LCP_18750212_ARTICLE3   [The AVEB4GE Barber.— He is in a state of pers...  \n",
       "LCP_18750212_ARTICLE11  [Recent outbreaks of zymotic diseases in Engla...  \n",
       "LCP_18750220_ARTICLE3   [The year of 1875 is now fairly fleeting on it...  \n",
       "LCP_18750227_ARTICLE10  [TO THE EDITOR ARROW OBSERVER. Sir,—l have lon...  \n",
       "...                                                                   ...  \n",
       "MS_18840421_ARTICLE19   [A Detroit lady who is.(A«^jficf .'jjto heart...  \n",
       "MS_18840919_ARTICLE12   [Mr Bonn In Reply., (TO THE EDITOR OP THB STAN...  \n",
       "MS_18840214_ARTICLE3    [Ii is some relief to know that an effort is t...  \n",
       "MS_18840407_ARTICLE16   [(Oorreepondent of Exchange.), have been field...  \n",
       "MS_18840407_ARTICLE18   [: On the subject of- vists of the living to t...  \n",
       "\n",
       "[197352 rows x 2 columns]"
      ]
     },
     "execution_count": 115,
     "metadata": {},
     "output_type": "execute_result"
    }
   ],
   "source": [
    "candidate_corpus"
   ]
  },
  {
   "cell_type": "markdown",
   "metadata": {},
   "source": [
    "So the first iteration produces a dataframe with around 200,000 items. We save it:"
   ]
  },
  {
   "cell_type": "code",
   "execution_count": 117,
   "metadata": {},
   "outputs": [],
   "source": [
    "candidate_corpus.to_pickle(f'../Corpora/candidate_corpus_{ITERATION}.tar.gz')"
   ]
  },
  {
   "cell_type": "markdown",
   "metadata": {},
   "source": [
    "## Next Step"
   ]
  },
  {
   "cell_type": "markdown",
   "metadata": {},
   "source": [
    "We now have a new `candidate_corpus` dataframe and can return to the \"Corpus Evaluation\" notebook."
   ]
  }
 ],
 "metadata": {
  "kernelspec": {
   "display_name": "Python 3 (ipykernel)",
   "language": "python",
   "name": "python3"
  },
  "language_info": {
   "codemirror_mode": {
    "name": "ipython",
    "version": 3
   },
   "file_extension": ".py",
   "mimetype": "text/x-python",
   "name": "python",
   "nbconvert_exporter": "python",
   "pygments_lexer": "ipython3",
   "version": "3.9.7"
  }
 },
 "nbformat": 4,
 "nbformat_minor": 4
}
